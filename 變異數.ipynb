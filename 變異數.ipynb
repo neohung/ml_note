{
 "cells": [
  {
   "cell_type": "markdown",
   "metadata": {},
   "source": [
    "# Variance"
   ]
  },
  {
   "cell_type": "markdown",
   "metadata": {},
   "source": [
    "***\n",
    "一個隨機變數的變異數(Variance , $\\sigma^2$)描述的是它的離散程度，也就是該變數離其期望值$\\mu$的距離  \n",
    "說白了，就是將各個誤差將之平方，相加之後再除以總數\n",
    "變異數的正平方根稱為該隨機變數的標準差($\\sigma$)  \n",
    "***\n",
    "$Var(X) = \\sigma^2 = \\sigma_X^2 = E[(X-\\mu)^2]$  \n",
    "因為$\\mu=E[X]$  \n",
    "展開 $Var(X) = E[X^2-2X\\mu+\\mu^2] = E[X^2-2XE[X]+E[X]^2]$  \n",
    "$&nbsp&nbsp$ $= E[X^2] + E[X]^2 - 2E[X]E[X] = E[X^2] - (E[X])^2$  \n",
    "\n",
    "連續型:  \n",
    "$Var(X) = \\sigma^2 = \\int(x-\\mu)^2f(x)dx = \\int x^2f(x)dx-\\mu^2 $  \n",
    "這裡  \n",
    "$\\mu=\\int xf(x)dx$\n",
    "\n",
    "離散型:  \n",
    "$Var(X)=\\sum_{i=1}^np_i*(x_i-\\mu)^2 = \\sum_{i=1}^n(p_i*x_i^2)-\\mu^2$  \n",
    "這裡  \n",
    "$\\mu=\\sum_{i=1}^n p_i*x_i$\n",
    "\n",
    "\n",
    "Varance特性:\n",
    "- 變異數不會是負的  \n",
    "$Var(X) \\geq 0$\n",
    "- 變異數為零表示所有項目皆為相同數值  \n",
    "$Var(X)=0 \\Leftrightarrow P(X=a)=1$  \n",
    "- 一個常數被加至所有變數值，此數列的不會改變  \n",
    "$Var(X+a) = Var(X)$\n",
    "- 變數值放大常數倍, 變異數放大常數平方倍  \n",
    "$Var(aX) = a^2Var(X)$\n",
    "- 兩個隨機變數的組合\n",
    "$Var(aX+bY) = a^2Var(X)+b^2Var(Y) + 2ab*Cov(X,Y)$  \n",
    "此數Cov(...)代表共變異數\n",
    "\n",
    "***"
   ]
  },
  {
   "cell_type": "code",
   "execution_count": null,
   "metadata": {},
   "outputs": [],
   "source": []
  }
 ],
 "metadata": {
  "kernelspec": {
   "display_name": "myKernel",
   "language": "python",
   "name": "mykernel"
  },
  "language_info": {
   "codemirror_mode": {
    "name": "ipython",
    "version": 3
   },
   "file_extension": ".py",
   "mimetype": "text/x-python",
   "name": "python",
   "nbconvert_exporter": "python",
   "pygments_lexer": "ipython3",
   "version": "3.6.7"
  }
 },
 "nbformat": 4,
 "nbformat_minor": 2
}
