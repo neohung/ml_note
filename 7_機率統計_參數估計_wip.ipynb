{
 "cells": [
  {
   "cell_type": "markdown",
   "metadata": {},
   "source": [
    "# 參數估計 (parameter estimation)  \n",
    "- 點估計\n",
    "  1. Maximum Likelihood Estimation (MLE)\n",
    "- 區間估計\n",
    "\n",
    "***\n",
    "ggplot2.sparkR畫圖可以學  \n",
    "Charles Minard map  \n",
    "Sankey Diagram 桑基能量圖  \n",
    "tableplot 大數據可以看比較清楚"
   ]
  },
  {
   "cell_type": "markdown",
   "metadata": {},
   "source": [
    "Suppose the sample are iid from a distribution with density function $f(X|\\theta)$ where $\\theta$ is a parameter  \n",
    "Likelihood Function: a conditional probability of observing the sample, given $\\theta$.  \n",
    "$L(\\theta)$ = $\\prod_{i=1}^nf(x_i|\\theta)$  \n",
    "$\\theta$ could be a vector $[ \\theta_1,....\\theta_p ]$  \n",
    "Log Likelihood Function:  \n",
    "$Log(L(\\theta))$ = $\\prod_{i=1}^nlogf(x_i|\\theta)$  "
   ]
  },
  {
   "cell_type": "markdown",
   "metadata": {},
   "source": [
    "Maximum Likelihood Estimation (MLE)  \n",
    "- By maximizing the likelihood function $L(\\theta)$ with respect to $\\theta$, we are looking for the most likely value of $\\theta$ given the sample data.  \n",
    "- $\\Theta$: parameter space of possible value of $\\theta$  \n",
    "- If max L($\\theta$) exists and it occur at a unique point $\\hat\\theta \\in \\Theta$, then $\\hat\\theta$ called maxium likelihood estimater of $\\theta$.  \n",
    "$\\frac{\\partial L(\\theta)}{\\partial{\\theta}}=0$ , $\\frac{\\partial^2 L(\\theta)}{\\partial{\\theta^2}}$<0"
   ]
  },
  {
   "cell_type": "markdown",
   "metadata": {},
   "source": [
    "$X_1,....,X_n$ ~ $i.i.d. N(\\mu,\\sigma^2)$,  \n",
    "$f(x| \\mu,\\sigma^2 ) = \\frac{1}{\\sqrt{2\\pi\\sigma^2}}exp(-{\\frac{(x-\\mu)^2}{2\\sigma^2}})$  \n",
    "Likelihood Function:  \n",
    "$f(x_1,....x_n| \\mu,\\sigma^2 ) = \\prod_{i=1}^nf(x_i|\\theta)$  \n",
    "= $ (\\frac{1}{2\\pi\\sigma^2})^{\\frac{n}{2}}exp(-{\\frac{\\sum_{i=1}^n(x_i-\\mu)^2}{2\\sigma^2}}) $   \n",
    "$Log(L(\\mu,\\sigma))$ = $(n/2)log(2\\pi\\sigma^2)$ - $\\frac{1}{2\\sigma^2} \\sum_{i=1}^n(x_i-\\mu)^2$  \n",
    "***\n",
    "對$\\mu$偏微分  \n",
    "$\\frac{\\partial log(L(\\mu,\\sigma))}{\\partial{\\mu}}= 0 - \\frac{1}{2\\sigma^2} \\sum_{i=1}^n2(x_i-\\mu)(-1)$  \n",
    "$=\\frac{1}{\\sigma^2} \\sum_{i=1}^n(x_i-\\mu)$  \n",
    "令=0 得:  \n",
    "$\\sum_{i=1}^n(x_i - \\mu) = \\sum_{i=1}^n(x_i)-n\\mu = 0$  \n",
    "所以$\\mu$的MLE  \n",
    "$\\hat\\mu = \\overline{x} = \\frac{\\sum_{i=1}^n(x_i)}{n} $  \n",
    "\n",
    "E[$\\hat\\mu$] = $\\mu$\n",
    "***\n",
    "對$\\sigma^2$偏微分  \n",
    "\n",
    "$\\frac{\\partial log(\\frac{1}{2\\pi\\sigma^2}^{\\frac{n}{2}} exp(-{\\frac{\\sum_{i=1}^n(x-\\mu)^2}{2\\sigma^2}}))}{\\partial \\sigma^2}$  \n",
    "= $\\frac{\\partial}{\\partial \\sigma} ((n/2)log(2\\pi\\sigma^2)$ - $\\frac{1}{2\\sigma^2} \\sum_{i=1}^n(x_i-\\mu)^2)$  \n",
    "= $-\\frac{n}{2\\sigma^2} + \\frac{1}{2(\\sigma^2)^2} \\sum_{i=1}^n(x_i-\\mu)^2) = -\\frac{1}{2\\sigma^2} [ n - \\frac{1}{\\sigma^2} \\sum_{i=1}^n(x_i-\\mu)^2)]$   \n",
    "= 0  \n",
    "整理上式   \n",
    "$n - \\frac{1}{\\sigma^2} \\sum_{i=1}^n(x_i-\\mu)^2) = 0$  \n",
    "得  \n",
    "$\\hat\\sigma^2 = \\frac{1}{n} \\sum_{i=1}^n(x_i-\\hat\\mu)^2)$\n",
    "\n",
    "因為是偏移的。\n",
    "所以調整$\\frac{n}{n-1}\\hat\\sigma^2$ 成為無偏的\n",
    "\n",
    "\n",
    "\n",
    "\n",
    "\n",
    "\n"
   ]
  },
  {
   "cell_type": "markdown",
   "metadata": {},
   "source": [
    "***\n",
    "假設$X_1,X_2,....X_n$是成功機率p的Bernoulli試驗, 求p的MLE"
   ]
  },
  {
   "cell_type": "markdown",
   "metadata": {},
   "source": [
    "首先  \n",
    "$X_i$=1 表示pass  \n",
    "$X_i$=0 表示fail  \n",
    "\n",
    "\n",
    "$X_i$的pmf:  \n",
    "$p(x_i|p)=p^{x_i}*(1-p)^{1-x_i}, 其中x_i=0,1$  \n",
    "\n",
    "Likelihood Function:  \n",
    "$L(p)= L(x_1,...x_n|p) = \\prod_{i=1}^n[p^{x_i}(1-p)^{1-x_i}]$  \n",
    "=$p^{\\sum_{i=1}^nx_i}(1-p)^{n-\\sum_{i=1}^nx_i}$  \n",
    "令$S_n=X_1+....X_n$  \n",
    "=$p^{S_n}(1-p)^{n-S_n}$  \n",
    "取ln()  \n",
    "ln($p^{S_n}(1-p)^{n-S_n}$) = $S_n ln(p) + (n-S_n) ln(1-p)$  \n",
    "偏微分  \n",
    "$\\frac{\\partial}{\\partial p}$ $[S_n ln(p) + (n-S_n) ln(1-p)]$  \n",
    "令 $\\frac{S_n}{p} + \\frac{n-S_n}{1-p}(-1) = 0$  \n",
    "$\\frac{S_n-np}{p(1-p)} = 0 $  得 $p=\\frac{S_n}{n} = \\frac{X_1+...X_n}{n}$  \n",
    "\n",
    "所以 p的MLE  \n",
    "$\\hat{p}$ = $\\frac{X_1+...X_n}{n}$ \n"
   ]
  },
  {
   "cell_type": "markdown",
   "metadata": {},
   "source": []
  },
  {
   "cell_type": "markdown",
   "metadata": {},
   "source": []
  },
  {
   "cell_type": "code",
   "execution_count": null,
   "metadata": {},
   "outputs": [],
   "source": []
  }
 ],
 "metadata": {
  "kernelspec": {
   "display_name": "myKernel",
   "language": "python",
   "name": "mykernel"
  },
  "language_info": {
   "codemirror_mode": {
    "name": "ipython",
    "version": 3
   },
   "file_extension": ".py",
   "mimetype": "text/x-python",
   "name": "python",
   "nbconvert_exporter": "python",
   "pygments_lexer": "ipython3",
   "version": "3.6.7"
  }
 },
 "nbformat": 4,
 "nbformat_minor": 2
}
