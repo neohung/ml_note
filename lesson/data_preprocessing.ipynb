{
 "cells": [
  {
   "cell_type": "markdown",
   "metadata": {},
   "source": [
    "# Data Preprocessing  \n"
   ]
  },
  {
   "cell_type": "code",
   "execution_count": 1,
   "metadata": {},
   "outputs": [],
   "source": [
    "import pandas as pd\n",
    "import numpy as np"
   ]
  },
  {
   "cell_type": "code",
   "execution_count": 79,
   "metadata": {},
   "outputs": [
    {
     "name": "stdout",
     "output_type": "stream",
     "text": [
      "['Id' 'MSSubClass' 'MSZoning' 'LotFrontage' 'LotArea' 'Street' 'Alley'\n",
      " 'LotShape' 'LandContour' 'Utilities' 'LotConfig' 'LandSlope'\n",
      " 'Neighborhood' 'Condition1' 'Condition2' 'BldgType' 'HouseStyle'\n",
      " 'OverallQual' 'OverallCond' 'YearBuilt' 'YearRemodAdd' 'RoofStyle'\n",
      " 'RoofMatl' 'Exterior1st' 'Exterior2nd' 'MasVnrType' 'MasVnrArea'\n",
      " 'ExterQual' 'ExterCond' 'Foundation' 'BsmtQual' 'BsmtCond' 'BsmtExposure'\n",
      " 'BsmtFinType1' 'BsmtFinSF1' 'BsmtFinType2' 'BsmtFinSF2' 'BsmtUnfSF'\n",
      " 'TotalBsmtSF' 'Heating' 'HeatingQC' 'CentralAir' 'Electrical' '1stFlrSF'\n",
      " '2ndFlrSF' 'LowQualFinSF' 'GrLivArea' 'BsmtFullBath' 'BsmtHalfBath'\n",
      " 'FullBath' 'HalfBath' 'BedroomAbvGr' 'KitchenAbvGr' 'KitchenQual'\n",
      " 'TotRmsAbvGrd' 'Functional' 'Fireplaces' 'FireplaceQu' 'GarageType'\n",
      " 'GarageYrBlt' 'GarageFinish' 'GarageCars' 'GarageArea' 'GarageQual'\n",
      " 'GarageCond' 'PavedDrive' 'WoodDeckSF' 'OpenPorchSF' 'EnclosedPorch'\n",
      " '3SsnPorch' 'ScreenPorch' 'PoolArea' 'PoolQC' 'Fence' 'MiscFeature'\n",
      " 'MiscVal' 'MoSold' 'YrSold' 'SaleType' 'SaleCondition' 'SalePrice']\n"
     ]
    }
   ],
   "source": [
    "data = pd.read_csv('./data.csv')\n",
    "data2 = pd.read_csv('./data2.csv')\n",
    "# 印出 Column Name\n",
    "print(data.columns.values)\n",
    "# data 的 SalePrice 取出放到y不放回\n",
    "y = data.pop('SalePrice').values\n",
    "X = data.iloc[:,1:]"
   ]
  },
  {
   "cell_type": "markdown",
   "metadata": {},
   "source": [
    "### 以HouseStyle為例, 先看屬性類別有哪幾種"
   ]
  },
  {
   "cell_type": "code",
   "execution_count": 65,
   "metadata": {},
   "outputs": [
    {
     "name": "stdout",
     "output_type": "stream",
     "text": [
      "Nan size: 0\n"
     ]
    },
    {
     "data": {
      "text/plain": [
       "1Story    726\n",
       "2Story    445\n",
       "1.5Fin    154\n",
       "SLvl       65\n",
       "SFoyer     37\n",
       "1.5Unf     14\n",
       "2.5Unf     11\n",
       "2.5Fin      8\n",
       "Name: HouseStyle, dtype: int64"
      ]
     },
     "execution_count": 65,
     "metadata": {},
     "output_type": "execute_result"
    }
   ],
   "source": [
    "print(\"Nan size: %d\" %X['HouseStyle'].isnull().sum(axis = 0))\n",
    "X['HouseStyle'].value_counts()"
   ]
  },
  {
   "cell_type": "markdown",
   "metadata": {},
   "source": [
    "### 用OneHotEncoder 製造dense array取代原來的標籤類別\n",
    "```python\n",
    "from sklearn.preprocessing import OneHotEncoder\n",
    "```\n",
    "- 記得要設定 sparse=False  \n",
    "- handle_unknown='ignore' 表示如果有沒出現過的類別標籤時, 會用0向量不會警告, Nan也是當作0向量  \n",
    "- fit或fit_transform建立完之後, 只需要用transform()轉換即可不需重新建立  "
   ]
  },
  {
   "cell_type": "code",
   "execution_count": 160,
   "metadata": {},
   "outputs": [
    {
     "name": "stdout",
     "output_type": "stream",
     "text": [
      "[[0. 0. 0. ... 1. 0. 0.]\n",
      " [0. 0. 1. ... 0. 0. 0.]\n",
      " [0. 0. 0. ... 1. 0. 0.]\n",
      " ...\n",
      " [0. 0. 0. ... 1. 0. 0.]\n",
      " [0. 0. 1. ... 0. 0. 0.]\n",
      " [0. 0. 1. ... 0. 0. 0.]]\n"
     ]
    }
   ],
   "source": [
    "from sklearn.preprocessing import OneHotEncoder\n",
    "hs = X[['HouseStyle']].copy()\n",
    "one = OneHotEncoder(sparse=False, handle_unknown='ignore')\n",
    "hs_fit_transform = one.fit_transform(hs)\n",
    "print(hs_fit_transform)\n",
    "X2 = data2.iloc[:,1:-1]\n",
    "hs2_transform=one.transform(X2[['HouseStyle']])"
   ]
  },
  {
   "cell_type": "markdown",
   "metadata": {},
   "source": [
    "#### get_feature_names()可以輸出各維度名稱  \n",
    "#### inverse_transform()可以反轉換\n"
   ]
  },
  {
   "cell_type": "code",
   "execution_count": 212,
   "metadata": {},
   "outputs": [
    {
     "ename": "IndexError",
     "evalue": "boolean index did not match indexed array along dimension 0; dimension is 9 but corresponding boolean dimension is 8",
     "output_type": "error",
     "traceback": [
      "\u001b[0;31m---------------------------------------------------------------------------\u001b[0m",
      "\u001b[0;31mIndexError\u001b[0m                                Traceback (most recent call last)",
      "\u001b[0;32m<ipython-input-212-56df2633214d>\u001b[0m in \u001b[0;36m<module>\u001b[0;34m\u001b[0m\n\u001b[1;32m      1\u001b[0m \u001b[0mfeatures_name\u001b[0m \u001b[0;34m=\u001b[0m \u001b[0mone\u001b[0m\u001b[0;34m.\u001b[0m\u001b[0mget_feature_names\u001b[0m\u001b[0;34m(\u001b[0m\u001b[0;34m)\u001b[0m\u001b[0;34m\u001b[0m\u001b[0;34m\u001b[0m\u001b[0m\n\u001b[1;32m      2\u001b[0m \u001b[0;31m# 可以用get_feature_names加上條件判斷式輸出\u001b[0m\u001b[0;34m\u001b[0m\u001b[0;34m\u001b[0m\u001b[0;34m\u001b[0m\u001b[0m\n\u001b[0;32m----> 3\u001b[0;31m \u001b[0mfeatures_name\u001b[0m\u001b[0;34m[\u001b[0m\u001b[0mhs_fit_transform\u001b[0m\u001b[0;34m[\u001b[0m\u001b[0;36m0\u001b[0m\u001b[0;34m]\u001b[0m\u001b[0;34m==\u001b[0m\u001b[0;36m1\u001b[0m\u001b[0;34m]\u001b[0m\u001b[0;34m\u001b[0m\u001b[0;34m\u001b[0m\u001b[0m\n\u001b[0m\u001b[1;32m      4\u001b[0m \u001b[0;31m#也可以直接反轉換\u001b[0m\u001b[0;34m\u001b[0m\u001b[0;34m\u001b[0m\u001b[0;34m\u001b[0m\u001b[0m\n\u001b[1;32m      5\u001b[0m \u001b[0mone\u001b[0m\u001b[0;34m.\u001b[0m\u001b[0minverse_transform\u001b[0m\u001b[0;34m(\u001b[0m\u001b[0;34m[\u001b[0m\u001b[0mhs_fit_transform\u001b[0m\u001b[0;34m[\u001b[0m\u001b[0;36m0\u001b[0m\u001b[0;34m]\u001b[0m\u001b[0;34m]\u001b[0m\u001b[0;34m)\u001b[0m\u001b[0;34m\u001b[0m\u001b[0;34m\u001b[0m\u001b[0m\n",
      "\u001b[0;31mIndexError\u001b[0m: boolean index did not match indexed array along dimension 0; dimension is 9 but corresponding boolean dimension is 8"
     ]
    }
   ],
   "source": [
    "features_name = one.get_feature_names()\n",
    "# 可以用get_feature_names加上條件判斷式輸出\n",
    "features_name[hs_fit_transform[0]==1]\n",
    "#也可以直接反轉換\n",
    "one.inverse_transform([hs_fit_transform[0]])\n",
    "#one.inverse_transform([hs2[0]])"
   ]
  },
  {
   "cell_type": "markdown",
   "metadata": {},
   "source": [
    "## Must impute missing values  \n",
    "- 對於fit/fit_transform 後的資料, 只要有設定handle_unknown='ignore'  \n",
    "缺失值會用0向量表示\n",
    "- 但fit/fit_transform的資料如果有缺失值, 就會有問題  \n",
    "這時候要用SimpleImputer先把資料補起來  \n",
    "\n",
    "```python\n",
    "from sklearn.impute import SimpleImputer\n",
    "```  \n",
    "\n",
    "- strategy='constant', fill_value='MISSING' 表示遇到缺失值用定值'MISSING'來補  \n"
   ]
  },
  {
   "cell_type": "code",
   "execution_count": 187,
   "metadata": {},
   "outputs": [
    {
     "name": "stdout",
     "output_type": "stream",
     "text": [
      "size: 1459\n",
      "{'MISSING': 1, '1Story': 744, '2Story': 427, 'SLvl': 63, '1.5Fin': 160, 'SFoyer': 46, '2.5Unf': 13, '1.5Unf': 5}\n"
     ]
    }
   ],
   "source": [
    "from sklearn.impute import SimpleImputer\n",
    "si = SimpleImputer(strategy='constant', fill_value='MISSING')\n",
    "hs2 = X2['HouseStyle'].copy()\n",
    "\n",
    "# numpy計算\n",
    "def count_classes(sets):\n",
    "    count_dict = {}\n",
    "    for row in sets:\n",
    "        if row not in count_dict:\n",
    "            count_dict[row] = 0\n",
    "        count_dict[row] += 1\n",
    "    print('size: %d' % sum(count_dict.values()))\n",
    "    print(count_dict)\n",
    "    \n",
    "hs2.iloc[0] = np.nan\n",
    "hs2_imputed = si.fit_transform([hs2])\n",
    "count_classes(hs2_imputed[0])"
   ]
  },
  {
   "cell_type": "markdown",
   "metadata": {},
   "source": [
    "### 用Pipe結合encoder跟imputer  \n",
    "```python\n",
    "from sklearn.pipeline import Pipeline\n",
    "```  \n",
    "- 先宣告要做的各個step  \n",
    "- 再用Pipeline()串起來  \n",
    "- 使用fit_transform()對資料執行steps中的使用fit_transform  \n",
    "- 之後用transform()可重複對其他資料做transform   \n",
    "- named_steps['名稱']可以取出step"
   ]
  },
  {
   "cell_type": "code",
   "execution_count": 215,
   "metadata": {},
   "outputs": [
    {
     "data": {
      "text/plain": [
       "array([['MISSING']], dtype=object)"
      ]
     },
     "execution_count": 215,
     "metadata": {},
     "output_type": "execute_result"
    }
   ],
   "source": [
    "from sklearn.pipeline import Pipeline\n",
    "imputer_step = ('si_step',SimpleImputer(strategy='constant', fill_value='MISSING'))\n",
    "encoder_step = ('onehot_step', OneHotEncoder(sparse=False, handle_unknown='ignore'))\n",
    "pipe = Pipeline([imputer_step, encoder_step])\n",
    "\n",
    "hs = X[['HouseStyle']].copy()\n",
    "hs.iloc[0] = np.nan\n",
    "\n",
    "hs2 = X2[['HouseStyle']].copy()\n",
    "hs2.iloc[0] = np.nan\n",
    "\n",
    "hs_transformed = pipe.fit_transform(hs)\n",
    "hs2_transformed = pipe.transform(hs2)\n",
    "\n",
    "one = pipe.named_steps['onehot_step']\n",
    "\n",
    "one.inverse_transform([hs_transformed[0]])"
   ]
  },
  {
   "cell_type": "markdown",
   "metadata": {},
   "source": [
    "### Transforming Multiple Columns  \n",
    "可以同時多個column一起轉換"
   ]
  },
  {
   "cell_type": "code",
   "execution_count": 231,
   "metadata": {},
   "outputs": [
    {
     "name": "stdout",
     "output_type": "stream",
     "text": [
      "['x0_1.5Fin' 'x0_1.5Unf' 'x0_1Story' 'x0_2.5Fin' 'x0_2.5Unf' 'x0_2Story'\n",
      " 'x0_MISSING' 'x0_SFoyer' 'x0_SLvl' 'x1_ClyTile' 'x1_CompShg' 'x1_MISSING'\n",
      " 'x1_Membran' 'x1_Metal' 'x1_Roll' 'x1_Tar&Grv' 'x1_WdShake' 'x1_WdShngl']\n",
      "[[0. 0. 0. 0. 0. 0. 1. 0. 0. 0. 1. 0. 0. 0. 0. 0. 0. 0.]\n",
      " [0. 0. 1. 0. 0. 0. 0. 0. 0. 0. 0. 1. 0. 0. 0. 0. 0. 0.]\n",
      " [0. 0. 0. 0. 0. 1. 0. 0. 0. 0. 1. 0. 0. 0. 0. 0. 0. 0.]\n",
      " [0. 0. 0. 0. 0. 1. 0. 0. 0. 0. 1. 0. 0. 0. 0. 0. 0. 0.]\n",
      " [0. 0. 0. 0. 0. 1. 0. 0. 0. 0. 1. 0. 0. 0. 0. 0. 0. 0.]]\n"
     ]
    },
    {
     "data": {
      "text/plain": [
       "array([['MISSING', 'CompShg']], dtype=object)"
      ]
     },
     "execution_count": 231,
     "metadata": {},
     "output_type": "execute_result"
    }
   ],
   "source": [
    "hsr = X[['HouseStyle','RoofMatl']].copy()\n",
    "\n",
    "hsr.iloc[0,0] = np.nan\n",
    "hsr.iloc[1,1] = np.nan\n",
    "\n",
    "imputer_step = ('si_step',SimpleImputer(strategy='constant', fill_value='MISSING'))\n",
    "encoder_step = ('onehot_step', OneHotEncoder(sparse=False, handle_unknown='ignore'))\n",
    "pipe = Pipeline([imputer_step, encoder_step])\n",
    "\n",
    "hsr_transformed = pipe.fit_transform(hsr)\n",
    "one = pipe.named_steps['onehot_step']\n",
    "\n",
    "print(one.get_feature_names())\n",
    "\n",
    "print(hsr_transformed[:5])\n",
    "\n",
    "one.inverse_transform([hsr_transformed[0]])"
   ]
  },
  {
   "cell_type": "markdown",
   "metadata": {},
   "source": [
    "### ColumnTransformer\n"
   ]
  },
  {
   "cell_type": "markdown",
   "metadata": {},
   "source": [
    "### Transforming the numeric columns"
   ]
  },
  {
   "cell_type": "code",
   "execution_count": null,
   "metadata": {},
   "outputs": [],
   "source": []
  }
 ],
 "metadata": {
  "kernelspec": {
   "display_name": "myKernel",
   "language": "python",
   "name": "mykernel"
  },
  "language_info": {
   "codemirror_mode": {
    "name": "ipython",
    "version": 3
   },
   "file_extension": ".py",
   "mimetype": "text/x-python",
   "name": "python",
   "nbconvert_exporter": "python",
   "pygments_lexer": "ipython3",
   "version": "3.7.2"
  }
 },
 "nbformat": 4,
 "nbformat_minor": 2
}
