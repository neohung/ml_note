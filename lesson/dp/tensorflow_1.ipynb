{
 "cells": [
  {
   "cell_type": "code",
   "execution_count": 1,
   "metadata": {
    "colab": {},
    "colab_type": "code",
    "id": "BzSjpmm2VV-Z"
   },
   "outputs": [],
   "source": [
    "import tensorflow as tf\n",
    "import numpy as np\n"
   ]
  },
  {
   "cell_type": "markdown",
   "metadata": {
    "colab": {},
    "colab_type": "code",
    "id": "-1NOQy9hVY3T"
   },
   "source": [
    "### 1. 建立GRAPH\n",
    "### 2. 啟動SESSION運行GRAPH"
   ]
  },
  {
   "cell_type": "markdown",
   "metadata": {
    "colab_type": "text",
    "id": "-EDffNvsVi6x"
   },
   "source": [
    "### 常數\n",
    "建立一個[1,0]的常數  \n",
    "a = tf.constant([1.,0.],dtype=tf.float32,  name='const_a')"
   ]
  },
  {
   "cell_type": "code",
   "execution_count": 8,
   "metadata": {
    "colab": {
     "base_uri": "https://localhost:8080/",
     "height": 34
    },
    "colab_type": "code",
    "id": "cC-GG6MdVvZR",
    "outputId": "993d5584-6b72-4adb-a104-7d968a5b5525"
   },
   "outputs": [
    {
     "name": "stdout",
     "output_type": "stream",
     "text": [
      "Tensor(\"const_a_2:0\", shape=(2,), dtype=float32)\n"
     ]
    }
   ],
   "source": [
    "a = tf.constant([1.,0.],dtype=tf.float32,  name='const_a')\n",
    "print(a)"
   ]
  },
  {
   "cell_type": "markdown",
   "metadata": {
    "colab_type": "text",
    "id": "nBhrZ0ChWPlq"
   },
   "source": [
    "#### 建立session  \n",
    "sess = tf.Session()  \n",
    "sess.run(a)  \n",
    "sess.close()  \n",
    "\n",
    "sess.run(變數)可以取出變數值  \n"
   ]
  },
  {
   "cell_type": "code",
   "execution_count": null,
   "metadata": {
    "colab": {},
    "colab_type": "code",
    "id": "1DE7_Z3WVxvd"
   },
   "outputs": [],
   "source": [
    "sess = tf.Session()\n",
    "sess.run(a)\n",
    "sess.close()"
   ]
  },
  {
   "cell_type": "markdown",
   "metadata": {
    "colab_type": "text",
    "id": "aBFbQrVbWhW4"
   },
   "source": [
    "#### 運算\n",
    "tf.add, tf.subtract, tf.multiply, tf.divide -> +, -, *, /"
   ]
  },
  {
   "cell_type": "code",
   "execution_count": 13,
   "metadata": {
    "colab": {
     "base_uri": "https://localhost:8080/",
     "height": 118
    },
    "colab_type": "code",
    "id": "pZMccM1YWVRf",
    "outputId": "9d9e3a9d-0ef3-4026-e1d1-d2cba222b889"
   },
   "outputs": [
    {
     "name": "stdout",
     "output_type": "stream",
     "text": [
      "Tensor(\"x_add_y_3:0\", shape=(2,), dtype=float32)\n",
      "----\n",
      "Tensor(\"x_mult_y_3:0\", shape=(2,), dtype=float32)\n",
      "[4. 1.]\n",
      "----\n",
      "[3. 0.]\n"
     ]
    }
   ],
   "source": [
    "x = tf.constant([3.,0.],dtype=tf.float32, name='x')\n",
    "y = tf.constant([1.,1.],dtype=tf.float32, name='y')\n",
    "z1 = tf.add(x,y, name='x_add_y')\n",
    "z2 = tf.multiply(x,y, name='x_mult_y')\n",
    "print(z1)\n",
    "print(\"----\")\n",
    "print(z2)\n",
    "\n",
    "with tf.Session() as sess:\n",
    "  out1, out2 = sess.run([z1,z2])\n",
    "  print(out1)\n",
    "  print(\"----\")\n",
    "  print(out2)"
   ]
  },
  {
   "cell_type": "markdown",
   "metadata": {
    "colab_type": "text",
    "id": "c8TPPIS0X54U"
   },
   "source": [
    "### tf.placeholder  \n",
    "設置當做之後的輸入"
   ]
  },
  {
   "cell_type": "code",
   "execution_count": 23,
   "metadata": {
    "colab": {
     "base_uri": "https://localhost:8080/",
     "height": 50
    },
    "colab_type": "code",
    "id": "Kl4j80s_XMvK",
    "outputId": "259db560-52de-4f78-bef9-4e269a6c282a"
   },
   "outputs": [
    {
     "name": "stdout",
     "output_type": "stream",
     "text": [
      "[[2. 3.]\n",
      " [4. 5.]]\n"
     ]
    }
   ],
   "source": [
    "#不填值, 直到run的時候再填值, 記得要給與shape\n",
    "X = tf.placeholder(dtype=tf.float32, shape=[2,2], name='input')\n",
    "one = tf.constant([[1,1],[1,1]], dtype=tf.float32,name='one')\n",
    "ret = X + one\n",
    "with tf.Session() as sess:\n",
    "  result = sess.run(ret, feed_dict= {X: [[1,2],[3,4]]})\n",
    "  print(result)"
   ]
  },
  {
   "cell_type": "markdown",
   "metadata": {
    "colab_type": "text",
    "id": "GWE8B3ycZ4OS"
   },
   "source": [
    "### tf.Variable  \n",
    "記得使用前要init = tf.global_variables_initializer()  \n",
    "再session.run()初始化  \n"
   ]
  },
  {
   "cell_type": "code",
   "execution_count": 30,
   "metadata": {
    "colab": {
     "base_uri": "https://localhost:8080/",
     "height": 34
    },
    "colab_type": "code",
    "id": "Pndjq5foYNGW",
    "outputId": "42526901-ee0d-496e-e40d-046da8755626"
   },
   "outputs": [
    {
     "name": "stdout",
     "output_type": "stream",
     "text": [
      "5.0\n"
     ]
    }
   ],
   "source": [
    "a = tf.Variable(3., name='var_a')\n",
    "b = tf.Variable(2., name='var_b')\n",
    "Sum = tf.add(a, b, name='addab')\n",
    "init = tf.global_variables_initializer()\n",
    "with tf.Session() as sess:\n",
    "  sess.run(init)\n",
    "  result =sess.run(Sum)\n",
    "  print(result)"
   ]
  },
  {
   "cell_type": "markdown",
   "metadata": {
    "colab_type": "text",
    "id": "CzTIO5uYapDL"
   },
   "source": [
    "### tf.assign\n",
    "改變variable的值  \n",
    "tf.assign(變數名稱,要賦予的值)  \n",
    "下例中Sum會在assign的時候自動更新"
   ]
  },
  {
   "cell_type": "code",
   "execution_count": 24,
   "metadata": {},
   "outputs": [
    {
     "name": "stdout",
     "output_type": "stream",
     "text": [
      "a= 0.0\n",
      "a= 2.0\n",
      "a= 4.0\n"
     ]
    }
   ],
   "source": [
    "a = tf.Variable(0., name='var_a')\n",
    "b = tf.constant(2.,name='var_b')\n",
    "Sum = tf.add(a,b,name='addab')\n",
    "# 將Sum的值賦予給a, 所以a=a+b\n",
    "c = tf.assign(a,Sum)\n",
    "init = tf.global_variables_initializer()\n",
    "\n",
    "sess = tf.Session()\n",
    "sess.run(init)\n",
    "for _ in range(3):\n",
    "    print('a=',sess.run(a))\n",
    "    #print('sum=',sess.run(Sum))\n",
    "    #print('---')\n",
    "    # run a = a + b\n",
    "    sess.run(c)\n",
    "sess.close()"
   ]
  },
  {
   "cell_type": "code",
   "execution_count": 31,
   "metadata": {
    "colab": {
     "base_uri": "https://localhost:8080/",
     "height": 168
    },
    "colab_type": "code",
    "id": "06YwQLPFY8r3",
    "outputId": "07f41c27-f841-4056-cb4e-dfbf8ef81d31"
   },
   "outputs": [
    {
     "name": "stdout",
     "output_type": "stream",
     "text": [
      "a= 0.0\n",
      "a= 2.0\n",
      "a= 4.0\n"
     ]
    }
   ],
   "source": [
    "#上例等同於\n",
    "a = np.array(0.)\n",
    "b = np.array(2.)\n",
    "Sum = a + b \n",
    "for _ in range(3):\n",
    "    print('a=',a)\n",
    "    a = Sum\n",
    "    Sum = a + b"
   ]
  },
  {
   "cell_type": "code",
   "execution_count": 19,
   "metadata": {
    "colab": {
     "base_uri": "https://localhost:8080/",
     "height": 168
    },
    "colab_type": "code",
    "id": "weTbjvGFbZzO",
    "outputId": "0fe2c325-19a2-46dd-8329-a96f19340443"
   },
   "outputs": [
    {
     "name": "stdout",
     "output_type": "stream",
     "text": [
      "c = 0.0\n",
      "Sum = 2.0\n",
      "---\n",
      "c = 2.0\n",
      "Sum = 4.0\n",
      "---\n",
      "c = 4.0\n",
      "Sum = 6.0\n",
      "---\n"
     ]
    }
   ],
   "source": []
  },
  {
   "cell_type": "code",
   "execution_count": null,
   "metadata": {
    "colab": {},
    "colab_type": "code",
    "id": "m87SwECHbcU2"
   },
   "outputs": [],
   "source": []
  }
 ],
 "metadata": {
  "colab": {
   "name": "tensorflow_1.ipynb",
   "provenance": [],
   "version": "0.3.2"
  },
  "kernelspec": {
   "display_name": "myKernel",
   "language": "python",
   "name": "mykernel"
  },
  "language_info": {
   "codemirror_mode": {
    "name": "ipython",
    "version": 3
   },
   "file_extension": ".py",
   "mimetype": "text/x-python",
   "name": "python",
   "nbconvert_exporter": "python",
   "pygments_lexer": "ipython3",
   "version": "3.6.7"
  }
 },
 "nbformat": 4,
 "nbformat_minor": 2
}
