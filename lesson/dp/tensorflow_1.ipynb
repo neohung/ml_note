{
 "cells": [
  {
   "cell_type": "code",
   "execution_count": 1,
   "metadata": {
    "colab": {},
    "colab_type": "code",
    "id": "BzSjpmm2VV-Z"
   },
   "outputs": [],
   "source": [
    "import tensorflow as tf\n",
    "import numpy as np\n"
   ]
  },
  {
   "cell_type": "markdown",
   "metadata": {
    "colab": {},
    "colab_type": "code",
    "id": "-1NOQy9hVY3T"
   },
   "source": [
    "### 1. 建立GRAPH\n",
    "### 2. 啟動SESSION運行GRAPH"
   ]
  },
  {
   "cell_type": "markdown",
   "metadata": {
    "colab_type": "text",
    "id": "-EDffNvsVi6x"
   },
   "source": [
    "### 常數\n",
    "建立一個[1,0]的常數  \n",
    "a = tf.constant([1.,0.],dtype=tf.float32,  name='const_a')"
   ]
  },
  {
   "cell_type": "code",
   "execution_count": 2,
   "metadata": {
    "colab": {
     "base_uri": "https://localhost:8080/",
     "height": 34
    },
    "colab_type": "code",
    "id": "cC-GG6MdVvZR",
    "outputId": "993d5584-6b72-4adb-a104-7d968a5b5525"
   },
   "outputs": [
    {
     "name": "stdout",
     "output_type": "stream",
     "text": [
      "Tensor(\"const_a:0\", shape=(2,), dtype=float32)\n"
     ]
    }
   ],
   "source": [
    "a = tf.constant([1.,0.],dtype=tf.float32,  name='const_a')\n",
    "print(a)"
   ]
  },
  {
   "cell_type": "markdown",
   "metadata": {
    "colab_type": "text",
    "id": "nBhrZ0ChWPlq"
   },
   "source": [
    "#### 建立session  \n",
    "sess = tf.Session()  \n",
    "sess.run(a)  \n",
    "sess.close()  \n",
    "\n",
    "sess.run(變數)可以取出變數值  \n"
   ]
  },
  {
   "cell_type": "code",
   "execution_count": 3,
   "metadata": {
    "colab": {},
    "colab_type": "code",
    "id": "1DE7_Z3WVxvd"
   },
   "outputs": [],
   "source": [
    "sess = tf.Session()\n",
    "sess.run(a)\n",
    "sess.close()"
   ]
  },
  {
   "cell_type": "markdown",
   "metadata": {
    "colab_type": "text",
    "id": "aBFbQrVbWhW4"
   },
   "source": [
    "#### 運算\n",
    "tf.add, tf.subtract, tf.multiply, tf.divide -> +, -, *, /"
   ]
  },
  {
   "cell_type": "code",
   "execution_count": 4,
   "metadata": {
    "colab": {
     "base_uri": "https://localhost:8080/",
     "height": 118
    },
    "colab_type": "code",
    "id": "pZMccM1YWVRf",
    "outputId": "9d9e3a9d-0ef3-4026-e1d1-d2cba222b889"
   },
   "outputs": [
    {
     "name": "stdout",
     "output_type": "stream",
     "text": [
      "Tensor(\"x_add_y:0\", shape=(2,), dtype=float32)\n",
      "----\n",
      "Tensor(\"x_mult_y:0\", shape=(2,), dtype=float32)\n",
      "[4. 1.]\n",
      "----\n",
      "[3. 0.]\n"
     ]
    }
   ],
   "source": [
    "x = tf.constant([3.,0.],dtype=tf.float32, name='x')\n",
    "y = tf.constant([1.,1.],dtype=tf.float32, name='y')\n",
    "z1 = tf.add(x,y, name='x_add_y')\n",
    "z2 = tf.multiply(x,y, name='x_mult_y')\n",
    "print(z1)\n",
    "print(\"----\")\n",
    "print(z2)\n",
    "\n",
    "with tf.Session() as sess:\n",
    "  out1, out2 = sess.run([z1,z2])\n",
    "  print(out1)\n",
    "  print(\"----\")\n",
    "  print(out2)"
   ]
  },
  {
   "cell_type": "markdown",
   "metadata": {
    "colab_type": "text",
    "id": "c8TPPIS0X54U"
   },
   "source": [
    "### tf.placeholder  \n",
    "設置當做之後的輸入"
   ]
  },
  {
   "cell_type": "code",
   "execution_count": 5,
   "metadata": {
    "colab": {
     "base_uri": "https://localhost:8080/",
     "height": 50
    },
    "colab_type": "code",
    "id": "Kl4j80s_XMvK",
    "outputId": "259db560-52de-4f78-bef9-4e269a6c282a"
   },
   "outputs": [
    {
     "name": "stdout",
     "output_type": "stream",
     "text": [
      "[[2. 3.]\n",
      " [4. 5.]]\n"
     ]
    }
   ],
   "source": [
    "#不填值, 直到run的時候再填值, 記得要給與shape\n",
    "X = tf.placeholder(dtype=tf.float32, shape=[2,2], name='input')\n",
    "one = tf.constant([[1,1],[1,1]], dtype=tf.float32,name='one')\n",
    "ret = X + one\n",
    "with tf.Session() as sess:\n",
    "  result = sess.run(ret, feed_dict= {X: [[1,2],[3,4]]})\n",
    "  print(result)"
   ]
  },
  {
   "cell_type": "markdown",
   "metadata": {
    "colab_type": "text",
    "id": "GWE8B3ycZ4OS"
   },
   "source": [
    "### tf.Variable  \n",
    "記得使用前要init = tf.global_variables_initializer()  \n",
    "再session.run()初始化  \n"
   ]
  },
  {
   "cell_type": "code",
   "execution_count": 9,
   "metadata": {
    "colab": {
     "base_uri": "https://localhost:8080/",
     "height": 34
    },
    "colab_type": "code",
    "id": "Pndjq5foYNGW",
    "outputId": "42526901-ee0d-496e-e40d-046da8755626"
   },
   "outputs": [
    {
     "name": "stdout",
     "output_type": "stream",
     "text": [
      "5.0\n"
     ]
    }
   ],
   "source": [
    "a = tf.Variable(3., name='var_a')\n",
    "b = tf.Variable(2., name='var_b')\n",
    "Sum = tf.add(a, b, name='addab')\n",
    "init = tf.global_variables_initializer()\n",
    "with tf.Session() as sess:\n",
    "  sess.run(init)\n",
    "  result =sess.run(Sum)\n",
    "  print(result)"
   ]
  },
  {
   "cell_type": "markdown",
   "metadata": {
    "colab_type": "text",
    "id": "CzTIO5uYapDL"
   },
   "source": [
    "### tf.assign\n",
    "改變variable的值  \n",
    "tf.assign(變數名稱,要賦予的值)  \n",
    "下例中Sum會在assign的時候自動更新"
   ]
  },
  {
   "cell_type": "code",
   "execution_count": 7,
   "metadata": {},
   "outputs": [
    {
     "name": "stdout",
     "output_type": "stream",
     "text": [
      "a= 0.0\n",
      "a= 2.0\n",
      "a= 4.0\n"
     ]
    }
   ],
   "source": [
    "a = tf.Variable(0., name='var_a')\n",
    "b = tf.constant(2.,name='var_b')\n",
    "Sum = tf.add(a,b,name='addab')\n",
    "# 將Sum的值賦予給a, 所以a=a+b\n",
    "c = tf.assign(a,Sum)\n",
    "init = tf.global_variables_initializer()\n",
    "\n",
    "sess = tf.Session()\n",
    "sess.run(init)\n",
    "for _ in range(3):\n",
    "    print('a=',sess.run(a))\n",
    "    #print('sum=',sess.run(Sum))\n",
    "    #print('---')\n",
    "    # run a = a + b\n",
    "    sess.run(c)\n",
    "sess.close()"
   ]
  },
  {
   "cell_type": "code",
   "execution_count": 8,
   "metadata": {
    "colab": {
     "base_uri": "https://localhost:8080/",
     "height": 168
    },
    "colab_type": "code",
    "id": "06YwQLPFY8r3",
    "outputId": "07f41c27-f841-4056-cb4e-dfbf8ef81d31"
   },
   "outputs": [
    {
     "name": "stdout",
     "output_type": "stream",
     "text": [
      "a= 0.0\n",
      "a= 2.0\n",
      "a= 4.0\n"
     ]
    }
   ],
   "source": [
    "#上例等同於\n",
    "a = np.array(0.)\n",
    "b = np.array(2.)\n",
    "Sum = a + b \n",
    "for _ in range(3):\n",
    "    print('a=',a)\n",
    "    a = Sum\n",
    "    Sum = a + b"
   ]
  },
  {
   "cell_type": "markdown",
   "metadata": {},
   "source": [
    "## reset graph. \n"
   ]
  },
  {
   "cell_type": "code",
   "execution_count": 2,
   "metadata": {
    "colab": {
     "base_uri": "https://localhost:8080/",
     "height": 168
    },
    "colab_type": "code",
    "id": "weTbjvGFbZzO",
    "outputId": "0fe2c325-19a2-46dd-8329-a96f19340443"
   },
   "outputs": [
    {
     "name": "stdout",
     "output_type": "stream",
     "text": [
      "[]\n"
     ]
    }
   ],
   "source": [
    "import numpy as np\n",
    "import tensorflow as tf\n",
    "from pprint import pprint\n",
    "\n",
    "tf.reset_default_graph()  # clean the graph\n",
    "pprint(tf.global_variables())"
   ]
  },
  {
   "cell_type": "code",
   "execution_count": 3,
   "metadata": {
    "colab": {},
    "colab_type": "code",
    "id": "m87SwECHbcU2"
   },
   "outputs": [
    {
     "name": "stdout",
     "output_type": "stream",
     "text": [
      "WARNING:tensorflow:From /Users/neo/.local/share/virtualenvs/ml_note-xH0ME_WV/lib/python3.7/site-packages/tensorflow/python/framework/op_def_library.py:263: colocate_with (from tensorflow.python.framework.ops) is deprecated and will be removed in a future version.\n",
      "Instructions for updating:\n",
      "Colocations handled automatically by placer.\n",
      "[<tf.Variable 'Variable:0' shape=() dtype=float32_ref>,\n",
      " <tf.Variable 'Variable_1:0' shape=(2,) dtype=float32_ref>,\n",
      " <tf.Variable 'var:0' shape=(3,) dtype=float32_ref>,\n",
      " <tf.Variable 'var_1:0' shape=(2, 1) dtype=float32_ref>]\n"
     ]
    }
   ],
   "source": [
    "a = tf.Variable(1.)\n",
    "a = tf.Variable([2., 0.])\n",
    "a = tf.Variable([1., 2., 3.], name='var')\n",
    "a = tf.Variable([[5.], [5.]], name='var')\n",
    "pprint(tf.global_variables())"
   ]
  },
  {
   "cell_type": "markdown",
   "metadata": {},
   "source": [
    "### Work on the default graph"
   ]
  },
  {
   "cell_type": "code",
   "execution_count": 43,
   "metadata": {},
   "outputs": [
    {
     "name": "stdout",
     "output_type": "stream",
     "text": [
      "[<tf.Variable 'weight:0' shape=(2, 1) dtype=float32_ref>,\n",
      " <tf.Variable 'Variable:0' shape=() dtype=float32_ref>,\n",
      " <tf.Variable 'z:0' shape=(3, 1) dtype=float32_ref>]\n",
      "[[ 4.]\n",
      " [ 8.]\n",
      " [12.]]\n",
      "[[ 4.]\n",
      " [ 8.]\n",
      " [12.]]\n",
      "[[ 4.]\n",
      " [ 8.]\n",
      " [12.]]\n"
     ]
    }
   ],
   "source": [
    "tf.reset_default_graph()  # clean the graph\n",
    "#pprint(tf.global_variables())\n",
    "\n",
    "my_graph = tf.Graph()\n",
    "with my_graph.as_default():\n",
    "    X = tf.placeholder(dtype=tf.float32, shape=[3,2], name='input')\n",
    "    w = tf.Variable([[1],[1]],dtype=tf.float32, name='weight')\n",
    "    b = tf.Variable(0.,dtype=tf.float32)\n",
    "    bc = tf.constant(1.,dtype=tf.float32)\n",
    "    #Mult = tf.multiply(X,w, name='w_mult_X')\n",
    "    Matmul = tf.matmul(X,w, name='X_matmul_w')\n",
    "    Sum = tf.add(Matmul,b,name='wx_sum_b')\n",
    "    z = tf.Variable([[1],[1],[1]],dtype=tf.float32, name='z')\n",
    "    assign_c = tf.assign(z, Sum)\n",
    "    ret = assign_c + bc\n",
    "    init = tf.global_variables_initializer()\n",
    "    pprint(tf.global_variables())\n",
    "\n",
    "with tf.Session(graph=my_graph) as sess:\n",
    "    sess.run(init)\n",
    "    for _ in range(3):\n",
    "        print(sess.run(ret, feed_dict= {X: [[1,2],[3,4],[5,6]]}))\n",
    "        pass"
   ]
  },
  {
   "cell_type": "code",
   "execution_count": null,
   "metadata": {},
   "outputs": [],
   "source": []
  },
  {
   "cell_type": "code",
   "execution_count": 68,
   "metadata": {},
   "outputs": [
    {
     "name": "stdout",
     "output_type": "stream",
     "text": [
      "<tf.Tensor 'Const:0' shape=(3, 2) dtype=float32>\n",
      "[[1. 1.]\n",
      " [2. 2.]\n",
      " [3. 3.]]\n",
      "<tf.Tensor 'Const:0' shape=(3, 2) dtype=float32>\n",
      "[[1. 1.]\n",
      " [2. 2.]\n",
      " [3. 3.]]\n",
      "<tf.Tensor 'Const:0' shape=(3, 2) dtype=float32>\n",
      "[[1. 1.]\n",
      " [2. 2.]\n",
      " [3. 3.]]\n"
     ]
    }
   ],
   "source": [
    "tf.reset_default_graph() \n",
    "a = tf.constant([[1.,1.],[2.,2.],[3.,3.]],dtype=tf.float32)\n",
    "with tf.Session() as sess:\n",
    "    for _ in range(3):\n",
    "        pprint(a)\n",
    "        print(sess.run(a))\n",
    "        #print(tf.reduce_mean(a))\n",
    "        pass"
   ]
  },
  {
   "cell_type": "markdown",
   "metadata": {},
   "source": [
    "## 訓練 A linear regression example  \n",
    "### $ (1)\\; \\hat y_i = wx_i + b $\n",
    "### $ (2)\\; MSE = \\frac{1}{n} \\sum_{i=1}^n (\\hat y_i - y_i)^2 $"
   ]
  },
  {
   "cell_type": "code",
   "execution_count": 47,
   "metadata": {},
   "outputs": [
    {
     "data": {
      "image/png": "[encoded data removed]",
      "text/plain": [
       "<Figure size 432x288 with 1 Axes>"
      ]
     },
     "metadata": {
      "needs_background": "light"
     },
     "output_type": "display_data"
    }
   ],
   "source": [
    "import numpy as np\n",
    "import tensorflow as tf\n",
    "import matplotlib.pyplot as plt\n",
    "from pprint import pprint\n",
    "\n",
    "# --------------------------------generate data-------------------------------------\n",
    "x_in = np.linspace(0, 1, 100)\n",
    "y_true = 3*x_in + 10 + np.random.rand(len(x_in))\n",
    "\n",
    "plt.plot(x_in, y_true, 'b.')\n",
    "plt.title('$ y = 3x + 10 + \\epsilon$')\n",
    "plt.show()"
   ]
  },
  {
   "cell_type": "code",
   "execution_count": 95,
   "metadata": {},
   "outputs": [
    {
     "name": "stdout",
     "output_type": "stream",
     "text": [
      "[<tf.Variable 'weight:0' shape=(1,) dtype=float32_ref>,\n",
      " <tf.Variable 'bias:0' shape=(1,) dtype=float32_ref>]\n"
     ]
    }
   ],
   "source": [
    "# build network\n",
    "tf.reset_default_graph() \n",
    "\n",
    "inputs = tf.placeholder(shape=[100], dtype=tf.float32, name='X')\n",
    "y_label = tf.placeholder(shape=[100], dtype=tf.float32, name='label')\n",
    "\n",
    "w1 = tf.Variable([0.5],dtype=tf.float32, name='weight')\n",
    "b1 = tf.Variable([0.0],dtype=tf.float32, name='bias')\n",
    "y_pred = tf.add(tf.multiply(w1,inputs),b1,name='y_pred')\n",
    "\n",
    "loss = tf.reduce_mean(tf.square(y_pred - y_label), name='mse')\n",
    "optim = tf.train.GradientDescentOptimizer(learning_rate=0.1) \n",
    "train_ops = optim.minimize(loss)\n",
    "\n",
    "init = tf.global_variables_initializer()\n",
    "pprint(tf.global_variables())"
   ]
  },
  {
   "cell_type": "code",
   "execution_count": 96,
   "metadata": {},
   "outputs": [
    {
     "name": "stdout",
     "output_type": "stream",
     "text": [
      "-----start training-----\n",
      "step:   0, weight: 1.714, bias: 2.346, loss:77.250\n",
      "step:  25, weight: 4.677, bias: 9.573, loss:0.344\n",
      "step:  50, weight: 4.175, bias: 9.848, loss:0.213\n",
      "step:  75, weight: 3.815, bias: 10.041, loss:0.146\n",
      "step: 100, weight: 3.559, bias: 10.179, loss:0.112\n",
      "step: 125, weight: 3.375, bias: 10.277, loss:0.094\n",
      "step: 150, weight: 3.244, bias: 10.347, loss:0.086\n",
      "step: 175, weight: 3.151, bias: 10.397, loss:0.081\n",
      "step: 200, weight: 3.085, bias: 10.433, loss:0.079\n",
      "step: 225, weight: 3.037, bias: 10.458, loss:0.078\n",
      "step: 250, weight: 3.003, bias: 10.477, loss:0.077\n",
      "step: 275, weight: 2.979, bias: 10.490, loss:0.077\n"
     ]
    },
    {
     "data": {
      "image/png": "[encoded data removed]",
      "text/plain": [
       "<Figure size 432x288 with 1 Axes>"
      ]
     },
     "metadata": {
      "needs_background": "light"
     },
     "output_type": "display_data"
    }
   ],
   "source": [
    "## train the model\n",
    "sess = tf.Session()\n",
    "print(\"-----start training-----\")\n",
    "sess.run(init)\n",
    "iters=300\n",
    "for step in np.arange(iters):\n",
    "    sess.run(train_ops, feed_dict={inputs: x_in, y_label: y_true})  # update variables\n",
    "    if step%25 == 0:\n",
    "        print('step: {:3d}, weight: {:.3f}, bias: {:.3f}, loss:{:.3f}'.format(step, sess.run(w1)[0], sess.run(b1)[0],sess.run(loss,feed_dict={inputs: x_in, y_label: y_true})))\n",
    "    \n",
    "y_out = sess.run(y_pred, feed_dict={inputs: x_in})\n",
    "sess.close()\n",
    "plt.plot(x_in, y_out, 'r.')\n",
    "plt.plot(x_in, y_true, 'b.')\n",
    "plt.title('$ y = 3x + 10 + \\epsilon$')\n",
    "plt.show()"
   ]
  },
  {
   "cell_type": "markdown",
   "metadata": {},
   "source": [
    "# Practice\n",
    "$ y = w_1x^2 + w_2x + b$ <br>\n",
    "$ w_1=6, \\, w_2=-4, \\, b=1 $"
   ]
  },
  {
   "cell_type": "code",
   "execution_count": 121,
   "metadata": {},
   "outputs": [
    {
     "data": {
      "image/png": "[encoded data removed]",
      "text/plain": [
       "<Figure size 432x288 with 1 Axes>"
      ]
     },
     "metadata": {
      "needs_background": "light"
     },
     "output_type": "display_data"
    }
   ],
   "source": [
    "x_in = np.linspace(-1, 1, 200)\n",
    "y_true = 6*x_in**2 - 4*x_in + 1 + np.random.rand(len(x_in))*2\n",
    "\n",
    "plt.plot(x_in, y_true, 'b.')\n",
    "plt.show()"
   ]
  },
  {
   "cell_type": "code",
   "execution_count": 122,
   "metadata": {},
   "outputs": [
    {
     "name": "stdout",
     "output_type": "stream",
     "text": [
      "[<tf.Variable 'weight1:0' shape=(1,) dtype=float32_ref>,\n",
      " <tf.Variable 'weight2:0' shape=(1,) dtype=float32_ref>,\n",
      " <tf.Variable 'bias:0' shape=(1,) dtype=float32_ref>]\n"
     ]
    }
   ],
   "source": [
    "# build network\n",
    "tf.reset_default_graph() \n",
    "\n",
    "inputs = tf.placeholder(shape=[200], dtype=tf.float32, name='X1')\n",
    "y_label = tf.placeholder(shape=[200], dtype=tf.float32, name='label')\n",
    "\n",
    "x2 = tf.multiply(inputs,inputs,name='X2')\n",
    "w1 = tf.Variable([0.5],dtype=tf.float32, name='weight1')\n",
    "w1x2 = tf.multiply(w1,x2)\n",
    "w2 = tf.Variable([0.5],dtype=tf.float32, name='weight2')\n",
    "w2x1 = tf.multiply(w2,inputs)\n",
    "b1 = tf.Variable([0.0],dtype=tf.float32, name='bias')\n",
    "y_pred = tf.add(w1x2+w2x1,b1,name='y_pred')\n",
    "\n",
    "loss = tf.reduce_mean(tf.square(y_pred - y_label), name='mse')\n",
    "optim = tf.train.GradientDescentOptimizer(learning_rate=0.1) \n",
    "train_ops = optim.minimize(loss)\n",
    "\n",
    "init = tf.global_variables_initializer()\n",
    "pprint(tf.global_variables())"
   ]
  },
  {
   "cell_type": "code",
   "execution_count": 124,
   "metadata": {},
   "outputs": [
    {
     "name": "stdout",
     "output_type": "stream",
     "text": [
      "-----start training-----\n",
      "step:   0, weight: 0.859, bias: 0.766, loss:17.108\n",
      "step:  25, weight: 3.270, bias: 2.975, loss:1.196\n",
      "step:  50, weight: 4.211, bias: 2.635, loss:0.625\n",
      "step:  75, weight: 4.837, bias: 2.406, loss:0.441\n",
      "step: 100, weight: 5.254, bias: 2.253, loss:0.362\n",
      "step: 125, weight: 5.531, bias: 2.152, loss:0.326\n",
      "step: 150, weight: 5.716, bias: 2.084, loss:0.311\n",
      "step: 175, weight: 5.838, bias: 2.039, loss:0.304\n",
      "step: 200, weight: 5.920, bias: 2.009, loss:0.301\n",
      "step: 225, weight: 5.975, bias: 1.989, loss:0.300\n",
      "step: 250, weight: 6.011, bias: 1.976, loss:0.299\n",
      "step: 275, weight: 6.035, bias: 1.967, loss:0.299\n"
     ]
    },
    {
     "data": {
      "image/png": "[encoded data removed]",
      "text/plain": [
       "<Figure size 432x288 with 1 Axes>"
      ]
     },
     "metadata": {
      "needs_background": "light"
     },
     "output_type": "display_data"
    }
   ],
   "source": [
    "sess = tf.Session()\n",
    "print(\"-----start training-----\")\n",
    "sess.run(init)\n",
    "iters=300\n",
    "sess.run(x2,feed_dict={inputs: x_in})\n",
    "for step in np.arange(iters):\n",
    "    sess.run(train_ops, feed_dict={inputs: x_in, y_label: y_true})  # update variables\n",
    "    if step%25 == 0:\n",
    "        print('step: {:3d}, weight: {:.3f}, bias: {:.3f}, loss:{:.3f}'.format(step, sess.run(w1)[0], sess.run(b1)[0],sess.run(loss,feed_dict={inputs: x_in, y_label: y_true})))\n",
    "\n",
    "y_out = sess.run(y_pred,feed_dict={inputs: x_in})\n",
    "plt.plot(x_in, y_true, 'b.')\n",
    "plt.plot(x_in, y_out, 'r.')\n",
    "plt.show()\n"
   ]
  },
  {
   "cell_type": "code",
   "execution_count": null,
   "metadata": {},
   "outputs": [],
   "source": []
  },
  {
   "cell_type": "code",
   "execution_count": null,
   "metadata": {},
   "outputs": [],
   "source": []
  }
 ],
 "metadata": {
  "colab": {
   "name": "tensorflow_1.ipynb",
   "provenance": [],
   "version": "0.3.2"
  },
  "kernelspec": {
   "display_name": "myKernel",
   "language": "python",
   "name": "mykernel"
  },
  "language_info": {
   "codemirror_mode": {
    "name": "ipython",
    "version": 3
   },
   "file_extension": ".py",
   "mimetype": "text/x-python",
   "name": "python",
   "nbconvert_exporter": "python",
   "pygments_lexer": "ipython3",
   "version": "3.7.2"
  }
 },
 "nbformat": 4,
 "nbformat_minor": 2
}
