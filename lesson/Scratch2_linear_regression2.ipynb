{
 "cells": [
  {
   "cell_type": "markdown",
   "metadata": {},
   "source": [
    "### Gradient\n",
    "\n",
    "微分公式:  \n",
    "### $f'(x) = \\lim\\limits_{h \\to 0}\\frac{f(x+h)-f(x)}{h}$  \n",
    " "
   ]
  },
  {
   "cell_type": "code",
   "execution_count": 1,
   "metadata": {},
   "outputs": [
    {
     "data": {
      "text/plain": [
       "4.000000330961484"
      ]
     },
     "execution_count": 1,
     "metadata": {},
     "output_type": "execute_result"
    }
   ],
   "source": [
    "def myfunction(x):\n",
    "    return 2*(x**2)+2\n",
    "\n",
    "def derivative(f, x, e=1e-10):\n",
    "    return (f(x+e) - f(x)) / e\n",
    "\n",
    "x = 1\n",
    "derivative(myfunction,x)"
   ]
  },
  {
   "cell_type": "markdown",
   "metadata": {},
   "source": [
    "偏微分公式:  \n",
    "### $\\frac{\\partial f(x_1,x_2\\dots x_n)}{\\partial x_i} = \\lim\\limits_{h \\to 0}\\frac{f(x_1,\\dots,x_i+h\\dots x_n)-f(x_1,x_2\\dots x_n)}{h}$"
   ]
  },
  {
   "cell_type": "code",
   "execution_count": 2,
   "metadata": {},
   "outputs": [
    {
     "data": {
      "text/plain": [
       "3.000000248221113"
      ]
     },
     "execution_count": 2,
     "metadata": {},
     "output_type": "execute_result"
    }
   ],
   "source": [
    "# 2*x0+2x1+2\n",
    "def myfunction(X):\n",
    "    return 2*X[0]+3*X[1]+2\n",
    "\n",
    "def partial_derivative(f, X, i,e=1e-10):\n",
    "    newX = X.copy()\n",
    "    newX[i] += e\n",
    "    return (f(newX) - f(X)) / e\n",
    "\n",
    "X=[1,2,3]\n",
    "partial_derivative(myfunction,X,1)"
   ]
  },
  {
   "cell_type": "markdown",
   "metadata": {},
   "source": [
    "## Gradient  \n",
    "$\\nabla f(x_1,x_2,\\,\\ldots,x_n) = [ \\frac{\\partial f}{\\partial x_1}i,\\,\\frac{\\partial f}{\\partial x_2}j,\\ldots ]$"
   ]
  },
  {
   "cell_type": "code",
   "execution_count": 3,
   "metadata": {},
   "outputs": [
    {
     "data": {
      "text/plain": [
       "[2.000000165480742, 3.000000248221113, 0.0]"
      ]
     },
     "execution_count": 3,
     "metadata": {},
     "output_type": "execute_result"
    }
   ],
   "source": [
    "def gradient(f,X,e=1e-10):\n",
    "    grad=[]\n",
    "    for i in range(len(X)):\n",
    "        grad.append(partial_derivative(f,X,i))\n",
    "    return grad\n",
    "\n",
    "X=[1,2,3]\n",
    "gradient(myfunction,X)"
   ]
  },
  {
   "cell_type": "markdown",
   "metadata": {},
   "source": [
    "### MSE:  \n",
    "$MSE\\,=\\,\\frac{1}{n} \\displaystyle\\sum_{i=1}^{n} (Y_i-\\hat{Y_i})^2$  \n",
    "### Loss Function:  \n",
    "### $f\\,=\\,\\frac{1}{2n} \\displaystyle\\sum_{i=1}^{n} (Y_i-(XW+B))^2$"
   ]
  },
  {
   "cell_type": "code",
   "execution_count": 4,
   "metadata": {},
   "outputs": [],
   "source": [
    "\n",
    "import numpy as np\n",
    "\n",
    "def mse(y,y_hat):\n",
    "    MSE = 0\n",
    "    for i in range(len(y)):\n",
    "        MSE += (y[i]-y_hat[i])**2\n",
    "    return MSE/len(y)\n",
    "\n",
    "def loss_function(X,W,B,Y_hat):\n",
    "    Z = np.matmul(X,W) + B\n",
    "    return mse(Z,Y_hat)/2\n"
   ]
  },
  {
   "cell_type": "code",
   "execution_count": 48,
   "metadata": {},
   "outputs": [],
   "source": [
    "from sklearn.datasets import load_boston\n",
    "data = load_boston()\n",
    "\n",
    "X = data.data\n",
    "y = data.target\n",
    "\n",
    "W = np.ones(X.shape[1],dtype = float)\n",
    "B = 0.\n",
    "\n",
    "#data.data.shape\n",
    "#data.feature_names\n",
    "#data.target.shape"
   ]
  },
  {
   "cell_type": "code",
   "execution_count": 60,
   "metadata": {},
   "outputs": [
    {
     "name": "stdout",
     "output_type": "stream",
     "text": [
      "2: 8454612.452418,delta=[1.79558992e+04 4.03076410e+04 4.85032797e+04 2.79396772e+02\n",
      " 2.27242708e+03 2.50525773e+04 2.87108123e+05 1.43982470e+04\n",
      " 4.43123281e+04 1.77221373e+06 7.49155879e+04 1.43302605e+06\n",
      " 5.36628067e+04 3.87430191e+03]\n",
      "\n",
      "12: 35306850851562.531250,delta=[0.000000e+00 0.000000e+00 7.812500e+07 0.000000e+00 0.000000e+00\n",
      " 0.000000e+00 3.125000e+08 0.000000e+00 0.000000e+00 3.359375e+09\n",
      " 7.812500e+07 2.968750e+09 7.812500e+07 0.000000e+00]\n",
      "\n",
      "22: 466729616609306176.000000,delta=[0. 0. 0. 0. 0. 0. 0. 0. 0. 0. 0. 0. 0. 0.]\n",
      "\n",
      "32: 466729616609306176.000000,delta=[0. 0. 0. 0. 0. 0. 0. 0. 0. 0. 0. 0. 0. 0.]\n",
      "\n",
      "42: 466729616609306176.000000,delta=[0. 0. 0. 0. 0. 0. 0. 0. 0. 0. 0. 0. 0. 0.]\n",
      "\n",
      "52: 466729616609306176.000000,delta=[0. 0. 0. 0. 0. 0. 0. 0. 0. 0. 0. 0. 0. 0.]\n",
      "\n",
      "62: 466729616609306176.000000,delta=[0. 0. 0. 0. 0. 0. 0. 0. 0. 0. 0. 0. 0. 0.]\n",
      "\n",
      "72: 466729616609306176.000000,delta=[0. 0. 0. 0. 0. 0. 0. 0. 0. 0. 0. 0. 0. 0.]\n",
      "\n",
      "82: 466729616609306176.000000,delta=[0. 0. 0. 0. 0. 0. 0. 0. 0. 0. 0. 0. 0. 0.]\n",
      "\n",
      "92: 466729616609306176.000000,delta=[0. 0. 0. 0. 0. 0. 0. 0. 0. 0. 0. 0. 0. 0.]\n",
      "\n"
     ]
    }
   ],
   "source": [
    "\n",
    "\n",
    "def mse(y,y_hat):\n",
    "    MSE = 0\n",
    "    for i in range(len(y)):\n",
    "        MSE += (y[i]-y_hat[i])**2\n",
    "    return MSE/len(y)\n",
    "\n",
    "def loss_function(X,W,B,Y_hat):\n",
    "    Z = np.matmul(X,W) + B\n",
    "    return mse(Z,Y_hat)/2\n",
    "\n",
    "def partial_derivative(f, X, i,e=1e-10):\n",
    "    newX = X.copy()\n",
    "    newX[i] += e\n",
    "    return (f(newX) - f(X)) / e\n",
    "\n",
    "def gradient(f,theta,e=1e-10):\n",
    "    grad=[]\n",
    "    for i in range(len(theta)):\n",
    "        grad.append(partial_derivative(f,theta,i))\n",
    "    return grad\n",
    "\n",
    "def gradient_descent(X_train, Y_train, W, B, alpha, num_iters):\n",
    "    train_loss = []\n",
    "    Theta = np.append(W,B)\n",
    "    for i in range(num_iters):\n",
    "        train_loss.append(loss_function(X_train,Theta[0:-1],Theta[-1],Y_train))\n",
    "        def function(theta,data=X_train,vali_data=Y_train):\n",
    "            theta_w = theta[0:-1]\n",
    "            theta_b = theta[-1]\n",
    "            z = loss_function(X=data,W=theta_w,B=theta_b,Y_hat=vali_data)\n",
    "            return z\n",
    "        delta = gradient(f=function, theta=Theta)\n",
    "        # delta is a list, need ndarray\n",
    "        delta = np.array(delta)\n",
    "        Theta -= alpha*delta\n",
    "        if (i % 10 == 2):\n",
    "            print(\"%d: %f,delta=%s\\n\" % (i,train_loss[i],str(delta)))\n",
    "            #print(delta)\n",
    "\n",
    "gradient_descent(X,y,W,B,0.00001,100)"
   ]
  },
  {
   "cell_type": "code",
   "execution_count": 101,
   "metadata": {},
   "outputs": [
    {
     "data": {
      "text/plain": [
       "11"
      ]
     },
     "execution_count": 101,
     "metadata": {},
     "output_type": "execute_result"
    }
   ],
   "source": [
    "a = np.array([1,2])\n",
    "b =np.array([3,4])\n",
    "\n",
    "np.dot(a,b)"
   ]
  },
  {
   "cell_type": "code",
<<<<<<< HEAD
   "execution_count": 167,
=======
   "execution_count": 81,
>>>>>>> 5c2866d63bebdeb23f490acf8b59538d48a8c3fd
   "metadata": {},
   "outputs": [
    {
     "data": {
<<<<<<< HEAD
      "image/png": "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\n",
=======
      "image/png": "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\n",
      "text/plain": [
       "<Figure size 432x288 with 1 Axes>"
      ]
     },
     "metadata": {
      "needs_background": "light"
     },
     "output_type": "display_data"
    }
   ],
   "source": []
  },
  {
   "cell_type": "code",
   "execution_count": 262,
   "metadata": {},
   "outputs": [
    {
     "name": "stdout",
     "output_type": "stream",
     "text": [
      "0: 1249419.789537\n",
      "100: 2862920634620529579745345536.000000\n",
      "200: 2862920634620529579745345536.000000\n",
      "300: 2862920634620529579745345536.000000\n",
      "400: 2862920634620529579745345536.000000\n",
      "500: 2862920634620529579745345536.000000\n",
      "600: 2862920634620529579745345536.000000\n",
      "700: 2862920634620529579745345536.000000\n",
      "800: 2862920634620529579745345536.000000\n",
      "900: 2862920634620529579745345536.000000\n"
     ]
    },
    {
     "data": {
      "image/png": "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\n",
>>>>>>> 5c2866d63bebdeb23f490acf8b59538d48a8c3fd
      "text/plain": [
       "<Figure size 432x288 with 1 Axes>"
      ]
     },
     "metadata": {
      "needs_background": "light"
     },
     "output_type": "display_data"
    }
   ],
   "source": [
<<<<<<< HEAD
    "### w0=4, w1=3\n",
=======
    "def mse(y,y_hat):\n",
    "    MSE = 0.0\n",
    "    for i in range(len(y)):\n",
    "        MSE += (y[i]-y_hat[i])**2\n",
    "    return MSE/len(y)\n",
    "\n",
    "def loss_function(X,W,B,Y_hat):\n",
    "    Z = np.matmul(X,W) + B\n",
    "    ret = mse(Z,Y_hat)/2\n",
    "    return ret\n",
    "\n",
    "def partial_derivative(f, X, i,e=1e-10):\n",
    "    newX = X.copy()\n",
    "    newX[i] += e\n",
    "    ret = (f(newX) - f(X)) / e\n",
    "    return ret\n",
    "\n",
    "def gradient(f,theta,e=1e-10):\n",
    "    grad=[]\n",
    "    for i in range(len(theta)):\n",
    "        grad.append(partial_derivative(f,theta,i))\n",
    "    return grad\n",
    "\n",
    "def gradient_descent(X_train, Y_train, W,alpha, num_iters):\n",
    "    train_loss = []\n",
    "    for i in range(num_iters):\n",
    "        train_loss.append(loss_function(X_train,W[:-1],W[-1],Y_train))\n",
    "        def function(theta,data=X_train,vali_data=Y_train):\n",
    "            theta_w = theta[:-1]\n",
    "            theta_b = theta[-1]\n",
    "            z = loss_function(X=data,W=theta_w,B=theta_b,Y_hat=vali_data)\n",
    "            return z\n",
    "        delta = gradient(f=function, theta=W)\n",
    "        delta = np.array(delta).reshape((len(delta),1))\n",
    "        #print(delta)\n",
    "        W -= alpha*delta\n",
    "        # delta is a list, need ndarray\n",
    "        #print(\"before: %f,%f\"%(a[0],delta[0]))\n",
    "        #delta = np.array(delta)\n",
    "        #a -= alpha*delta\n",
    "        if (i % 100 == 0):\n",
    "            print(\"%d: %f\" % (i,train_loss[i]))\n",
    "\n",
    "        #print(\"%f,%f\"%(a[0],delta[0]))\n",
    "            #print(delta)\n",
    "    return W\n",
    "\n",
    "### w0 \n",
>>>>>>> 5c2866d63bebdeb23f490acf8b59538d48a8c3fd
    "import matplotlib.pyplot as plt\n",
    "%matplotlib inline\n",
    "#datax = 2 + np.random.rand(100,1)\n",
    "#datay = 4 + 3 * datax + np.random.rand(100,1)           \n",
    "#W = np.ones((datax.shape[1]+1,1),dtype = float)\n",
    "#W = gradient_descent(datax,datay,W,0.1,1000)\n",
    "#newy = W[:-1] * datax + W[-1]\n",
    "#plt.plot(datax,datay,'b.')\n",
    "#plt.plot(datax,newy,'r.')\n",
    "#plt.show()\n",
    "#---------------------------------------------------------------- \n",
    "\n",
    "datax = np.array([[i*np.pi/180] for i in range(60,300,4)])\n",
    "datax.reshape(-1)\n",
    "#加上雜訊\n",
    "datay = np.sin(datax) + np.random.normal(0,0.15,len(datax)).reshape(len(datax),1)\n",
    "data2 = np.array([i**2 for i in range(len(datax))]).reshape(len(datax),1)\n",
    "data3 = np.array([i**3 for i in range(len(datax))]).reshape(len(datax),1)\n",
    "\n",
    "newx = np.concatenate((datax,data2),axis=1)\n",
    "W = []\n",
    "W = np.ones((newx.shape[1]+1,1),dtype = float)\n",
    "\n",
    "W = gradient_descent(newx,datay,W,0.1,1000)\n",
    "newy = [W[0] * datax[i] + W[1]*(datax[i]**2) +  W[-1] for i in range(len(datax))]\n",
    "plt.plot(datax,datay,'b.')\n",
    "plt.plot(datax,newy,'r.')\n",
    "plt.show()"
   ]
  },
  {
   "cell_type": "code",
   "execution_count": 219,
   "metadata": {},
   "outputs": [
    {
     "name": "stdout",
     "output_type": "stream",
     "text": [
      "(10, 1)\n",
      "(10, 1)\n",
      "(10, 1)\n",
      "[[2.]\n",
      " [2.]\n",
      " [2.]\n",
      " [2.]\n",
      " [2.]\n",
      " [2.]\n",
      " [2.]\n",
      " [2.]\n",
      " [2.]\n",
      " [2.]]\n"
     ]
    }
   ],
   "source": [
    "a = np.ones(10).reshape(10,1)\n",
    "print(a.shape)\n",
    "b = np.ones(10).reshape(10,1)\n",
    "print(b.shape)\n",
    "c = a + b\n",
    "print(c.shape)\n",
    "print(c)"
   ]
  },
  {
   "cell_type": "code",
   "execution_count": 376,
   "metadata": {},
   "outputs": [
    {
     "name": "stdout",
     "output_type": "stream",
     "text": [
      "0: 6.825426\n",
      "10: 0.296452\n",
      "20: 0.296452\n",
      "30: 0.296452\n",
      "40: 0.296452\n",
      "50: 0.296452\n",
      "60: 0.296452\n",
      "70: 0.296452\n",
      "80: 0.296452\n",
      "90: 0.296452\n",
      "(1, 1)\n"
     ]
    },
    {
     "ename": "IndexError",
     "evalue": "index 1 is out of bounds for axis 0 with size 1",
     "output_type": "error",
     "traceback": [
      "\u001b[0;31m---------------------------------------------------------------------------\u001b[0m",
      "\u001b[0;31mIndexError\u001b[0m                                Traceback (most recent call last)",
      "\u001b[0;32m<ipython-input-376-24189c15944a>\u001b[0m in \u001b[0;36m<module>\u001b[0;34m\u001b[0m\n\u001b[1;32m     68\u001b[0m newy = [W[0] * datax[i] \n\u001b[1;32m     69\u001b[0m         \u001b[0;34m+\u001b[0m \u001b[0mW\u001b[0m\u001b[0;34m[\u001b[0m\u001b[0;36m1\u001b[0m\u001b[0;34m]\u001b[0m\u001b[0;34m*\u001b[0m\u001b[0;34m(\u001b[0m\u001b[0mdatax\u001b[0m\u001b[0;34m[\u001b[0m\u001b[0mi\u001b[0m\u001b[0;34m]\u001b[0m\u001b[0;34m**\u001b[0m\u001b[0;36m2\u001b[0m\u001b[0;34m)\u001b[0m\u001b[0;34m\u001b[0m\u001b[0;34m\u001b[0m\u001b[0m\n\u001b[0;32m---> 70\u001b[0;31m         for i in range(len(datax))]\n\u001b[0m\u001b[1;32m     71\u001b[0m \u001b[0;34m\u001b[0m\u001b[0m\n\u001b[1;32m     72\u001b[0m \u001b[0;31m#newy = [W[0] * datax[i] + W[1]*(datax[i]**2) + W[2]*(datax[i]**3)+W[3]*(datax[i]**4) + W[4] * (datax[i]**5) + W[5]*(datax[i]**6) + W[6]*(datax[i]**7)+W[7]*(datax[i]**8) for i in range(len(datax))]\u001b[0m\u001b[0;34m\u001b[0m\u001b[0;34m\u001b[0m\u001b[0;34m\u001b[0m\u001b[0m\n",
      "\u001b[0;32m<ipython-input-376-24189c15944a>\u001b[0m in \u001b[0;36m<listcomp>\u001b[0;34m(.0)\u001b[0m\n\u001b[1;32m     68\u001b[0m newy = [W[0] * datax[i] \n\u001b[1;32m     69\u001b[0m         \u001b[0;34m+\u001b[0m \u001b[0mW\u001b[0m\u001b[0;34m[\u001b[0m\u001b[0;36m1\u001b[0m\u001b[0;34m]\u001b[0m\u001b[0;34m*\u001b[0m\u001b[0;34m(\u001b[0m\u001b[0mdatax\u001b[0m\u001b[0;34m[\u001b[0m\u001b[0mi\u001b[0m\u001b[0;34m]\u001b[0m\u001b[0;34m**\u001b[0m\u001b[0;36m2\u001b[0m\u001b[0;34m)\u001b[0m\u001b[0;34m\u001b[0m\u001b[0;34m\u001b[0m\u001b[0m\n\u001b[0;32m---> 70\u001b[0;31m         for i in range(len(datax))]\n\u001b[0m\u001b[1;32m     71\u001b[0m \u001b[0;34m\u001b[0m\u001b[0m\n\u001b[1;32m     72\u001b[0m \u001b[0;31m#newy = [W[0] * datax[i] + W[1]*(datax[i]**2) + W[2]*(datax[i]**3)+W[3]*(datax[i]**4) + W[4] * (datax[i]**5) + W[5]*(datax[i]**6) + W[6]*(datax[i]**7)+W[7]*(datax[i]**8) for i in range(len(datax))]\u001b[0m\u001b[0;34m\u001b[0m\u001b[0;34m\u001b[0m\u001b[0;34m\u001b[0m\u001b[0m\n",
      "\u001b[0;31mIndexError\u001b[0m: index 1 is out of bounds for axis 0 with size 1"
     ]
    }
   ],
   "source": [
    "\n",
    "def gradient(f,theta,e=1e-10):\n",
    "    grad=[]\n",
    "    for i in range(len(theta)):\n",
    "        grad.append(partial_derivative(f,theta,i))\n",
    "    return grad\n",
    "\n",
    "def loss_function2(X,W,B,Y_hat,index):\n",
    "    #Z = np.matmul(X,W)\n",
    "    #Z = X[index,0]*W[0]+X[index,1]*W[1]\n",
    "    Z = X[index,0]*W[0]\n",
    "    ret = mse(Z,Y_hat[index])/2\n",
    "    return ret\n",
    "\n",
    "def loss_function3(X,W,B,Y_hat,index):\n",
    "    #Z = np.matmul(X,W)\n",
    "    #Z = X[index,0]*W[0]+X[index,1]*W[1]\n",
    "    Z = X[index,0]*W[0] + B\n",
    "    ret = mse(Z,Y_hat[index])/2\n",
    "    return ret\n",
    "\n",
    "def gradient_descent2(X_train, Y_train, W,B,alpha, num_iters):\n",
    "    train_loss = []\n",
    "    for i in range(num_iters):\n",
    "        train_loss.append(loss_function(X_train,W,B,Y_train))\n",
    "        for j in range(len(X_train)):\n",
    "            def function_w(theta,B=B,data=X_train,vali_data=Y_train,index=j):\n",
    "                z = loss_function2(X=data,W=theta,B=B,Y_hat=vali_data,index=index)\n",
    "                return z\n",
    "            delta_w = gradient(f=function_w, theta=W)\n",
    "            delta_w = np.array(delta_w).reshape((len(delta_w),1))\n",
    "            W -= alpha*delta_w\n",
    "        if (i % 10 == 0):\n",
    "            print(\"%d: %f\" % (i,train_loss[i]))\n",
    "    for i in range(num_iters):\n",
    "         for j in range(len(X_train)):\n",
    "                def function_b(theta,W=W,data=X_train,vali_data=Y_train,index=j):\n",
    "                    z = loss_function3(X=data,W=W,B=theta,Y_hat=vali_data,index=index)\n",
    "                    return z\n",
    "                delta_b = gradient(f=function_b, theta=B)\n",
    "                delta_b = np.array(delta_b).reshape((len(delta_b),1))\n",
    "                B -= alpha*delta_b\n",
    "    return W,B\n",
    "\n",
    "\n",
    "datax = np.array([[i*np.pi/180] for i in range(60,300,4)])\n",
    "datax.reshape(-1)\n",
    "datay = np.sin(datax) + np.random.normal(0,0.15,len(datax)).reshape(len(datax),1)\n",
    "data2 = np.array([datax[i]**2 for i in range(len(datax))]).reshape(len(datax),1)\n",
    "data3 = np.array([datax[i]**3 for i in range(len(datax))]).reshape(len(datax),1)\n",
    "data4 = np.array([datax[i]**4 for i in range(len(datax))]).reshape(len(datax),1)\n",
    "data5 = np.array([datax[i]**5 for i in range(len(datax))]).reshape(len(datax),1)\n",
    "data6 = np.array([datax[i]**6 for i in range(len(datax))]).reshape(len(datax),1)\n",
    "data7 = np.array([datax[i]**7 for i in range(len(datax))]).reshape(len(datax),1)\n",
    "data8 = np.array([datax[i]**8 for i in range(len(datax))]).reshape(len(datax),1)\n",
    "#newx = datax\n",
    "\n",
    "newx = np.concatenate((datax,data2,data3,data4,data5,data6,data7,data8),axis=1)\n",
    "#newx = datax\n",
    "#newx = np.concatenate((datax,data2,data3,data4),axis=1)\n",
    "newx = datax\n",
    "W = []\n",
    "W = np.ones((newx.shape[1],1),dtype = float)\n",
    "B = [ 0. ]\n",
    "W,B = gradient_descent2(newx,datay,W,B,0.01,100)\n",
    "#newy = [W[0] * datax[i] for i in range(len(datax))]\n",
    "print(W.shape)\n",
    "newy = [W[0] * datax[i] \n",
    "        + W[1]*(datax[i]**2)\n",
    "        for i in range(len(datax))]\n",
    "\n",
    "#newy = [W[0] * datax[i] + W[1]*(datax[i]**2) + W[2]*(datax[i]**3)+W[3]*(datax[i]**4) + W[4] * (datax[i]**5) + W[5]*(datax[i]**6) + W[6]*(datax[i]**7)+W[7]*(datax[i]**8) for i in range(len(datax))]\n",
    "plt.plot(datax,datay,'b.')\n",
    "plt.plot(datax,newy,'r.')\n",
    "plt.show()"
   ]
  },
  {
   "cell_type": "code",
   "execution_count": 339,
   "metadata": {},
   "outputs": [
    {
     "name": "stdout",
     "output_type": "stream",
     "text": [
      "0: 42.135260\n",
      "10: 13019.024749\n",
      "20: 13013.358376\n",
      "30: 13015.887142\n",
      "40: 13014.332161\n",
      "50: 13015.683660\n",
      "60: 13016.438699\n",
      "70: 13018.254532\n",
      "80: 13016.230709\n",
      "90: 13016.222281\n",
      "100: 13016.380938\n",
      "110: 13015.674049\n",
      "120: 13018.006199\n",
      "130: 13016.292338\n",
      "140: 13015.417358\n",
      "150: 13013.358376\n",
      "160: 13015.887142\n",
      "170: 13014.332161\n",
      "180: 13015.683660\n",
      "190: 13016.438699\n",
      "200: 13018.254532\n",
      "210: 13016.230709\n",
      "220: 13016.222281\n",
      "230: 13016.380938\n",
      "240: 13015.674049\n",
      "250: 13018.006199\n",
      "260: 13016.292338\n",
      "270: 13015.417358\n",
      "280: 13013.358376\n",
      "290: 13015.887142\n",
      "300: 13014.332161\n",
      "310: 13015.683660\n",
      "320: 13016.438699\n",
      "330: 13018.254532\n",
      "340: 13016.230709\n",
      "350: 13016.222281\n",
      "360: 13016.380938\n",
      "370: 13015.674049\n",
      "380: 13018.006199\n",
      "390: 13016.292338\n",
      "400: 13015.417358\n",
      "410: 13013.358376\n",
      "420: 13015.887142\n",
      "430: 13014.332161\n",
      "440: 13015.683660\n",
      "450: 13016.438699\n",
      "460: 13018.254532\n",
      "470: 13016.230709\n",
      "480: 13016.222281\n",
      "490: 13016.380938\n",
      "500: 13015.674049\n",
      "510: 13018.006199\n",
      "520: 13016.292338\n",
      "530: 13015.417358\n",
      "540: 13013.358376\n",
      "550: 13015.887142\n",
      "560: 13014.332161\n",
      "570: 13015.683660\n",
      "580: 13016.438699\n",
      "590: 13018.254532\n",
      "600: 13016.230709\n",
      "610: 13016.222281\n",
      "620: 13016.380938\n",
      "630: 13015.674049\n",
      "640: 13018.006199\n",
      "650: 13016.292338\n",
      "660: 13015.417358\n",
      "670: 13013.358376\n",
      "680: 13015.887142\n",
      "690: 13014.332161\n",
      "700: 13015.683660\n",
      "710: 13016.438699\n",
      "720: 13018.254532\n",
      "730: 13016.230709\n",
      "740: 13016.222281\n",
      "750: 13016.380938\n",
      "760: 13015.674049\n",
      "770: 13018.006199\n",
      "780: 13016.292338\n",
      "790: 13015.417358\n",
      "800: 13013.358376\n",
      "810: 13015.887142\n",
      "820: 13014.332161\n",
      "830: 13015.683660\n",
      "840: 13016.438699\n",
      "850: 13018.254532\n",
      "860: 13016.230709\n",
      "870: 13016.222281\n",
      "880: 13016.380938\n",
      "890: 13015.674049\n",
      "900: 13018.006199\n",
      "910: 13016.292338\n",
      "920: 13015.417358\n",
      "930: 13013.358376\n",
      "940: 13015.887142\n",
      "950: 13014.332161\n",
      "960: 13015.683660\n",
      "970: 13016.438699\n",
      "980: 13018.254532\n",
      "990: 13016.230709\n"
     ]
    },
    {
     "data": {
      "image/png": "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\n",
      "text/plain": [
       "<Figure size 432x288 with 1 Axes>"
      ]
     },
     "metadata": {
      "needs_background": "light"
     },
     "output_type": "display_data"
    }
   ],
   "source": [
    "datax = 2 + np.random.rand(100,1)\n",
    "datay = 4 + 3 * datax + np.random.rand(100,1)           \n",
    "W = np.ones((datax.shape[1],1),dtype = float)\n",
    "B = [0]\n",
    "W,B = gradient_descent2(newx,datay,W,B,0.1,1000)\n",
    "newy = W[0] * datax + B\n",
    "plt.plot(datax,datay,'b.')\n",
    "plt.plot(datax,newy,'r.')\n",
    "plt.show()"
   ]
  },
  {
   "cell_type": "code",
   "execution_count": 382,
   "metadata": {},
   "outputs": [
    {
     "name": "stdout",
     "output_type": "stream",
     "text": [
      "Cost at iteration 0: 0.6488367962618025\n",
      "Cost at iteration 1: 4.127431668171233e+27\n",
      "Cost at iteration 2: 1.0328708462910207e+56\n",
      "Cost at iteration 3: 2.58471193514213e+84\n",
      "Cost at iteration 4: 6.468123107217431e+112\n",
      "Cost at iteration 5: 1.6186181508779823e+141\n",
      "Cost at iteration 6: 4.0505177080322216e+169\n",
      "Cost at iteration 7: 1.0136234845867241e+198\n",
      "Cost at iteration 8: 2.5365462949793363e+226\n",
      "Cost at iteration 9: 6.347590801131354e+254\n"
     ]
    },
    {
     "data": {
      "image/png": "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\n",
      "text/plain": [
       "<Figure size 432x288 with 1 Axes>"
      ]
     },
     "metadata": {
      "needs_background": "light"
     },
     "output_type": "display_data"
    }
   ],
   "source": [
    " def train_gradient_descent(X, y,learning_rate=0.01, n_iters=10):\n",
    "        n_samples, n_features = X.shape\n",
    "        W = np.zeros(shape=(n_features,1))\n",
    "        B = 0\n",
    "        costs = []\n",
    "        for i in range(n_iters):\n",
    "            y_predict = np.dot(X, W) + B\n",
    "\n",
    "            # Step 2: Compute cost over training set\n",
    "            cost = (1 / n_samples) * np.sum((y_predict - y)**2)\n",
    "            costs.append(cost)\n",
    "\n",
    "            if i % 1 == 0:\n",
    "                print(f\"Cost at iteration {i}: {cost}\")\n",
    "\n",
    "            # Step 3: Compute the gradients\n",
    "            dJ_dw = (2 / n_samples) * np.dot(X.T, (y_predict - y))\n",
    "            dJ_db = (2 / n_samples) * np.sum((y_predict - y)) \n",
    "            W -= learning_rate * dJ_dw\n",
    "            B -= learning_rate * dJ_db\n",
    "\n",
    "        return W, B, costs\n",
    "\n",
    "\n",
    "datax = np.array([[i*np.pi/180] for i in range(60,300,4)])\n",
    "datax.reshape(-1)\n",
    "#加上雜訊\n",
    "datay = np.sin(datax) + np.random.normal(0,0.15,len(datax)).reshape(len(datax),1)\n",
    "data2 = np.array([datax[i]**2 for i in range(len(datax))]).reshape(len(datax),1)\n",
    "data3 = np.array([datax[i]**3 for i in range(len(datax))]).reshape(len(datax),1)\n",
    "data4 = np.array([datax[i]**4 for i in range(len(datax))]).reshape(len(datax),1)\n",
    "data5 = np.array([datax[i]**5 for i in range(len(datax))]).reshape(len(datax),1)\n",
    "data6 = np.array([datax[i]**6 for i in range(len(datax))]).reshape(len(datax),1)\n",
    "data7 = np.array([datax[i]**7 for i in range(len(datax))]).reshape(len(datax),1)\n",
    "data8 = np.array([datax[i]**8 for i in range(len(datax))]).reshape(len(datax),1)\n",
    "data9 = np.array([datax[i]**9 for i in range(len(datax))]).reshape(len(datax),1)\n",
    "data10 = np.array([datax[i]**10 for i in range(len(datax))]).reshape(len(datax),1)\n",
    "data11 = np.array([datax[i]**11 for i in range(len(datax))]).reshape(len(datax),1)\n",
    "data12 = np.array([datax[i]**12 for i in range(len(datax))]).reshape(len(datax),1)\n",
    "#newx = datax\n",
    "\n",
    "newx = np.concatenate((datax,data2,data3,data4,data5,data6,data7,data8,data9,data10,data11,data12),axis=1)\n",
    "#newx = datax\n",
    "W,B,cost = train_gradient_descent(newx,datay)\n",
    "#newy = [W[0] * datax[i] + B for i in range(len(datax))]\n",
    "#newy = [W[0] * datax[i] + W[1]*(datax[i]**2)+B for i in range(len(datax))]\n",
    "plt.plot(datax,datay,'b.')\n",
    "plt.plot(datax,newy,'r.')\n",
    "plt.show()"
   ]
  },
  {
   "cell_type": "code",
   "execution_count": 346,
   "metadata": {},
   "outputs": [
    {
     "name": "stdout",
     "output_type": "stream",
     "text": [
      "Cost at iteration 0: 144.29592066091172\n",
      "Cost at iteration 100: 0.16039833174373164\n",
      "Cost at iteration 200: 0.15703421423545763\n",
      "Cost at iteration 300: 0.1538031353408884\n",
      "Cost at iteration 400: 0.15069983386425242\n",
      "Cost at iteration 500: 0.1477192566734331\n",
      "Cost at iteration 600: 0.14485655046930865\n",
      "Cost at iteration 700: 0.1421070538830861\n",
      "Cost at iteration 800: 0.13946628988615248\n",
      "Cost at iteration 900: 0.13692995850009262\n"
     ]
    },
    {
     "data": {
      "image/png": "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\n",
      "text/plain": [
       "<Figure size 432x288 with 1 Axes>"
      ]
     },
     "metadata": {
      "needs_background": "light"
     },
     "output_type": "display_data"
    }
   ],
   "source": [
    " def train_gradient_descent(X, y,learning_rate=0.01, n_iters=1000):\n",
    "        n_samples, n_features = X.shape\n",
    "        W = np.zeros(shape=(n_features,1))\n",
    "        B = 0\n",
    "        costs = []\n",
    "        for i in range(n_iters):\n",
    "            y_predict = np.dot(X, W) + B\n",
    "\n",
    "            # Step 2: Compute cost over training set\n",
    "            cost = (1 / n_samples) * np.sum((y_predict - y)**2)\n",
    "            costs.append(cost)\n",
    "\n",
    "            if i % 100 == 0:\n",
    "                print(f\"Cost at iteration {i}: {cost}\")\n",
    "\n",
    "            # Step 3: Compute the gradients\n",
    "            dJ_dw = (2 / n_samples) * np.dot(X.T, (y_predict - y))\n",
    "            dJ_db = (2 / n_samples) * np.sum((y_predict - y)) \n",
    "            W -= learning_rate * dJ_dw\n",
    "            B -= learning_rate * dJ_db\n",
    "\n",
    "        return W, B, costs\n",
    "\n",
    "datax = 2 + np.random.rand(100,1)\n",
    "datay = 4 + 3 * datax + np.random.rand(100,1)           \n",
    "W,B,cost = train_gradient_descent(datax,datay)\n",
    "newy = W[0] * datax + B\n",
    "plt.plot(datax,datay,'b.')\n",
    "plt.plot(datax,newy,'r.')\n",
    "plt.show()"
   ]
  },
  {
   "cell_type": "code",
   "execution_count": null,
   "metadata": {},
   "outputs": [],
   "source": []
  }
 ],
 "metadata": {
  "kernelspec": {
   "display_name": "myKernel",
   "language": "python",
   "name": "mykernel"
  },
  "language_info": {
   "codemirror_mode": {
    "name": "ipython",
    "version": 3
   },
   "file_extension": ".py",
   "mimetype": "text/x-python",
   "name": "python",
   "nbconvert_exporter": "python",
   "pygments_lexer": "ipython3",
   "version": "3.6.7"
  }
 },
 "nbformat": 4,
 "nbformat_minor": 2
}
