{
 "cells": [
  {
   "cell_type": "markdown",
   "metadata": {},
   "source": [
    "### 資料轉換\n",
    "\n",
    "- positive skew 正偏態或右偏態通常會作log轉換消除偏態(Gaussian-like)  \n",
    "- negative skew 負偏態或左偏態通常會作exp指數轉換消除偏態(Gaussian-like)  \n",
    "- Min-max scaling 使資料所有features都linearly scale到[-1,1]或[0,1]\n",
    "- Standardize  使資料所有features都scale到~N(0,1)  \n",
    "- Robust scaling 因為有outlier使linearly scale到[-1,1]或[0,1]時導致資料偏移, 這時會用四分位數中第一分位數跟第三分位數距離來除避免outlier值太大  \n",
    "- Thresholding 通常需要專家領域的人來說明  \n",
    "\n",
    "- 如果沒有所有features都scale到[-1,1]或[0,1],KNN計算距離會受特定維度影響  \n",
    "  For KNN, scaling prevents the distance scores being dominated by a few features\n",
    "- 如果沒有所有features都scale到[-1,1]或[0,1], 作Gradient Decent往極值移動時會受特定維度影響  \n",
    "  For linear regression, logistic regression, SVM, scaling helps the optimization  \n",
    "- For decision trees and random forest, scaling or not is not important"
   ]
  },
  {
   "cell_type": "code",
   "execution_count": 13,
   "metadata": {},
   "outputs": [
    {
     "name": "stdout",
     "output_type": "stream",
     "text": [
      "[0.0, 0.25115274658869124, 0.3824438126055387, 0.4085520442453886, 0.7625901379378001, 0.8047167589611331, 1.3259270521337874, 1.341442628904938, 1.354353059404155, 1.5443225853298896, 1.6799453934506445, 1.9016130824552724, 2.3066274167775127, 2.490213260543257, 2.7731684351859514, 3.078364665194891, 3.477329474882181, 3.4917624204107702, 3.5718301126867624, 3.684626509880891, 3.866209229701016, 3.9092472296474052, 4.090949433653032, 4.765004023614007, 4.933214301994779, 5.516271212355512, 6.063568812158037, 6.486272548996289, 6.836078619464321, 7.013191443913938, 7.080974229079244, 7.150357511404322, 7.875213948917581, 8.44962396569321, 8.829886177599953, 9.022214470378806, 9.660231297439141, 9.6905878090841, 11.237045202452741, 12.897716577308211, 14.227587019191427, 14.462523171032785, 14.474111774812204, 14.486179990439613, 15.414778465647512, 17.85160432397279, 18.133059153764663, 19.208859017222725, 19.86903699368488, 20.23666703518492, 21.391625686337118, 21.56622388977875, 21.886121260038024, 22.123800316517755, 22.514509517178755, 23.465130625162658, 24.383375519663566, 24.85491925241101, 24.892713826568833, 25.3423627229364, 25.619094129508067, 26.69485420762944, 28.30022533920994, 31.08304532940734, 32.82517884045424, 33.938958483624575, 35.21604789928142, 35.87505349996376, 36.03166989428442, 38.538103762092916, 40.37697528517712, 40.67547576815148, 43.257519974650656, 43.377620939643705, 43.78596197759957, 44.40953397045462, 44.73429797055229, 45.24878618618141, 46.419996293112185, 48.682443134225146, 49.17152497237199, 49.67014962611799, 51.370311608735705, 51.67404356293484, 54.476772118764195, 55.80443438740934, 55.90587111283735, 58.45078984026546, 60.0542649649469, 63.69857578459639, 63.86421995685148, 64.56897289154563, 66.73411489345406, 67.3779413803518, 69.5346876731349, 71.7209924295602, 76.46463593643514, 86.33845072746605, 90.14635509960411, 91.91182065538958]\n"
     ]
    }
   ],
   "source": [
    "import numpy as np\n",
    "import scipy\n",
    "n = 100\n",
    "a_b = [i*scipy.rand() for i in range(n)]\n",
    "a_b.sort()\n",
    "# len(a_b[:int(n*.8)])\n",
    "c = a_b[int(n*.8)]\n",
    "print(a_b)"
   ]
  },
  {
   "cell_type": "markdown",
   "metadata": {},
   "source": [
    "### Imbalanced classification \n",
    "- Under-sample the majority class  \n",
    "- Over-sample the minority class  "
   ]
  },
  {
   "cell_type": "markdown",
   "metadata": {},
   "source": [
    "### Selecting Hyper-parameters  \n",
    "將資料切成training data跟testing data  \n",
    "將training data切成k fold個validation data  \n",
    "假設k為5, 則拿4份當作training data, 1份當作validation data  \n",
    "拿training data先用不同的Hyper-parameters參數$\\lambda$訓練, 再用validation data檢驗  \n",
    "取不同份validation data 重複k次計算validation data檢驗的誤差平均  \n",
    "就可以得出最合適的Hyper-parameters參數$\\lambda$  \n",
    "再用這組Hyper-parameters參數$\\lambda$重新訓練training data加上validation data的資料  \n",
    "得到的模型來預測testing data  \n",
    "\n",
    "**選擇要比較的$\\lambda$的方法** \n",
    "- grid search  \n",
    "- random search(效果較佳)  \n",
    "- Bayesian optimization  \n",
    " - Pick strategy: tradeoff between  \n",
    "   1. Exploration  \n",
    "   Hyper-parameters for which the outcome is most uncertain  \n",
    "   2. Exploitation  \n",
    "   Hyper-parameters which are expected to have a good outcome  \n",
    "   \n",
    " \n",
    "   "
   ]
  },
  {
   "cell_type": "markdown",
   "metadata": {},
   "source": [
    "### Multi-class classification  \n",
    "- one-vs.-rest  \n",
    "Target Label = {Red,Green,Blue}  \n",
    "$f_1$: Red or \"Not Red\"  \n",
    "$f_2$: Green or \"Not Green\"  \n",
    "$f_3$: Blue or \"Not Blue\"  \n",
    "$\\hat y=arg~max_{k{\\in\\lbrace1,2,3\\rbrace}}f_k(x_i)$\n",
    "- one-vs.-one  \n",
    "假設有k類, 訓練C(k,2)個分類器  \n",
    "預測時同時將資料餵給C(k,2)個分類器,大多數說該類別+1即預測該類別    "
   ]
  },
  {
   "cell_type": "markdown",
   "metadata": {},
   "source": [
    "### Bias vs Variance  \n",
    "- Bias通常來自對model的估計偏差, 比如指數型估計成線性型, model太小無法涵蓋真實問題  \n",
    "- Variance通常來自訓練資料集的不均勻, 相對母體來說偏向某一部分, training data太小無法涵蓋整個母體  \n"
   ]
  },
  {
   "cell_type": "markdown",
   "metadata": {},
   "source": [
    "### Model complexity vs Error  \n",
    "- 針對high bias, low varance我們會先固定訓練資料集且增加model複雜度, 這時prediction error會下降  \n",
    "  當bias變小(model複雜度足夠), varance變大, 這時prediction error會不降反升  \n",
    "- high varance我們會嘗試增加data "
   ]
  },
  {
   "cell_type": "markdown",
   "metadata": {},
   "source": [
    "### Data Size vs Model complexity  \n",
    "1. training data分得好嗎? 分得不好增加model複雜度, 分得好跳到2  \n",
    "2. training data分好後, 看testing data分得好嗎? 分得不好增加training data size再回到1 "
   ]
  },
  {
   "cell_type": "markdown",
   "metadata": {},
   "source": []
  },
  {
   "cell_type": "markdown",
   "metadata": {},
   "source": [
    "# Cross Validation with KFold  \n",
    "```python\n",
    "from sklearn.model_selection import KFold\n",
    "```"
   ]
  },
  {
   "cell_type": "code",
   "execution_count": 31,
   "metadata": {},
   "outputs": [
    {
     "name": "stdout",
     "output_type": "stream",
     "text": [
      "train_data_index: [1 2 3 4], validation_data_index: [0]\n",
      "train_data_index: [0 2 3 4], validation_data_index: [1]\n",
      "train_data_index: [0 1 3 4], validation_data_index: [2]\n",
      "train_data_index: [0 1 2 4], validation_data_index: [3]\n",
      "train_data_index: [0 1 2 3], validation_data_index: [4]\n",
      "Cross Validation1============== \n",
      "TRAIN data: \n",
      " [[ 3  4]\n",
      " [ 5  6]\n",
      " [ 7  8]\n",
      " [ 9 10]] \n",
      " Validation data: [[1 2]]\n",
      "Cross Validation2============== \n",
      "TRAIN data: \n",
      " [[ 1  2]\n",
      " [ 5  6]\n",
      " [ 7  8]\n",
      " [ 9 10]] \n",
      " Validation data: [[3 4]]\n",
      "Cross Validation3============== \n",
      "TRAIN data: \n",
      " [[ 1  2]\n",
      " [ 3  4]\n",
      " [ 7  8]\n",
      " [ 9 10]] \n",
      " Validation data: [[5 6]]\n",
      "Cross Validation4============== \n",
      "TRAIN data: \n",
      " [[ 1  2]\n",
      " [ 3  4]\n",
      " [ 5  6]\n",
      " [ 9 10]] \n",
      " Validation data: [[7 8]]\n",
      "Cross Validation5============== \n",
      "TRAIN data: \n",
      " [[1 2]\n",
      " [3 4]\n",
      " [5 6]\n",
      " [7 8]] \n",
      " Validation data: [[ 9 10]]\n"
     ]
    }
   ],
   "source": [
    "import numpy as np\n",
    "from sklearn.model_selection import KFold\n",
    "#5筆維度2的資料\n",
    "X = np.array([[1, 2], [3, 4], [5, 6], [7, 8], [9, 10]])\n",
    "y = np.array([1, 2, 3, 4, 5])\n",
    "# n_splits不能大於資料size\n",
    "kf = KFold(n_splits=5, random_state=None, shuffle=False)\n",
    "for train_data_index, validation_data_index in kf.split(X):\n",
    "    print(\"train_data_index: \"+str(train_data_index)+\", validation_data_index: \"+ str(validation_data_index))\n",
    "    X_train, X_validation = X[train_data_index], X[validation_data_index]\n",
    "    y_train, y_validation = y[train_data_index], y[validation_data_index]\n",
    "\n",
    "i =1\n",
    "for train_data_index, validation_data_index in kf.split(X):\n",
    "    X_train, X_validation = X[train_data_index], X[validation_data_index]\n",
    "    y_train, y_validation = y[train_data_index], y[validation_data_index]\n",
    "    print('Cross Validation%d=============='%i,'\\n' \n",
    "          \"TRAIN data:\",'\\n', X_train,'\\n'\n",
    "          ,\"Validation data:\", X_validation)\n",
    "    i+=1"
   ]
  },
  {
   "cell_type": "markdown",
   "metadata": {},
   "source": [
    "# SVM with KFold  "
   ]
  },
  {
   "cell_type": "code",
   "execution_count": 1,
   "metadata": {},
   "outputs": [],
   "source": [
    "import numpy as np\n",
    "import pandas as pd\n",
    "import random\n",
    "import matplotlib.pyplot as plt\n",
    "%matplotlib inline\n",
    "from matplotlib.pylab import rcParams\n",
    "rcParams['figure.figsize'] = 8, 5\n",
    "from sklearn.metrics import mean_absolute_error\n",
    "from sklearn.svm import SVR"
   ]
  },
  {
   "cell_type": "markdown",
   "metadata": {},
   "source": [
    "### Generate Sin(X)"
   ]
  },
  {
   "cell_type": "code",
   "execution_count": 2,
   "metadata": {},
   "outputs": [
    {
     "data": {
      "image/png": "[encoded data removed]",
      "text/plain": [
       "<Figure size 432x288 with 1 Axes>"
      ]
     },
     "metadata": {
      "needs_background": "light"
     },
     "output_type": "display_data"
    }
   ],
   "source": [
    "# define input array with angles from 60deg to 300deg converted to radians\n",
    "X = np.array([i*np.pi/180 for i in range(60,300,4)])\n",
    "np.random.seed(100)  #Setting seed for reproducability\n",
    "y = np.sin(X) + np.random.normal(0,0.15,len(X))\n",
    "X = X.reshape(60,-1)\n",
    "y = y.reshape(60,-1)\n",
    "data = pd.DataFrame(np.column_stack([X,y]),columns=['X','y'])\n",
    "plt.plot(data['X'],data['y'],'.')\n",
    "plt.show()"
   ]
  },
  {
   "cell_type": "code",
   "execution_count": 7,
   "metadata": {},
   "outputs": [],
   "source": [
    "def draw_svm_regression(X, y, flag_dict, kernel, C = 1):\n",
    "    for key in flag_dict:\n",
    "        plotflag = key\n",
    "        params = flag_dict[key]\n",
    "        kernel_dict={'linear': SVR(kernel='linear',C=params),\n",
    "                     'poly': SVR(kernel='poly',C=1,degree=params),\n",
    "                     'rbf': SVR(kernel='rbf',C=1,gamma=params),\n",
    "                }\n",
    "        mae=None\n",
    "        if kernel in kernel_dict:\n",
    "            model = kernel_dict[kernel]\n",
    "            model.fit(X,y.reshape(-1))\n",
    "            predition = model.predict(X)\n",
    "            mae = mean_absolute_error(y_pred=predition, y_true=y)\n",
    "        plt.subplot(plotflag)\n",
    "        plt.tight_layout()\n",
    "        plt.plot(X,y,'.',c='b')\n",
    "        plt.plot(X,predition,'.',c='r')\n",
    "        if kernel == 'linear':\n",
    "            plt.title('Plot for C: %.2f'%params + '\\n' + 'mae:%.2f'%mae)\n",
    "        elif kernel == 'poly':\n",
    "            plt.title('Plot for degree: %.2f'%params + '\\n' + 'mae:%.2f'%mae)\n",
    "        elif kernel == 'rbf':\n",
    "            plt.title('Plot for gamma: %.2f'%params + '\\n' + 'mae:%.2f'%mae)   "
   ]
  },
  {
   "cell_type": "code",
   "execution_count": 8,
   "metadata": {},
   "outputs": [
    {
     "data": {
      "image/png": "[encoded data removed]",
      "text/plain": [
       "<Figure size 432x288 with 6 Axes>"
      ]
     },
     "metadata": {
      "needs_background": "light"
     },
     "output_type": "display_data"
    }
   ],
   "source": [
    "flag_dict = {231:0.01,232:0.1,233:1,\n",
    "             234:10,235:100,236:1000,\n",
    "            }\n",
    "draw_svm_regression(X,y,flag_dict,'rbf')\n",
    "plt.show()"
   ]
  },
  {
   "cell_type": "markdown",
   "metadata": {},
   "source": [
    "### 利用5-folds Cross Validation算不同gamma的MAE"
   ]
  },
  {
   "cell_type": "code",
   "execution_count": 17,
   "metadata": {},
   "outputs": [
    {
     "data": {
      "text/html": [
       "<div>\n",
       "<style scoped>\n",
       "    .dataframe tbody tr th:only-of-type {\n",
       "        vertical-align: middle;\n",
       "    }\n",
       "\n",
       "    .dataframe tbody tr th {\n",
       "        vertical-align: top;\n",
       "    }\n",
       "\n",
       "    .dataframe thead th {\n",
       "        text-align: right;\n",
       "    }\n",
       "</style>\n",
       "<table border=\"1\" class=\"dataframe\">\n",
       "  <thead>\n",
       "    <tr style=\"text-align: right;\">\n",
       "      <th></th>\n",
       "      <th>Gamma_0.01</th>\n",
       "      <th>Gamma_0.1</th>\n",
       "      <th>Gamma_1.0</th>\n",
       "      <th>Gamma_10.0</th>\n",
       "      <th>Gamma_100.0</th>\n",
       "      <th>Gamma_1000.0</th>\n",
       "    </tr>\n",
       "  </thead>\n",
       "  <tbody>\n",
       "    <tr>\n",
       "      <th>0</th>\n",
       "      <td>0.240295</td>\n",
       "      <td>0.228815</td>\n",
       "      <td>0.319926</td>\n",
       "      <td>0.983344</td>\n",
       "      <td>1.162192</td>\n",
       "      <td>1.203920</td>\n",
       "    </tr>\n",
       "    <tr>\n",
       "      <th>1</th>\n",
       "      <td>0.397592</td>\n",
       "      <td>0.159306</td>\n",
       "      <td>0.124477</td>\n",
       "      <td>0.509821</td>\n",
       "      <td>0.853879</td>\n",
       "      <td>0.965878</td>\n",
       "    </tr>\n",
       "    <tr>\n",
       "      <th>2</th>\n",
       "      <td>0.147584</td>\n",
       "      <td>0.136731</td>\n",
       "      <td>0.137241</td>\n",
       "      <td>0.215059</td>\n",
       "      <td>0.245586</td>\n",
       "      <td>0.261242</td>\n",
       "    </tr>\n",
       "    <tr>\n",
       "      <th>3</th>\n",
       "      <td>0.461221</td>\n",
       "      <td>0.241619</td>\n",
       "      <td>0.140147</td>\n",
       "      <td>0.478019</td>\n",
       "      <td>0.832765</td>\n",
       "      <td>0.983377</td>\n",
       "    </tr>\n",
       "    <tr>\n",
       "      <th>4</th>\n",
       "      <td>0.349623</td>\n",
       "      <td>0.242203</td>\n",
       "      <td>0.368836</td>\n",
       "      <td>0.985230</td>\n",
       "      <td>1.190064</td>\n",
       "      <td>1.260761</td>\n",
       "    </tr>\n",
       "  </tbody>\n",
       "</table>\n",
       "</div>"
      ],
      "text/plain": [
       "   Gamma_0.01  Gamma_0.1  Gamma_1.0  Gamma_10.0  Gamma_100.0  Gamma_1000.0\n",
       "0    0.240295   0.228815   0.319926    0.983344     1.162192      1.203920\n",
       "1    0.397592   0.159306   0.124477    0.509821     0.853879      0.965878\n",
       "2    0.147584   0.136731   0.137241    0.215059     0.245586      0.261242\n",
       "3    0.461221   0.241619   0.140147    0.478019     0.832765      0.983377\n",
       "4    0.349623   0.242203   0.368836    0.985230     1.190064      1.260761"
      ]
     },
     "execution_count": 17,
     "metadata": {},
     "output_type": "execute_result"
    }
   ],
   "source": [
    "import numpy as np\n",
    "import pandas as pd\n",
    "from sklearn.model_selection import KFold\n",
    "def cross_validation(X, y, folds, gamma):\n",
    "    # k fold\n",
    "    kf = KFold(n_splits=folds, random_state=None, shuffle=False)\n",
    "    evaluation = []\n",
    "    for train_index, validation_index in kf.split(X):\n",
    "        X_train, X_validation = X[train_index], X[validation_index]\n",
    "        y_train, y_validation = y[train_index], y[validation_index]\n",
    "        model = SVR(kernel='rbf', C=1, gamma=gamma)\n",
    "        model.fit(X_train, y_train.reshape(-1))\n",
    "        predicted = model.predict(X_validation)\n",
    "        mae = mean_absolute_error(y_pred=predicted, y_true=y_validation)\n",
    "        evaluation.append(mae)\n",
    "    return evaluation\n",
    "\n",
    "folds = 5\n",
    "cv = pd.DataFrame()\n",
    "for gamma in np.logspace(-2, 3, 6).tolist(): #generate gamma from 1e-2~1e3\n",
    "    cv['Gamma_'+str(gamma)] = cross_validation(X, y, folds, gamma)\n",
    "cv"
   ]
  },
  {
   "cell_type": "code",
   "execution_count": 18,
   "metadata": {},
   "outputs": [
    {
     "data": {
      "image/png": "[encoded data removed]",
      "text/plain": [
       "<Figure size 576x360 with 1 Axes>"
      ]
     },
     "metadata": {
      "needs_background": "light"
     },
     "output_type": "display_data"
    }
   ],
   "source": [
    "plt.title('5-folds Cross Validation')\n",
    "plt.xlabel('Gamma')\n",
    "plt.ylabel('MAE')\n",
    "cv.boxplot()\n",
    "plt.show()"
   ]
  },
  {
   "cell_type": "code",
   "execution_count": 12,
   "metadata": {},
   "outputs": [
    {
     "data": {
      "image/png": "[encoded data removed]",
      "text/plain": [
       "<Figure size 432x288 with 1 Axes>"
      ]
     },
     "metadata": {
      "needs_background": "light"
     },
     "output_type": "display_data"
    }
   ],
   "source": [
    "flag_dict = {111:10}\n",
    "draw_svm_regression(X,y,flag_dict,'rbf')\n",
    "plt.show()"
   ]
  },
  {
   "cell_type": "markdown",
   "metadata": {},
   "source": [
    "### Grid Search for SVM Parameters\n",
    "```python\n",
    "from sklearn.model_selection import GridSearchCV\n",
    "```"
   ]
  },
  {
   "cell_type": "code",
   "execution_count": 13,
   "metadata": {},
   "outputs": [],
   "source": [
    "import numpy as np\n",
    "import matplotlib.pyplot as plt\n",
    "from sklearn import svm, datasets\n",
    "%matplotlib inline\n",
    "from matplotlib.pylab import rcParams\n",
    "rcParams['figure.figsize'] = 10, 5\n",
    "data = datasets.load_iris()\n",
    "X = data.data\n",
    "y= data.target\n"
   ]
  },
  {
   "cell_type": "code",
   "execution_count": 14,
   "metadata": {},
   "outputs": [
    {
     "ename": "NameError",
     "evalue": "name 'svm' is not defined",
     "output_type": "error",
     "traceback": [
      "\u001b[0;31m---------------------------------------------------------------------------\u001b[0m",
      "\u001b[0;31mNameError\u001b[0m                                 Traceback (most recent call last)",
      "\u001b[0;32m<ipython-input-14-498a29bbf862>\u001b[0m in \u001b[0;36m<module>\u001b[0;34m\u001b[0m\n\u001b[1;32m      2\u001b[0m \u001b[0;31m# parameters放要搜尋的字典, 會改變model的參數\u001b[0m\u001b[0;34m\u001b[0m\u001b[0;34m\u001b[0m\u001b[0;34m\u001b[0m\u001b[0m\n\u001b[1;32m      3\u001b[0m \u001b[0mparameters\u001b[0m\u001b[0;34m=\u001b[0m \u001b[0;34m{\u001b[0m\u001b[0;34m'kernel'\u001b[0m\u001b[0;34m:\u001b[0m\u001b[0;34m[\u001b[0m\u001b[0;34m'linear'\u001b[0m\u001b[0;34m,\u001b[0m \u001b[0;34m'rbf'\u001b[0m\u001b[0;34m]\u001b[0m\u001b[0;34m,\u001b[0m \u001b[0;34m'C'\u001b[0m\u001b[0;34m:\u001b[0m\u001b[0;34m[\u001b[0m\u001b[0;36m0.01\u001b[0m\u001b[0;34m,\u001b[0m\u001b[0;36m0.1\u001b[0m\u001b[0;34m,\u001b[0m\u001b[0;36m1\u001b[0m\u001b[0;34m,\u001b[0m\u001b[0;36m10\u001b[0m\u001b[0;34m]\u001b[0m\u001b[0;34m,\u001b[0m \u001b[0;34m'gamma'\u001b[0m\u001b[0;34m:\u001b[0m\u001b[0;34m[\u001b[0m\u001b[0;36m0.01\u001b[0m\u001b[0;34m,\u001b[0m\u001b[0;36m0.1\u001b[0m\u001b[0;34m,\u001b[0m\u001b[0;36m1\u001b[0m\u001b[0;34m,\u001b[0m\u001b[0;36m10\u001b[0m\u001b[0;34m]\u001b[0m\u001b[0;34m}\u001b[0m\u001b[0;34m\u001b[0m\u001b[0;34m\u001b[0m\u001b[0m\n\u001b[0;32m----> 4\u001b[0;31m \u001b[0mmodel\u001b[0m \u001b[0;34m=\u001b[0m \u001b[0msvm\u001b[0m\u001b[0;34m.\u001b[0m\u001b[0mSVC\u001b[0m\u001b[0;34m(\u001b[0m\u001b[0;34m)\u001b[0m\u001b[0;34m\u001b[0m\u001b[0;34m\u001b[0m\u001b[0m\n\u001b[0m\u001b[1;32m      5\u001b[0m \u001b[0mmodel\u001b[0m\u001b[0;34m.\u001b[0m\u001b[0mfit\u001b[0m\u001b[0;34m(\u001b[0m\u001b[0mX\u001b[0m\u001b[0;34m,\u001b[0m \u001b[0my\u001b[0m\u001b[0;34m.\u001b[0m\u001b[0mreshape\u001b[0m\u001b[0;34m(\u001b[0m\u001b[0;34m-\u001b[0m\u001b[0;36m1\u001b[0m\u001b[0;34m)\u001b[0m\u001b[0;34m)\u001b[0m\u001b[0;34m\u001b[0m\u001b[0;34m\u001b[0m\u001b[0m\n\u001b[1;32m      6\u001b[0m \u001b[0mbest_model\u001b[0m \u001b[0;34m=\u001b[0m \u001b[0mGridSearchCV\u001b[0m\u001b[0;34m(\u001b[0m\u001b[0mmodel\u001b[0m\u001b[0;34m,\u001b[0m \u001b[0mparameters\u001b[0m\u001b[0;34m,\u001b[0m \u001b[0mcv\u001b[0m\u001b[0;34m=\u001b[0m\u001b[0;36m5\u001b[0m\u001b[0;34m,\u001b[0m \u001b[0mscoring\u001b[0m\u001b[0;34m=\u001b[0m\u001b[0;34m'accuracy'\u001b[0m\u001b[0;34m,\u001b[0m \u001b[0mreturn_train_score\u001b[0m\u001b[0;34m=\u001b[0m\u001b[0;34m'cv_results_'\u001b[0m\u001b[0;34m)\u001b[0m\u001b[0;34m\u001b[0m\u001b[0;34m\u001b[0m\u001b[0m\n",
      "\u001b[0;31mNameError\u001b[0m: name 'svm' is not defined"
     ]
    }
   ],
   "source": [
    "from sklearn.model_selection import GridSearchCV\n",
    "# parameters放要搜尋的字典, 會改變model的參數\n",
    "parameters= {'kernel':['linear', 'rbf'], 'C':[0.01,0.1,1,10], 'gamma':[0.01,0.1,1,10]}\n",
    "model = svm.SVC()\n",
    "model.fit(X, y.reshape(-1))\n",
    "best_model = GridSearchCV(model, parameters, cv=5, scoring='accuracy', return_train_score='cv_results_')\n",
    "best_model.fit(X, y)"
   ]
  },
  {
   "cell_type": "code",
   "execution_count": 16,
   "metadata": {},
   "outputs": [
    {
     "name": "stdout",
     "output_type": "stream",
     "text": [
      "accuracy before Grid Search CV:0.9867\n",
      "accuracy after Grid Search CV:0.9933\n"
     ]
    },
    {
     "data": {
      "text/plain": [
       "SVC(C=1, cache_size=200, class_weight=None, coef0=0.0,\n",
       "  decision_function_shape='ovr', degree=3, gamma=0.01, kernel='linear',\n",
       "  max_iter=-1, probability=False, random_state=None, shrinking=True,\n",
       "  tol=0.001, verbose=False)"
      ]
     },
     "execution_count": 16,
     "metadata": {},
     "output_type": "execute_result"
    }
   ],
   "source": [
    "print('accuracy before Grid Search CV:%.4f'%model.score(X, y))\n",
    "print('accuracy after Grid Search CV:%.4f'%best_model.score(X,y))\n",
    "best_model.best_estimator_\n"
   ]
  },
  {
   "cell_type": "code",
   "execution_count": 17,
   "metadata": {},
   "outputs": [
    {
     "data": {
      "text/plain": [
       "{'mean_fit_time': array([0.00136752, 0.00243611, 0.00172291, 0.00165458, 0.00106392,\n",
       "        0.0015852 , 0.00080428, 0.00162215, 0.00084276, 0.00282369,\n",
       "        0.00086684, 0.00122256, 0.00051064, 0.00087585, 0.00044203,\n",
       "        0.00108953, 0.00044065, 0.00068493, 0.00055966, 0.00065484,\n",
       "        0.0005897 , 0.00090661, 0.00110388, 0.0016398 , 0.00042038,\n",
       "        0.0006681 , 0.00050168, 0.00064359, 0.00032725, 0.00069356,\n",
       "        0.00033045, 0.00126114]),\n",
       " 'std_fit_time': array([3.96143454e-04, 5.85237737e-04, 1.67171067e-03, 4.00920855e-04,\n",
       "        1.23260386e-04, 2.95804016e-04, 7.58696620e-05, 1.71388197e-04,\n",
       "        1.65888858e-04, 1.09388428e-03, 1.78552717e-04, 5.94002871e-04,\n",
       "        3.55342557e-05, 1.12568781e-04, 3.87545715e-05, 8.07255031e-05,\n",
       "        3.39491313e-05, 3.90571259e-05, 1.29110967e-04, 1.38930301e-04,\n",
       "        7.56310333e-05, 6.95410392e-05, 7.44285969e-04, 1.94585869e-04,\n",
       "        5.72680037e-05, 1.71392508e-04, 6.49175571e-05, 1.80326335e-04,\n",
       "        1.96602684e-05, 7.73304331e-05, 2.17533927e-05, 1.86254852e-04]),\n",
       " 'mean_score_time': array([0.00096626, 0.00131679, 0.00096741, 0.00065327, 0.00058699,\n",
       "        0.00066323, 0.00047183, 0.00058036, 0.00053415, 0.00166707,\n",
       "        0.00066867, 0.0004746 , 0.00041437, 0.0003242 , 0.00026226,\n",
       "        0.00043411, 0.00023232, 0.0003396 , 0.00036082, 0.00039992,\n",
       "        0.00038381, 0.00051737, 0.00089946, 0.00048652, 0.0002481 ,\n",
       "        0.00036445, 0.00031109, 0.00031548, 0.00023041, 0.00028009,\n",
       "        0.0001925 , 0.00035424]),\n",
       " 'std_score_time': array([5.34079360e-04, 5.93172392e-04, 9.36652901e-04, 1.47628507e-04,\n",
       "        1.15896348e-04, 1.29130232e-04, 1.23939508e-04, 9.88020400e-05,\n",
       "        2.23976794e-04, 1.01392109e-03, 2.58562574e-04, 1.42623150e-04,\n",
       "        2.26656356e-04, 2.84442058e-05, 5.34902058e-05, 9.44607550e-05,\n",
       "        1.23542241e-05, 2.68678169e-05, 1.24425044e-04, 1.14826764e-04,\n",
       "        5.97121985e-05, 1.15828251e-04, 8.77830227e-04, 9.66659125e-05,\n",
       "        2.26538303e-05, 1.20726053e-04, 9.70533365e-05, 7.71948257e-05,\n",
       "        2.52663407e-05, 4.66341865e-05, 9.40542408e-06, 8.85598936e-05]),\n",
       " 'param_C': masked_array(data=[0.01, 0.01, 0.01, 0.01, 0.01, 0.01, 0.01, 0.01, 0.1,\n",
       "                    0.1, 0.1, 0.1, 0.1, 0.1, 0.1, 0.1, 1, 1, 1, 1, 1, 1, 1,\n",
       "                    1, 10, 10, 10, 10, 10, 10, 10, 10],\n",
       "              mask=[False, False, False, False, False, False, False, False,\n",
       "                    False, False, False, False, False, False, False, False,\n",
       "                    False, False, False, False, False, False, False, False,\n",
       "                    False, False, False, False, False, False, False, False],\n",
       "        fill_value='?',\n",
       "             dtype=object),\n",
       " 'param_gamma': masked_array(data=[0.01, 0.01, 0.1, 0.1, 1, 1, 10, 10, 0.01, 0.01, 0.1,\n",
       "                    0.1, 1, 1, 10, 10, 0.01, 0.01, 0.1, 0.1, 1, 1, 10, 10,\n",
       "                    0.01, 0.01, 0.1, 0.1, 1, 1, 10, 10],\n",
       "              mask=[False, False, False, False, False, False, False, False,\n",
       "                    False, False, False, False, False, False, False, False,\n",
       "                    False, False, False, False, False, False, False, False,\n",
       "                    False, False, False, False, False, False, False, False],\n",
       "        fill_value='?',\n",
       "             dtype=object),\n",
       " 'param_kernel': masked_array(data=['linear', 'rbf', 'linear', 'rbf', 'linear', 'rbf',\n",
       "                    'linear', 'rbf', 'linear', 'rbf', 'linear', 'rbf',\n",
       "                    'linear', 'rbf', 'linear', 'rbf', 'linear', 'rbf',\n",
       "                    'linear', 'rbf', 'linear', 'rbf', 'linear', 'rbf',\n",
       "                    'linear', 'rbf', 'linear', 'rbf', 'linear', 'rbf',\n",
       "                    'linear', 'rbf'],\n",
       "              mask=[False, False, False, False, False, False, False, False,\n",
       "                    False, False, False, False, False, False, False, False,\n",
       "                    False, False, False, False, False, False, False, False,\n",
       "                    False, False, False, False, False, False, False, False],\n",
       "        fill_value='?',\n",
       "             dtype=object),\n",
       " 'params': [{'C': 0.01, 'gamma': 0.01, 'kernel': 'linear'},\n",
       "  {'C': 0.01, 'gamma': 0.01, 'kernel': 'rbf'},\n",
       "  {'C': 0.01, 'gamma': 0.1, 'kernel': 'linear'},\n",
       "  {'C': 0.01, 'gamma': 0.1, 'kernel': 'rbf'},\n",
       "  {'C': 0.01, 'gamma': 1, 'kernel': 'linear'},\n",
       "  {'C': 0.01, 'gamma': 1, 'kernel': 'rbf'},\n",
       "  {'C': 0.01, 'gamma': 10, 'kernel': 'linear'},\n",
       "  {'C': 0.01, 'gamma': 10, 'kernel': 'rbf'},\n",
       "  {'C': 0.1, 'gamma': 0.01, 'kernel': 'linear'},\n",
       "  {'C': 0.1, 'gamma': 0.01, 'kernel': 'rbf'},\n",
       "  {'C': 0.1, 'gamma': 0.1, 'kernel': 'linear'},\n",
       "  {'C': 0.1, 'gamma': 0.1, 'kernel': 'rbf'},\n",
       "  {'C': 0.1, 'gamma': 1, 'kernel': 'linear'},\n",
       "  {'C': 0.1, 'gamma': 1, 'kernel': 'rbf'},\n",
       "  {'C': 0.1, 'gamma': 10, 'kernel': 'linear'},\n",
       "  {'C': 0.1, 'gamma': 10, 'kernel': 'rbf'},\n",
       "  {'C': 1, 'gamma': 0.01, 'kernel': 'linear'},\n",
       "  {'C': 1, 'gamma': 0.01, 'kernel': 'rbf'},\n",
       "  {'C': 1, 'gamma': 0.1, 'kernel': 'linear'},\n",
       "  {'C': 1, 'gamma': 0.1, 'kernel': 'rbf'},\n",
       "  {'C': 1, 'gamma': 1, 'kernel': 'linear'},\n",
       "  {'C': 1, 'gamma': 1, 'kernel': 'rbf'},\n",
       "  {'C': 1, 'gamma': 10, 'kernel': 'linear'},\n",
       "  {'C': 1, 'gamma': 10, 'kernel': 'rbf'},\n",
       "  {'C': 10, 'gamma': 0.01, 'kernel': 'linear'},\n",
       "  {'C': 10, 'gamma': 0.01, 'kernel': 'rbf'},\n",
       "  {'C': 10, 'gamma': 0.1, 'kernel': 'linear'},\n",
       "  {'C': 10, 'gamma': 0.1, 'kernel': 'rbf'},\n",
       "  {'C': 10, 'gamma': 1, 'kernel': 'linear'},\n",
       "  {'C': 10, 'gamma': 1, 'kernel': 'rbf'},\n",
       "  {'C': 10, 'gamma': 10, 'kernel': 'linear'},\n",
       "  {'C': 10, 'gamma': 10, 'kernel': 'rbf'}],\n",
       " 'split0_test_score': array([0.9       , 0.86666667, 0.9       , 0.9       , 0.9       ,\n",
       "        0.93333333, 0.9       , 0.76666667, 0.96666667, 0.86666667,\n",
       "        0.96666667, 0.9       , 0.96666667, 0.93333333, 0.96666667,\n",
       "        0.76666667, 0.96666667, 0.9       , 0.96666667, 0.96666667,\n",
       "        0.96666667, 0.96666667, 0.96666667, 1.        , 1.        ,\n",
       "        0.96666667, 1.        , 0.96666667, 1.        , 0.96666667,\n",
       "        1.        , 1.        ]),\n",
       " 'split1_test_score': array([0.96666667, 0.96666667, 0.96666667, 0.93333333, 0.96666667,\n",
       "        0.96666667, 0.96666667, 0.7       , 0.96666667, 0.96666667,\n",
       "        0.96666667, 0.93333333, 0.96666667, 0.96666667, 0.96666667,\n",
       "        0.7       , 1.        , 0.96666667, 1.        , 1.        ,\n",
       "        1.        , 1.        , 1.        , 0.9       , 1.        ,\n",
       "        1.        , 1.        , 1.        , 1.        , 0.96666667,\n",
       "        1.        , 0.9       ]),\n",
       " 'split2_test_score': array([0.86666667, 0.83333333, 0.86666667, 0.86666667, 0.86666667,\n",
       "        0.96666667, 0.86666667, 0.7       , 0.96666667, 0.83333333,\n",
       "        0.96666667, 0.9       , 0.96666667, 0.93333333, 0.96666667,\n",
       "        0.7       , 0.96666667, 0.86666667, 0.96666667, 0.96666667,\n",
       "        0.96666667, 0.9       , 0.96666667, 0.86666667, 0.9       ,\n",
       "        0.96666667, 0.9       , 0.96666667, 0.9       , 0.9       ,\n",
       "        0.9       , 0.86666667]),\n",
       " 'split3_test_score': array([0.96666667, 0.96666667, 0.96666667, 0.93333333, 0.96666667,\n",
       "        0.93333333, 0.96666667, 0.83333333, 0.96666667, 0.96666667,\n",
       "        0.96666667, 0.93333333, 0.96666667, 0.96666667, 0.96666667,\n",
       "        0.83333333, 0.96666667, 0.93333333, 0.96666667, 0.96666667,\n",
       "        0.96666667, 0.96666667, 0.96666667, 0.96666667, 0.96666667,\n",
       "        0.96666667, 0.96666667, 0.96666667, 0.96666667, 0.93333333,\n",
       "        0.96666667, 0.93333333]),\n",
       " 'split4_test_score': array([0.9       , 0.93333333, 0.9       , 0.93333333, 0.9       ,\n",
       "        1.        , 0.9       , 0.83333333, 1.        , 0.93333333,\n",
       "        1.        , 0.93333333, 1.        , 1.        , 1.        ,\n",
       "        0.83333333, 1.        , 1.        , 1.        , 1.        ,\n",
       "        1.        , 1.        , 1.        , 0.96666667, 1.        ,\n",
       "        1.        , 1.        , 1.        , 1.        , 1.        ,\n",
       "        1.        , 0.96666667]),\n",
       " 'mean_test_score': array([0.92      , 0.91333333, 0.92      , 0.91333333, 0.92      ,\n",
       "        0.96      , 0.92      , 0.76666667, 0.97333333, 0.91333333,\n",
       "        0.97333333, 0.92      , 0.97333333, 0.96      , 0.97333333,\n",
       "        0.76666667, 0.98      , 0.93333333, 0.98      , 0.98      ,\n",
       "        0.98      , 0.96666667, 0.98      , 0.94      , 0.97333333,\n",
       "        0.98      , 0.97333333, 0.98      , 0.97333333, 0.95333333,\n",
       "        0.97333333, 0.93333333]),\n",
       " 'std_test_score': array([0.04      , 0.05416026, 0.04      , 0.02666667, 0.04      ,\n",
       "        0.02494438, 0.04      , 0.05962848, 0.01333333, 0.05416026,\n",
       "        0.01333333, 0.01632993, 0.01333333, 0.02494438, 0.01333333,\n",
       "        0.05962848, 0.01632993, 0.04714045, 0.01632993, 0.01632993,\n",
       "        0.01632993, 0.03651484, 0.01632993, 0.04898979, 0.03887301,\n",
       "        0.01632993, 0.03887301, 0.01632993, 0.03887301, 0.03399346,\n",
       "        0.03887301, 0.04714045]),\n",
       " 'rank_test_score': array([23, 28, 23, 28, 23, 17, 23, 31,  8, 28,  8, 23,  8, 17,  8, 31,  1,\n",
       "        21,  1,  1,  1, 16,  1, 20,  8,  1,  8,  1,  8, 19,  8, 21],\n",
       "       dtype=int32),\n",
       " 'split0_train_score': array([0.9       , 0.925     , 0.9       , 0.925     , 0.9       ,\n",
       "        0.975     , 0.9       , 0.875     , 0.975     , 0.925     ,\n",
       "        0.975     , 0.95      , 0.975     , 0.975     , 0.975     ,\n",
       "        0.875     , 0.975     , 0.95833333, 0.975     , 0.975     ,\n",
       "        0.975     , 0.975     , 0.975     , 1.        , 0.96666667,\n",
       "        0.975     , 0.96666667, 0.975     , 0.96666667, 0.975     ,\n",
       "        0.96666667, 1.        ]),\n",
       " 'split1_train_score': array([0.925     , 0.91666667, 0.925     , 0.94166667, 0.925     ,\n",
       "        0.95833333, 0.925     , 0.90833333, 0.95      , 0.91666667,\n",
       "        0.95      , 0.94166667, 0.95      , 0.95833333, 0.95      ,\n",
       "        0.90833333, 0.975     , 0.93333333, 0.975     , 0.95833333,\n",
       "        0.975     , 0.98333333, 0.975     , 1.        , 0.96666667,\n",
       "        0.975     , 0.96666667, 0.98333333, 0.96666667, 0.98333333,\n",
       "        0.96666667, 1.        ]),\n",
       " 'split2_train_score': array([0.95833333, 0.93333333, 0.95833333, 0.94166667, 0.95833333,\n",
       "        0.96666667, 0.95833333, 0.88333333, 0.98333333, 0.93333333,\n",
       "        0.98333333, 0.95833333, 0.98333333, 0.98333333, 0.98333333,\n",
       "        0.88333333, 0.99166667, 0.96666667, 0.99166667, 0.975     ,\n",
       "        0.99166667, 0.99166667, 0.99166667, 1.        , 0.99166667,\n",
       "        0.98333333, 0.99166667, 0.99166667, 0.99166667, 0.99166667,\n",
       "        0.99166667, 1.        ]),\n",
       " 'split3_train_score': array([0.94166667, 0.925     , 0.94166667, 0.94166667, 0.94166667,\n",
       "        0.96666667, 0.94166667, 0.9       , 0.975     , 0.925     ,\n",
       "        0.975     , 0.94166667, 0.975     , 0.975     , 0.975     ,\n",
       "        0.9       , 0.98333333, 0.95      , 0.98333333, 1.        ,\n",
       "        0.98333333, 0.99166667, 0.98333333, 1.        , 0.99166667,\n",
       "        0.98333333, 0.99166667, 0.99166667, 0.99166667, 0.99166667,\n",
       "        0.99166667, 1.        ]),\n",
       " 'split4_train_score': array([0.90833333, 0.9       , 0.90833333, 0.9       , 0.90833333,\n",
       "        0.94166667, 0.90833333, 0.89166667, 0.93333333, 0.9       ,\n",
       "        0.93333333, 0.90833333, 0.93333333, 0.95      , 0.93333333,\n",
       "        0.89166667, 0.98333333, 0.91666667, 0.98333333, 0.95833333,\n",
       "        0.98333333, 0.99166667, 0.98333333, 1.        , 0.975     ,\n",
       "        0.95833333, 0.975     , 0.98333333, 0.975     , 0.98333333,\n",
       "        0.975     , 1.        ]),\n",
       " 'mean_train_score': array([0.92666667, 0.92      , 0.92666667, 0.93      , 0.92666667,\n",
       "        0.96166667, 0.92666667, 0.89166667, 0.96333333, 0.92      ,\n",
       "        0.96333333, 0.94      , 0.96333333, 0.96833333, 0.96333333,\n",
       "        0.89166667, 0.98166667, 0.945     , 0.98166667, 0.97333333,\n",
       "        0.98166667, 0.98666667, 0.98166667, 1.        , 0.97833333,\n",
       "        0.975     , 0.97833333, 0.985     , 0.97833333, 0.985     ,\n",
       "        0.97833333, 1.        ]),\n",
       " 'std_train_score': array([0.02134375, 0.01130388, 0.02134375, 0.01632993, 0.02134375,\n",
       "        0.01130388, 0.02134375, 0.01178511, 0.01870829, 0.01130388,\n",
       "        0.01870829, 0.01699673, 0.01870829, 0.01224745, 0.01870829,\n",
       "        0.01178511, 0.0062361 , 0.01795055, 0.0062361 , 0.01527525,\n",
       "        0.0062361 , 0.00666667, 0.0062361 , 0.        , 0.01130388,\n",
       "        0.00912871, 0.01130388, 0.0062361 , 0.01130388, 0.0062361 ,\n",
       "        0.01130388, 0.        ])}"
      ]
     },
     "execution_count": 17,
     "metadata": {},
     "output_type": "execute_result"
    }
   ],
   "source": [
    "best_model.cv_results_"
   ]
  },
  {
   "cell_type": "code",
   "execution_count": null,
   "metadata": {},
   "outputs": [],
   "source": []
  }
 ],
 "metadata": {
  "kernelspec": {
   "display_name": "myKernel",
   "language": "python",
   "name": "mykernel"
  },
  "language_info": {
   "codemirror_mode": {
    "name": "ipython",
    "version": 3
   },
   "file_extension": ".py",
   "mimetype": "text/x-python",
   "name": "python",
   "nbconvert_exporter": "python",
   "pygments_lexer": "ipython3",
   "version": "3.7.2"
  }
 },
 "nbformat": 4,
 "nbformat_minor": 2
}
