{
 "cells": [
  {
   "cell_type": "markdown",
   "metadata": {},
   "source": [
    "## london \n",
    "[link](https://www.kaggle.com/c/data-science-london-scikit-learn/data)  \n",
    "二元分類問題  "
   ]
  },
  {
   "cell_type": "code",
   "execution_count": 21,
   "metadata": {},
   "outputs": [],
   "source": [
    "import numpy as np\n",
    "import pandas as pd\n",
    "from sklearn.pipeline import Pipeline\n",
    "from sklearn.compose import ColumnTransformer\n",
    "from sklearn.preprocessing import StandardScaler\n",
    "from sklearn.impute import SimpleImputer\n",
    "from sklearn.preprocessing import OneHotEncoder\n",
    "from sklearn import metrics\n",
    "from sklearn.linear_model import Ridge\n",
    "from sklearn.svm import SVR\n",
    "from sklearn.model_selection import KFold\n",
    "from sklearn.model_selection import GridSearchCV\n",
    "\n",
    "#names=['',''....]\n",
    "data = pd.read_csv('train.csv', header = None)\n",
    "data_y = pd.read_csv('trainLabels.csv', header = None,names=['Label'])\n",
    "y = [row for row in data_y.iloc[:,0]]\n",
    "X = data.iloc[:,:].copy()\n",
    "#y = data.iloc[:,-1]\n",
    "#y =  data.pop('SalePrice').values\n",
    "#data.head()\n",
    "#y.head()\n",
    "#X.head()\n",
    "#y[:5]"
   ]
  },
  {
   "cell_type": "markdown",
   "metadata": {},
   "source": [
    "### 確認是否有缺失"
   ]
  },
  {
   "cell_type": "code",
   "execution_count": 22,
   "metadata": {},
   "outputs": [
    {
     "name": "stdout",
     "output_type": "stream",
     "text": [
      "Has 0 columns Nan\n"
     ]
    },
    {
     "data": {
      "text/plain": [
       "Series([], dtype: int64)"
      ]
     },
     "execution_count": 22,
     "metadata": {},
     "output_type": "execute_result"
    }
   ],
   "source": [
    "#X.info()\n",
    "x_null_count = X.isnull().sum(axis = 0)\n",
    "columns_name = X.columns.values\n",
    "columns_has_nan_name = columns_name[x_null_count > 0]\n",
    "\n",
    "print('Has %d columns Nan'%len(columns_has_nan_name))\n",
    "x_null_count[x_null_count>0]"
   ]
  },
  {
   "cell_type": "code",
   "execution_count": 23,
   "metadata": {},
   "outputs": [],
   "source": [
    "class dataProcess:\n",
    "    def __init__(self):\n",
    "        self.option = {'aaa':0}\n",
    "        self.caterogy_imputer_step = ('caterogy_imputer_step', SimpleImputer(strategy='constant',fill_value='MISSING')) \n",
    "        self.caterogy_encoder_step = ('caterogy_encoder_step', OneHotEncoder(sparse=False,handle_unknown='ignore')) \n",
    "        self.num_imputer_step = ('num_imputer_step', SimpleImputer(strategy='median'))\n",
    "        self.num_scaler_step = ('num_scaler_step', StandardScaler())\n",
    "        self.caterogy_pipe = Pipeline([self.caterogy_imputer_step, self.caterogy_encoder_step])\n",
    "        self.num_pipe = Pipeline([self.num_imputer_step, self.num_scaler_step])\n",
    "        pass\n",
    "    def fit(self, datax, datay=None):\n",
    "        #print('dataProcess call fit')\n",
    "        kinds = np.array([dt.kind for dt in datax.dtypes])\n",
    "        is_num = kinds != 'O'\n",
    "        numeric_column_name = datax.columns.values[is_num]\n",
    "        category_column_name = datax.columns.values[~is_num]\n",
    "        self.ct_transformer = [('caterogy_transformer',self.caterogy_pipe, category_column_name),('num_transformer',self.num_pipe,numeric_column_name)]\n",
    "        self.ct = ColumnTransformer(transformers=self.ct_transformer)        \n",
    "    def transform(self, datax, datay=None):\n",
    "        #print('dataProcess call transform')\n",
    "        #try:\n",
    "        #    if self.features < X.shape[1]:\n",
    "        #        if Y is not None:\n",
    "        #            self.ct.fit(X, Y)\n",
    "        #        return self.ct.transform(datax)\n",
    "        #except Exception as err:\n",
    "        #    print('dataProcess.transform(): {}'.format(err))\n",
    "        return self.ct.transform(datax)\n",
    "    def fit_transform(self, datax, datay=None):\n",
    "        #print('dataProcess call fit_transform')\n",
    "        self.fit(datax)\n",
    "        return self.ct.fit_transform(datax)\n",
    "    def set_params(self,a,b):\n",
    "        print(a)\n",
    "        print(b)\n",
    "        pass\n",
    "    #def get_params(self):\n",
    "    #    print(\"get_params\")\n",
    "    #    return [\"\"]"
   ]
  },
  {
   "cell_type": "markdown",
   "metadata": {},
   "source": [
    "###  regularization\n",
    "- LogisticRegression:  \n",
    "C: Inverse of regularization strength  \n",
    "solver: liblinear,sag,newton-cg,lbfgs,saga  \n",
    "multi_class: ovr,multinomial  \n",
    "- Ridge  \n",
    "alpha: Regularization strength  \n",
    "- Lasso  \n",
    "alpha: Constant that multiplies the L1 term\n",
    "- SVC  \n",
    "C: Penalty parameter C of the error term.  \n"
   ]
  },
  {
   "cell_type": "code",
   "execution_count": 107,
   "metadata": {},
   "outputs": [
    {
     "name": "stdout",
     "output_type": "stream",
     "text": [
      "0.0\n"
     ]
    }
   ],
   "source": [
    "from sklearn.svm import SVC\n",
    "from sklearn.tree import DecisionTreeClassifier\n",
    "from sklearn.linear_model import LogisticRegression\n",
    "from sklearn.ensemble import RandomForestClassifier\n",
    "from sklearn.ensemble import GradientBoostingClassifier\n",
    "from xgboost import XGBClassifier\n",
    "\n",
    "#eval_set =  [(X_test, y_test)]\n",
    "#model = XGBClassifier()\n",
    "#model.fit(X_train, y_train, early_stopping_rounds=10, eval_metric=\"auc\",\n",
    "#          eval_set=eval_set, verbose=True)\n",
    "\n",
    "ml_pipe = Pipeline([('dataProcess',dataProcess()), ('GradientBoostingClassifier', GradientBoostingClassifier(n_estimators=100,criterion='friedman_mse',  loss='deviance',learning_rate=0.17,max_depth=3, max_features=None, min_samples_leaf=1, min_samples_split=2))])\n",
    "#ml_pipe = Pipeline([('dataProcess',dataProcess()), ('RandomForestClassifier', RandomForestClassifier(n_estimators=100,criterion='gini', max_depth=9, max_features='auto', min_samples_leaf=1, min_samples_split=2))])\n",
    "#ml_pipe = Pipeline([('dataProcess',dataProcess()), ('logisticRegression', LogisticRegression(solver='liblinear',max_iter=1000,multi_class='ovr',C=1))])\n",
    "#ml_pipe = Pipeline([('dataProcess',dataProcess()), ('dt', DecisionTreeClassifier(criterion='gini', max_depth=None, min_samples_split=2, min_samples_leaf=1))])\n",
    "#ml_pipe = Pipeline([('dataProcess',dataProcess()), ('svc', SVC(kernel='rbf', C=1,degree=3, gamma=1))])\n",
    "# 1) call dataProcess fit_transform() --> Ridge()\n",
    "ml_pipe.fit(X,y)\n",
    "prediction = ml_pipe.predict(X)\n",
    "print(np.sqrt(metrics.mean_squared_error(y_pred=prediction,y_true=y)))\n",
    "\n",
    "#import matplotlib.pyplot as plt\n",
    "#%matplotlib inline\n",
    "#plt.figure(figsize=(20,10))\n",
    "#x = np.arange(len(y))\n",
    "#plt.plot(x,y,c='b')\n",
    "#plt.plot(x,prediction,c='r')\n",
    "#plt.show()"
   ]
  },
  {
   "cell_type": "code",
   "execution_count": 108,
   "metadata": {},
   "outputs": [
    {
     "data": {
      "text/plain": [
       "(9000,)"
      ]
     },
     "execution_count": 108,
     "metadata": {},
     "output_type": "execute_result"
    }
   ],
   "source": [
    "data2 = pd.read_csv('test.csv', header = None)\n",
    "X2 = data2.iloc[:,:].copy()\n",
    "\n",
    "prediction = ml_pipe.predict(data2)\n",
    "prediction.shape"
   ]
  },
  {
   "cell_type": "code",
   "execution_count": 109,
   "metadata": {},
   "outputs": [],
   "source": [
    "result_pd = pd.DataFrame(prediction,columns=['Solution'])\n",
    "result_pd.index += 1\n",
    "result_pd.to_csv('result.csv',index=True, index_label='Id')"
   ]
  },
  {
   "cell_type": "code",
   "execution_count": null,
   "metadata": {},
   "outputs": [],
   "source": []
  }
 ],
 "metadata": {
  "kernelspec": {
   "display_name": "myKernel",
   "language": "python",
   "name": "mykernel"
  },
  "language_info": {
   "codemirror_mode": {
    "name": "ipython",
    "version": 3
   },
   "file_extension": ".py",
   "mimetype": "text/x-python",
   "name": "python",
   "nbconvert_exporter": "python",
   "pygments_lexer": "ipython3",
   "version": "3.7.2"
  }
 },
 "nbformat": 4,
 "nbformat_minor": 2
}
