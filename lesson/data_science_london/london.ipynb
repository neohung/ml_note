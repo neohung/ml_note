{
 "cells": [
  {
   "cell_type": "markdown",
   "metadata": {},
   "source": [
    "## london \n",
    "[link](https://www.kaggle.com/c/data-science-london-scikit-learn/data)  \n",
    "二元分類問題  "
   ]
  },
  {
   "cell_type": "code",
   "execution_count": 51,
   "metadata": {},
   "outputs": [],
   "source": [
    "import numpy as np\n",
    "import pandas as pd\n",
    "from sklearn.pipeline import Pipeline\n",
    "from sklearn.compose import ColumnTransformer\n",
    "from sklearn.preprocessing import StandardScaler\n",
    "from sklearn.impute import SimpleImputer\n",
    "from sklearn.preprocessing import OneHotEncoder\n",
    "from sklearn import metrics\n",
    "from sklearn.linear_model import Ridge\n",
    "from sklearn.svm import SVR\n",
    "from sklearn.model_selection import KFold\n",
    "from sklearn.model_selection import GridSearchCV\n",
    "\n",
    "#names=['',''....]\n",
    "data = pd.read_csv('train.csv', header = None)\n",
    "data_y = pd.read_csv('trainLabels.csv', header = None,names=['Label'])\n",
    "y = [row for row in data_y.iloc[:,0]]\n",
    "X = data.iloc[:,:].copy()\n",
    "#y = data.iloc[:,-1]\n",
    "#y =  data.pop('SalePrice').values\n",
    "#data.head()\n",
    "#y.head()\n",
    "#X.head()\n",
    "#y[:5]"
   ]
  },
  {
   "cell_type": "markdown",
   "metadata": {},
   "source": [
    "### 確認是否有缺失"
   ]
  },
  {
   "cell_type": "code",
   "execution_count": 46,
   "metadata": {},
   "outputs": [
    {
     "name": "stdout",
     "output_type": "stream",
     "text": [
      "Has 0 columns Nan\n"
     ]
    },
    {
     "data": {
      "text/plain": [
       "Series([], dtype: int64)"
      ]
     },
     "execution_count": 46,
     "metadata": {},
     "output_type": "execute_result"
    }
   ],
   "source": [
    "#X.info()\n",
    "x_null_count = X.isnull().sum(axis = 0)\n",
    "columns_name = X.columns.values\n",
    "columns_has_nan_name = columns_name[x_null_count > 0]\n",
    "\n",
    "print('Has %d columns Nan'%len(columns_has_nan_name))\n",
    "x_null_count[x_null_count>0]"
   ]
  },
  {
   "cell_type": "code",
   "execution_count": 52,
   "metadata": {},
   "outputs": [],
   "source": [
    "class dataProcess:\n",
    "    def __init__(self):\n",
    "        self.option = {'aaa':0}\n",
    "        self.caterogy_imputer_step = ('caterogy_imputer_step', SimpleImputer(strategy='constant',fill_value='MISSING')) \n",
    "        self.caterogy_encoder_step = ('caterogy_encoder_step', OneHotEncoder(sparse=False,handle_unknown='ignore')) \n",
    "        self.num_imputer_step = ('num_imputer_step', SimpleImputer(strategy='median'))\n",
    "        self.num_scaler_step = ('num_scaler_step', StandardScaler())\n",
    "        self.caterogy_pipe = Pipeline([self.caterogy_imputer_step, self.caterogy_encoder_step])\n",
    "        self.num_pipe = Pipeline([self.num_imputer_step, self.num_scaler_step])\n",
    "        pass\n",
    "    def fit(self, datax, datay=None):\n",
    "        #print('dataProcess call fit')\n",
    "        kinds = np.array([dt.kind for dt in datax.dtypes])\n",
    "        is_num = kinds != 'O'\n",
    "        numeric_column_name = datax.columns.values[is_num]\n",
    "        category_column_name = datax.columns.values[~is_num]\n",
    "        self.ct_transformer = [('caterogy_transformer',self.caterogy_pipe, category_column_name),('num_transformer',self.num_pipe,numeric_column_name)]\n",
    "        self.ct = ColumnTransformer(transformers=self.ct_transformer)        \n",
    "    def transform(self, datax, datay=None):\n",
    "        #print('dataProcess call transform')\n",
    "        #try:\n",
    "        #    if self.features < X.shape[1]:\n",
    "        #        if Y is not None:\n",
    "        #            self.ct.fit(X, Y)\n",
    "        #        return self.ct.transform(datax)\n",
    "        #except Exception as err:\n",
    "        #    print('dataProcess.transform(): {}'.format(err))\n",
    "        return self.ct.transform(datax)\n",
    "    def fit_transform(self, datax, datay=None):\n",
    "        #print('dataProcess call fit_transform')\n",
    "        self.fit(datax)\n",
    "        return self.ct.fit_transform(datax)\n",
    "    def set_params(self,a,b):\n",
    "        print(a)\n",
    "        print(b)\n",
    "        pass\n",
    "    #def get_params(self):\n",
    "    #    print(\"get_params\")\n",
    "    #    return [\"\"]"
   ]
  },
  {
   "cell_type": "code",
   "execution_count": 53,
   "metadata": {},
   "outputs": [
    {
     "name": "stdout",
     "output_type": "stream",
     "text": [
      "0.0\n"
     ]
    }
   ],
   "source": [
    "from sklearn.svm import SVC\n",
    "\n",
    "#ml_pipe = Pipeline([('dataProcess',dataProcess()), ('ridge', Ridge())])\n",
    "ml_pipe = Pipeline([('dataProcess',dataProcess()), ('svc', SVC(kernel='rbf', C=1,degree=3, gamma=1))])\n",
    "# 1) call dataProcess fit_transform() --> Ridge()\n",
    "ml_pipe.fit(X,y)\n",
    "prediction = ml_pipe.predict(X)\n",
    "print(np.sqrt(metrics.mean_squared_error(y_pred=prediction,y_true=y)))\n",
    "\n",
    "#import matplotlib.pyplot as plt\n",
    "#%matplotlib inline\n",
    "#plt.figure(figsize=(20,10))\n",
    "#x = np.arange(len(y))\n",
    "#plt.plot(x,y,c='b')\n",
    "#plt.plot(x,prediction,c='r')\n",
    "#plt.show()"
   ]
  },
  {
   "cell_type": "code",
   "execution_count": null,
   "metadata": {},
   "outputs": [],
   "source": []
  }
 ],
 "metadata": {
  "kernelspec": {
   "display_name": "myKernel",
   "language": "python",
   "name": "mykernel"
  },
  "language_info": {
   "codemirror_mode": {
    "name": "ipython",
    "version": 3
   },
   "file_extension": ".py",
   "mimetype": "text/x-python",
   "name": "python",
   "nbconvert_exporter": "python",
   "pygments_lexer": "ipython3",
   "version": "3.6.7"
  }
 },
 "nbformat": 4,
 "nbformat_minor": 2
}
