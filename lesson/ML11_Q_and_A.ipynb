{
 "cells": [
  {
   "cell_type": "markdown",
   "metadata": {},
   "source": [
    "Why Big data may help:  \n",
    "- Random noise tends to average out  \n",
    "- 如果訓練資料可以代表大部分資料, 那overfitting也沒關係。\n",
    "- 如果訓練資料足夠多, 就算假設模型太過複雜,一開始容易overfitting, 但最後模型複雜部分的參數會趨近0, 如果假設模型太過簡單,則就算訓練資料足夠多也學得不好。\n"
   ]
  },
  {
   "cell_type": "markdown",
   "metadata": {},
   "source": [
    "### 資料跟時間相關  \n",
    "將n天以前當作training data  \n",
    "n+1天以後當作test data  \n",
    "取不同n當做k fold  "
   ]
  },
  {
   "cell_type": "markdown",
   "metadata": {},
   "source": [
    "### 資料跟時間巡環  \n",
    "hour = ($sin(\\frac{hour}{24}2\\pi)$,$cos(\\frac{hour}{24}2\\pi)$)  \n",
    "做成一個巡環的弦波函數。"
   ]
  },
  {
   "cell_type": "markdown",
   "metadata": {},
   "source": [
    "### 搜尋引擎 推薦系統  \n",
    "搜尋引擎 推薦系統 在訓練時用舊有的資料使用者log去評估效能可能會有問題  \n",
    "因為可能你預測到了舊有使用者的target  \n",
    "但是搜尋引擎 推薦系統前十名並沒有你的選項, 那麼使用者當然在那個時候不會選你的答案  \n",
    "有點像你用舊有的資料是學習搜尋引擎 推薦系統會推薦什麼出來, 而不是使用者想要的  \n",
    "比較好的是A/B test, 比方有個推薦系統, 有n個人在線上, n/2分流成A/B兩個網頁, 用不同的算法來比較  "
   ]
  },
  {
   "cell_type": "markdown",
   "metadata": {},
   "source": [
    "### Bayesian optimization  \n",
    "在當前參數效果不好, 跳遠一點的參數再試試  \n",
    "在當前參數效果不錯, 在附近參數探索一下  \n"
   ]
  },
  {
   "cell_type": "markdown",
   "metadata": {},
   "source": [
    "推薦系統  \n",
    "https://github.com/ncu-dart/rdf  \n",
    "https://sifter.org/simon/journal/20061211.html  "
   ]
  },
  {
   "cell_type": "code",
   "execution_count": null,
   "metadata": {},
   "outputs": [],
   "source": []
  }
 ],
 "metadata": {
  "kernelspec": {
   "display_name": "",
   "name": ""
  },
  "language_info": {
   "codemirror_mode": {
    "name": "ipython",
    "version": 3
   },
   "file_extension": ".py",
   "mimetype": "text/x-python",
   "name": "python",
   "nbconvert_exporter": "python",
   "pygments_lexer": "ipython3",
   "version": "3.7.2"
  }
 },
 "nbformat": 4,
 "nbformat_minor": 2
}
