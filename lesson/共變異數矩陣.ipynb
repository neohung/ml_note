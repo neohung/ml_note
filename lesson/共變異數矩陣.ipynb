{
 "cells": [
  {
   "cell_type": "markdown",
   "metadata": {},
   "source": [
    "# 共變異數矩陣 (斜方差矩陣) #"
   ]
  },
  {
   "cell_type": "code",
   "execution_count": 6,
   "metadata": {},
   "outputs": [
    {
     "name": "stdout",
     "output_type": "stream",
     "text": [
      "x.shape:  (4, 3)\n",
      "x_cov.shape:  (4, 4)\n"
     ]
    },
    {
     "data": {
      "text/plain": [
       "array([[ 7.        ,  4.5       ,  4.        , -0.5       ],\n",
       "       [ 4.5       , 10.33333333, 11.5       , -7.16666667],\n",
       "       [ 4.        , 11.5       , 13.        , -8.5       ],\n",
       "       [-0.5       , -7.16666667, -8.5       ,  6.33333333]])"
      ]
     },
     "execution_count": 6,
     "metadata": {},
     "output_type": "execute_result"
    }
   ],
   "source": [
    "import pandas as pd\n",
    "import numpy as np\n",
    "import scipy as sp\n",
    "import random\n",
    "# 4筆3維資料\n",
    "x=np.array([[1 ,5 ,6] ,[4 ,3 ,9 ],[ 4 ,2 ,9],[ 4 ,7 ,2]])\n",
    "print(\"x.shape: \",x.shape)\n",
    "x_cov=np.cov(x)\n",
    "print(\"x_cov.shape: \",x_cov.shape)\n",
    "x_cov"
   ]
  },
  {
   "cell_type": "code",
   "execution_count": 7,
   "metadata": {},
   "outputs": [
    {
     "name": "stdout",
     "output_type": "stream",
     "text": [
      "x.shape:  (2, 3)\n",
      "x_cov.shape:  (2, 2)\n"
     ]
    },
    {
     "data": {
      "text/plain": [
       "array([[ 1., -1.],\n",
       "       [-1.,  1.]])"
      ]
     },
     "execution_count": 7,
     "metadata": {},
     "output_type": "execute_result"
    }
   ],
   "source": [
    "# 2筆3維資料\n",
    "x = np.array([[0, 2], [1, 1], [2, 0]]).T \n",
    "print(\"x.shape: \",x.shape)\n",
    "x_cov=np.cov(x)\n",
    "print(\"x_cov.shape: \",x_cov.shape)\n",
    "x_cov"
   ]
  },
  {
   "cell_type": "code",
   "execution_count": null,
   "metadata": {},
   "outputs": [],
   "source": []
  }
 ],
 "metadata": {
  "kernelspec": {
   "display_name": "myKernel",
   "language": "python",
   "name": "mykernel"
  },
  "language_info": {
   "codemirror_mode": {
    "name": "ipython",
    "version": 3
   },
   "file_extension": ".py",
   "mimetype": "text/x-python",
   "name": "python",
   "nbconvert_exporter": "python",
   "pygments_lexer": "ipython3",
   "version": "3.7.2"
  }
 },
 "nbformat": 4,
 "nbformat_minor": 2
}
