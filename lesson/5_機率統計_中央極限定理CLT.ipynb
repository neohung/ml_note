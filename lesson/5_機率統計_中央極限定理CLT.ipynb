{
 "cells": [
  {
   "cell_type": "markdown",
   "metadata": {},
   "source": [
    "# 中央極限定理 (Central Limit Theorem)\n",
    "[seeing theory](https://seeing-theory.brown.edu/probability-distributions/cn.html#section3)"
   ]
  },
  {
   "cell_type": "markdown",
   "metadata": {},
   "source": [
    "### 常態分佈 :\n",
    "$f(x) = \\frac{1}{\\sigma\\sqrt{2\\pi}}e^{\\frac{-(x-\\mu)^2}{2\\sigma^2}}$  \n",
    "***\n",
    "### 標準常態分布 / Z分布 (standard normal distribution)\n",
    "將任一常態分布經過Z轉換後所得之分佈(仍為常態分布)。\n",
    "即取平均數為 0 與標準差為 1 之常態分佈,  \n",
    "標準常態分布可用Z ~ N($\\mu$=0,$\\sigma$=1)表示  \n",
    "\n",
    "簡單來說Z轉換是將常態分佈作平移跟伸縮到$\\mu=0$,$\\sigma=1$的Z分佈  \n",
    "$Z = \\frac{X-\\mu}{\\sigma}$\n",
    " \n",
    "$f(x) = \\frac{1}{\\sqrt{2\\pi}}e^{-\\frac{x^2}{2}}$  \n",
    "***"
   ]
  },
  {
   "cell_type": "markdown",
   "metadata": {},
   "source": [
    "### 中央極限定理 (Central Limit Theorem)\n",
    "- 從一個母體以簡單隨機抽樣法抽出n個樣本,當n很大(有限次數)時,其樣本平均數$\\overline{X}$的抽樣分佈(無限次取樣), 經過標準化 Z=$\\frac{\\overline{X}-\\mu}{\\sigma / \\sqrt{n}} $  \n",
    "它分佈會趨近標準常態分佈  \n",
    "\n",
    "### 樣本平均數$\\overline{X}$\n",
    "指的是抽出n個樣本的平均數, 以$\\overline{X}$表示  \n",
    "$\\overline{X} = \\frac{1}{n}\\sum_{i=1}^nX_i$  \n",
    "\n",
    "### 特性\n",
    "1. 樣本平均數$\\overline{X}$的抽樣分佈呈常態分佈\n",
    "1. 樣本平均數$\\overline{X}$的抽樣分佈其平均數為母體的平均數\n",
    "1. 樣本平均數$\\overline{X}$的標準差$\\sigma_\\overline{X}= \\frac{母體的標準差 \\sigma}{\\sqrt{n}}$  \n",
    "可以看出n增加$\\sigma_\\overline{X}$會趨近0\n",
    "*** \n",
    "當樣本大小大於30時成立  \n",
    "二項式分佈則是np>5\n"
   ]
  },
  {
   "cell_type": "code",
   "execution_count": 3,
   "metadata": {},
   "outputs": [],
   "source": [
    "import scipy.stats as stats\n",
    "import matplotlib.pyplot as plt\n",
    "import math\n",
    "import pandas as pd\n",
    "import numpy as np\n",
    "%matplotlib inline"
   ]
  },
  {
   "cell_type": "markdown",
   "metadata": {},
   "source": [
    "## 應用CLT算機率"
   ]
  },
  {
   "cell_type": "markdown",
   "metadata": {},
   "source": [
    "假設某考試中, 考生通過標準機率為0.7, 以隨機變數X表示(X=1表示通過),(X=0表示不通過),其機率分配為P(X=1)=0.7, P(X=0)=0.3  \n",
    "1. 計算母體平均數跟變異數 (0.7,0.21)\n",
    "1. 假設有210名考生, 計算平均通過率的平均數跟變異數\n",
    "1. 計算通過人數大於126的機率"
   ]
  },
  {
   "cell_type": "markdown",
   "metadata": {},
   "source": [
    "### 1) 計算母體平均數跟變異數\n",
    "n=1, p=0.7  \n",
    "二項分佈  \n",
    "$\\mu=np = 0.7$  \n",
    "$\\sigma^2=Var(X)=np(1-p)=1*0.7*0.3=0.21$"
   ]
  },
  {
   "cell_type": "markdown",
   "metadata": {},
   "source": [
    "### 2) 假設有210名考生, 計算平均通過率的平均數跟變異數\n",
    "假設有210名考生  \n",
    "n=1, p=0.7   \n",
    "令  \n",
    "$X_i = 1$表示 pass  \n",
    "$X_i = 0$表示 fail  \n",
    "樣本平均數$\\overline{X}_{210}$ = $\\frac{X_1+....X_{210}}{210}$  \n",
    "其樣本平均數抽樣分佈的平均數$\\mu_\\overline{X}$ = $\\mu$ = 0.7  \n",
    "$\\sigma_\\overline{X}^2$ = $\\frac{\\sigma^2}{210}$ = 0.21 / 210 = 0.001  "
   ]
  },
  {
   "cell_type": "markdown",
   "metadata": {},
   "source": [
    "### 3) 計算通過人數大於126的機率 \n",
    "$P(X_1+...+X_{210} \\geq 126)$ \n",
    "同除210\n",
    "$P(\\frac{X_1+...+X_{210}}{210} \\geq \\frac{126}{210})$ \n",
    "\n",
    "\n",
    "已知\n",
    "樣本平均數$\\overline{X}_{210}$ = $\\frac{X_1+....X_{210}}{210}$  \n",
    "= $P(\\overline{X}_{210} \\geq 0.6)$  \n",
    "即計算樣本平均數大於0.6的機率  \n",
    "對Z轉換而言, Z=$\\frac{\\overline{X}-\\mu}{\\sigma / \\sqrt{n}} $\n",
    "即$\\overline{X}= \\sigma / \\sqrt{n}*Z+\\mu$\n",
    "原式  \n",
    "= $P(\\sigma / \\sqrt{n}*Z+\\mu \\geq 0.6)$   \n",
    "= $P(Z \\geq \\frac{0.6-\\mu}{\\sigma/\\sqrt{n}})$  \n",
    "= $P(Z \\geq \\frac{0.6-0.7}{\\sqrt{0.001}})$  \n",
    "= $P(Z \\geq -3.16228)$  \n",
    "因為Z分佈是對稱的, 所以$P(Z \\geq -3.16228)$ = $P(Z < 3.16228)$ = 0.99921"
   ]
  },
  {
   "cell_type": "markdown",
   "metadata": {},
   "source": [
    "1) 母體$\\mu=np=1*0.7=0.7$  \n",
    "$\\sigma^2=np(1-p)=0.7*0.3=0.21$  \n",
    "2) 令隨機變數$X_1,....X_{210}$  \n",
    "$X_i=1 pass$  \n",
    "$X_i=0 fail$  \n",
    "$X_{210}bar = \\frac{X_1+X_2..X_{210}}{210}$  \n",
    "$\\mu_X = \\mu = 0.7$  \n",
    "$\\sigma_X^2 = \\frac{\\sigma^2}{210} = 0.001 $"
   ]
  },
  {
   "cell_type": "code",
   "execution_count": 6,
   "metadata": {},
   "outputs": [
    {
     "name": "stdout",
     "output_type": "stream",
     "text": [
      "通過人數 >126 的機率：0.999217\n"
     ]
    }
   ],
   "source": [
    "# 應用 CLT 計算通過人數 > 126 的機率\n",
    "z = (126./210. - 0.7) / np.sqrt(0.001)\n",
    "print(\"通過人數 >126 的機率：{0:0.6f}\".format(1 - stats.norm.cdf(z, loc = 0, scale = 1)))"
   ]
  },
  {
   "cell_type": "markdown",
   "metadata": {},
   "source": [
    "***\n",
    "### n位考生計算通過人數大於m的機率 \n",
    "$P(X_1+...+X_{n} \\geq m)$  \n",
    "其實可視為 $P(\\frac{X_1+...+X_{n}}{n} \\geq \\frac{m}{n})$  \n",
    "= $P(Z \\geq \\frac{\\overline{X}-\\mu}{\\sigma/\\sqrt{n}})$  \n",
    "其中  \n",
    "$\\overline{X}_{n}$ = $\\frac{X_1+....X_{n}}{n}$  \n",
    "\n",
    "***\n"
   ]
  },
  {
   "cell_type": "code",
   "execution_count": 7,
   "metadata": {},
   "outputs": [
    {
     "data": {
      "text/plain": [
       "{'zvalue': -3.162278, 'CLT_prob': 0.9992172988709987}"
      ]
     },
     "execution_count": 7,
     "metadata": {},
     "output_type": "execute_result"
    }
   ],
   "source": [
    "#  請應用CLT計算「考生及格人數大於某數量的機率」之副程式 CLT_passprob：\n",
    "def CLT_passprob(x, n, p, digit):\n",
    "    # 樣本平均數 xbar： 其中xi通過=1, 不通過=0, 通過x人 ---> X1+...Xn = x\n",
    "    xbar = x / n\n",
    "    # 理論上的母體平均數 mu 與變異數 sigma2：\n",
    "    mu = p\n",
    "    #np(1-p), n=1\n",
    "    sigma2 = p*(1-p)\n",
    "    \n",
    "    # 樣本的平均數 xbar.mu 與變異數 xbar.sigma2：\n",
    "    xbar_mu = mu\n",
    "    xbar_sigma2 = sigma2/n\n",
    "    \n",
    "     # 標準化 Z-Score：\n",
    "    z = (xbar - xbar_mu)/np.sqrt(xbar_sigma2)\n",
    "    #小數點下6位\n",
    "    zvalue = round(z, digit)\n",
    "    # Z ~ N(0, 1)，計算 P(Z > zvalue) = right_prob：\n",
    "    #因為標準常態分佈對稱, P(Z > ...) = 1-P(Z < ...)\n",
    "    right_prob = 1 - stats.norm.cdf(z, loc = 0, scale = 1)\n",
    "    \n",
    "    return {\"zvalue\": zvalue, \"CLT_prob\": right_prob}\n",
    "# digit for round Z\n",
    "CLT_passprob(x = 126, n = 210, p = 0.7, digit = 6)"
   ]
  },
  {
   "cell_type": "markdown",
   "metadata": {},
   "source": [
    "生出女兒，或生了3個孩子就停止，請計算有女兒的機率：  \n",
    "生出女孩的機率 0.49，生出男孩 0.51  \n",
    "女孩：0-48 / 男孩：49-99  "
   ]
  },
  {
   "cell_type": "markdown",
   "metadata": {},
   "source": [
    "### 1) 計算母體平均數跟變異數\n",
    "令隨機變數X=1表示生出女生, X=0表示生出男生\n",
    "Pr(X=1) = 0.49  \n",
    "Pr(X=0) = 0.51  "
   ]
  },
  {
   "cell_type": "code",
   "execution_count": 25,
   "metadata": {},
   "outputs": [
    {
     "name": "stdout",
     "output_type": "stream",
     "text": [
      "(82)男(20)女+\n",
      "\n",
      "(50)男(15)女+\n",
      "\n",
      "(50)男(8)女+\n",
      "\n",
      "(90)男(2)女+\n",
      "\n",
      "(88)男(34)女+\n",
      "\n",
      "(18)女+\n",
      "\n",
      "(4)女+\n",
      "\n",
      "(1)女+\n",
      "\n",
      "(18)女+\n",
      "\n",
      "(23)女+\n",
      "\n",
      "1.000000\n",
      "\n"
     ]
    }
   ],
   "source": [
    "def girl_burn(n=1):\n",
    "    girl_count=0\n",
    "    for i in range(n):\n",
    "        count=0\n",
    "        while True:\n",
    "            rnd = np.random.randint(100)\n",
    "            print(\"({})\".format(rnd), end=\"\")\n",
    "            # numpy.where(condition[, x, y]), x\n",
    "            is_girl = np.where(rnd <= 48, True, False)\n",
    "            count += 1\n",
    "            if (is_girl):\n",
    "                girl_count += 1\n",
    "                print(\"女+\", end=\"\")\n",
    "                break\n",
    "            elif (count == 3):\n",
    "                print(\"男\".format(rnd), end=\"\")\n",
    "                break\n",
    "            else:\n",
    "                print(\"男\".format(rnd), end=\"\")\n",
    "        #it is girl\n",
    "        print(\"\\n\" )\n",
    "    p = girl_count / n\n",
    "    print(\"%f\\n\" % p)\n",
    "        \n",
    "girl_burn(10)"
   ]
  },
  {
   "cell_type": "markdown",
   "metadata": {},
   "source": [
    "### CTL 驗證\n"
   ]
  },
  {
   "cell_type": "code",
   "execution_count": 41,
   "metadata": {},
   "outputs": [
    {
     "name": "stdout",
     "output_type": "stream",
     "text": [
      "(10, 500)\n"
     ]
    },
    {
     "data": {
      "image/png": "[encoded data removed]",
      "text/plain": [
       "<Figure size 720x576 with 10 Axes>"
      ]
     },
     "metadata": {
      "needs_background": "light"
     },
     "output_type": "display_data"
    },
    {
     "data": {
      "image/png": "[encoded data removed]",
      "text/plain": [
       "<Figure size 432x288 with 1 Axes>"
      ]
     },
     "metadata": {
      "needs_background": "light"
     },
     "output_type": "display_data"
    },
    {
     "data": {
      "image/png": "[encoded data removed]",
      "text/plain": [
       "<Figure size 432x288 with 1 Axes>"
      ]
     },
     "metadata": {
      "needs_background": "light"
     },
     "output_type": "display_data"
    }
   ],
   "source": [
    "import numpy as np \n",
    "import pylab \n",
    "import scipy.stats as stats\n",
    "# Xi ~ U(umin, umax)，觀察樣本平均數的抽樣分配\n",
    "# 重複不同的樣本數，當樣本數 n.sample 越大，樣本平均數的抽樣分配越趨近於 CLT 的結論：\n",
    "\n",
    "def CLT_unif(umin, umax, n_sample, n_repeated):\n",
    "    fig, axs = plt.subplots(math.ceil(n_sample/5), 5, squeeze=False, sharey=True, figsize=(10,4*math.ceil(n_sample/5)))\n",
    "    # 請生成零矩陣（Zero Matrix），維度 n.sample * n.repeated：\n",
    "    RandomSample = np.zeros((n_sample, n_repeated))\n",
    "    # 每次抽樣 n.sample 個樣本，並將此過程重複操作 n.repeated 次：\n",
    "    for i in range(n_repeated):\n",
    "        # X_1, X_2, ...., X_n.sample ~ U(umin, umax)：rnumber is a vector\n",
    "        # uniform.rvs(loc=0, scale=1, size=1, random_state=None)\n",
    "        rnumber = stats.uniform.rvs(umin, umax, size = n_sample)\n",
    "        # 將每次抽樣結果 rnumber 存入樣本矩陣 RandomSample 的每一行(column)：\n",
    "        RandomSample[:, i] = rnumber\n",
    "    print(RandomSample.shape)\n",
    "    # 以直方圖(Histogram)觀察每次抽樣的分配結果：\n",
    "    # 重複觀察抽樣分配結果 min(n.repeated, n.smaple) 次\n",
    "    for i in range(min(n_repeated, n_sample)):\n",
    "        title = str(i+1) + \" - th sampling\"\n",
    "        axs[i//5, i%5].set_title(title)\n",
    "        axs[i//5, i%5].hist(RandomSample[:, i], label = title)\n",
    "    plt.show()\n",
    "    #\n",
    "    # 請計算每一行的樣本平均值(column mean of sample)：\n",
    "    # 將每次抽樣的分配結果各自計算平均，並依序儲存於抽樣平均值向量 SampleMean\n",
    "    # Hint: 計算 RandomSample 每一行(column)的平均值\n",
    "    SampleMean = RandomSample.mean(axis = 0) \n",
    "    #print(SampleMean.shape)\n",
    "    plt.hist(SampleMean, bins=30)\n",
    "    plt.show()\n",
    "    # qqnorm\n",
    "    stats.probplot(SampleMean, dist=\"norm\", plot=pylab)\n",
    "    pylab.show()\n",
    "  \n",
    "    #pylab.show()\n",
    "    \n",
    "CLT_unif(5, 80, 10, 500)"
   ]
  },
  {
   "cell_type": "code",
   "execution_count": null,
   "metadata": {},
   "outputs": [],
   "source": []
  }
 ],
 "metadata": {
  "kernelspec": {
   "display_name": "myKernel",
   "language": "python",
   "name": "mykernel"
  },
  "language_info": {
   "codemirror_mode": {
    "name": "ipython",
    "version": 3
   },
   "file_extension": ".py",
   "mimetype": "text/x-python",
   "name": "python",
   "nbconvert_exporter": "python",
   "pygments_lexer": "ipython3",
   "version": "3.6.7"
  }
 },
 "nbformat": 4,
 "nbformat_minor": 2
}
