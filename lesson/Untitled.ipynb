{
 "cells": [
  {
   "cell_type": "code",
   "execution_count": 1,
   "metadata": {},
   "outputs": [],
   "source": []
  },
  {
   "cell_type": "code",
   "execution_count": 49,
   "metadata": {},
   "outputs": [],
   "source": [
    "class NeoDecisionTreeClassifier:\n",
    "    def __init__(self):\n",
    "        pass\n",
    "    def fit(self,X,y):\n",
    "        pass\n",
    "    def __repr__(self):\n",
    "        return \"AAAA\"\n"
   ]
  },
  {
   "cell_type": "code",
   "execution_count": 50,
   "metadata": {},
   "outputs": [
    {
     "data": {
      "text/plain": [
       "AAAA"
      ]
     },
     "execution_count": 50,
     "metadata": {},
     "output_type": "execute_result"
    }
   ],
   "source": [
    "#Toy dataset\n",
    "#column3 is label\n",
    "training_data = [\n",
    "    ['Green', 3, 'Apple'],\n",
    "    ['Yellow', 3, 'Apple'],\n",
    "    ['Red', 1, 'Grape'],\n",
    "    ['Red', 1, 'Grape'],\n",
    "    ['Yellow', 3, 'Lemon'],\n",
    "]\n",
    "\n",
    "X_train = [row[0:2] for row in training_data]\n",
    "y_train = [row[2] for row in training_data]\n",
    "#print(y_train)\n",
    "#X_train = training_data[:]\n",
    "#print(X_train)\n",
    "\n",
    "#Column labels.\n",
    "header = [\"color\", \"diameter\", \"label\"]\n",
    "\n",
    "model = NeoDecisionTreeClassifier()\n",
    "model\n",
    "#model.fit(X_train,y_train)"
   ]
  },
  {
   "cell_type": "code",
   "execution_count": 67,
   "metadata": {},
   "outputs": [],
   "source": [
    "# Evaluate\n",
    "testing_data = [\n",
    "    ['Green', 3, 'Apple'],\n",
    "    ['Yellow', 4, 'Apple'],\n",
    "    ['Red', 2, 'Grape'],\n",
    "    ['Red', 1, 'Grape'],\n",
    "    ['Yellow', 3, 'Lemon'],\n",
    "]\n",
    "X_test = [row[0:2] for row in testing_data]\n",
    "y_test = [row[2] for row in testing_data]\n",
    "\n"
   ]
  },
  {
   "cell_type": "code",
   "execution_count": 223,
   "metadata": {},
   "outputs": [
    {
     "name": "stdout",
     "output_type": "stream",
     "text": [
      "traversal: [50, 1, 2, 3, 4, 5, 6, 7, 8, 9, 10, 11, 12, 13, 14, 15, 16, 17, 18, 19, 20, 21, 22, 23, 24, 25, 26, 27, 28, 29, 30, 31, 32, 33, 34, 35, 36, 37, 38, 39, 40, 41, 42, 43, 44, 45, 46, 47, 48, 49, 50, 51, 52, 53, 54, 55, 56, 57, 58, 59, 60, 61, 62, 63, 64, 65, 66, 67, 68, 69, 70, 71, 72, 73, 74, 75, 76, 77, 78, 79, 80, 81, 82, 83, 84, 85, 86, 87, 88, 89, 90, 91, 92, 93, 94, 95, 96, 97, 98, 99]\n",
      "depth: 50\n",
      "\n"
     ]
    }
   ],
   "source": [
    "\n",
    "class treenode:\n",
    "    def __init__(self,val=0,l=None,r=None, p=None):\n",
    "        self.value = val\n",
    "        self.leftchild = l\n",
    "        self.rightchild = r  \n",
    "        self.parent = p\n",
    "        \n",
    "class binary_tree:\n",
    "    def __init__(self,val=0):\n",
    "        self.root = treenode(val)\n",
    "\n",
    "    def add(self,val,node=None):\n",
    "        if (node == None):\n",
    "            node = self.root\n",
    "        if (node):\n",
    "            if (val > node.value):\n",
    "                if (node.rightchild):\n",
    "                    #go next node\n",
    "                    self.add(val,node.rightchild)\n",
    "                else:\n",
    "                    #create node\n",
    "                    node.rightchild = treenode(val)\n",
    "                    node.rightchild.parent = node\n",
    "            else:\n",
    "                if (node.leftchild):\n",
    "                    #go next node\n",
    "                    self.add(val,node.leftchild)\n",
    "                else:\n",
    "                    #create node\n",
    "                    node.leftchild = treenode(val)\n",
    "                    node.leftchild.parent = node\n",
    "\n",
    "    def traversal(self,node,path):\n",
    "        if (node):\n",
    "            #print(node.value)\n",
    "            path.extend([node])\n",
    "            self.traversal(node.leftchild,path)\n",
    "            self.traversal(node.rightchild,path)\n",
    "\n",
    "    def is_leaf(self,node):\n",
    "        if ((node.leftchild == None) and (node.rightchild == None)):\n",
    "            return True\n",
    "        return False\n",
    "    def move_to_parent(self,node,count):\n",
    "        if (node != self.root):\n",
    "            count = self.move_to_parent(node.parent,count + 1)\n",
    "            return count\n",
    "        else:\n",
    "            return count\n",
    "    def __repr__(self):\n",
    "        path = []\n",
    "        msg=''\n",
    "        self.traversal(self.root,path)\n",
    "        msg += \"traversal: %s\\n\"%([n.value for n in path])\n",
    "        depth = 0\n",
    "        for n in path:\n",
    "            if self.is_leaf(n):\n",
    "                cnt = self.move_to_parent(n,0)\n",
    "                depth = max(depth,cnt)\n",
    "        msg += \"depth: %d\\n\"%(depth)\n",
    "        return msg\n",
    "    pass\n",
    "\n",
    "t = binary_tree(50)\n",
    "for i in range(1,100):\n",
    "    t.add(i)\n",
    "\n",
    "print(t)\n",
    "\n"
   ]
  },
  {
   "cell_type": "code",
   "execution_count": 170,
   "metadata": {},
   "outputs": [
    {
     "data": {
      "text/plain": [
       "2"
      ]
     },
     "execution_count": 170,
     "metadata": {},
     "output_type": "execute_result"
    }
   ],
   "source": [
    "t.root.leftchild.rightchild.value"
   ]
  },
  {
   "cell_type": "code",
   "execution_count": 374,
   "metadata": {},
   "outputs": [
    {
     "name": "stdout",
     "output_type": "stream",
     "text": [
      "max_gain=0.720000\n",
      "Is data[1] >= 1\n"
     ]
    }
   ],
   "source": [
    "\n",
    "class Condition:\n",
    "    def __init__(self,val,column):\n",
    "        self.val = val\n",
    "        self.column = column\n",
    "        pass  \n",
    "    def __repr__(self):\n",
    "        if (isinstance(self.val, int) or isinstance(self.val, float)):\n",
    "            msg = 'Is data[%d] >= %s' % (self.column,str(self.val))\n",
    "        else:\n",
    "            msg = 'Is data[%d] == %s' % (self.column,self.val)\n",
    "        return msg\n",
    "    def match(self, test_data):\n",
    "        if (isinstance(self.val, int) or isinstance(self.val, float)):\n",
    "            return (test_data[self.column] >= self.val) \n",
    "        else:\n",
    "            return (test_data[self.column] == self.val)           \n",
    "\n",
    "class decision_node:\n",
    "    def __init__(self,condition,true_branch=None,false_branch=None, p=None):\n",
    "        self.condition = condition\n",
    "        self.true_branch = true_branch\n",
    "        self.false_branch = false_branch \n",
    "        self.parent = p\n",
    "        \n",
    "class decision_tree:\n",
    "    def __init__(self,X,y):\n",
    "        transport = list(zip(*X))\n",
    "        transport.append(y)\n",
    "        self.data_with_label = list(zip(*transport))\n",
    "        self.find_bast_condition(self.data_with_label)\n",
    "        \n",
    "    def find_bast_condition(self,data_with_label):\n",
    "        current_uncertainty = self.gini([row[-1] for row in data_with_label])\n",
    "        n_features = len(data_with_label[0])-1\n",
    "        max_gain = 0\n",
    "        best_condition = None\n",
    "        for i in range(n_features):\n",
    "            sets = set([row[i] for row in data_with_label])\n",
    "            for j in sets:\n",
    "                c = Condition(j,i)\n",
    "                left_data,right_data = self.split_by_condition(data_with_label,c)\n",
    "                gain = self.gini_gain(left_data, right_data, current_uncertainty)\n",
    "                if (max_gain < gain):\n",
    "                    best_condition = c\n",
    "                    max_gain = gain\n",
    "        print(\"max_gain=%f\"%max_gain)\n",
    "        print(\"%s\"%best_condition)\n",
    "        return max_gain, best_condition\n",
    "\n",
    "    def gini(self, data):\n",
    "        count = self.gen_count_dict(data)\n",
    "        impurity = 1\n",
    "        for d in count:\n",
    "            impurity -= (count[d] / float(len(data)))**2\n",
    "        return impurity\n",
    "    def gini_gain(self, left_data, right_data, current_uncertainty):\n",
    "        p = float(len(left_data)) /  float(len(left_data)+len(right_data))\n",
    "        return p*self.gini(left_data) + (1-p)*self.gini(right_data)\n",
    "    def gen_count_dict(self,data):\n",
    "        count = {}\n",
    "        for val in data:\n",
    "            if val not in count:\n",
    "                count[val] = 0\n",
    "            count[val] += 1                 \n",
    "        return count\n",
    "    def split_by_condition(self,data,condition):\n",
    "        #return 2 sets\n",
    "        true_set = []\n",
    "        false_set = []\n",
    "        for val in data:\n",
    "            if condition.match(val):\n",
    "                true_set.extend([val])\n",
    "            else:\n",
    "                false_set.extend([val])\n",
    "        return  true_set, false_set     \n",
    "        pass\n",
    "    def add_true_branch_node(self,node,condition):\n",
    "        node.true_branch = decision_node(condition)\n",
    "    def add_false_branch_node(self,node,condition):\n",
    "        node.false_branch = decision_node(condition)\n",
    "    def __repr__(self):\n",
    "        return ''\n",
    "\n",
    "training_data = [\n",
    "    ['Green', 3, 'Apple'],\n",
    "    ['Yellow', 3, 'Apple'],\n",
    "    ['Red', 1, 'Grape'],\n",
    "    ['Red', 1, 'Grape'],\n",
    "    ['Yellow', 3, 'Lemon'],\n",
    "]\n",
    "\n",
    "X_train = [row[0:2] for row in training_data]\n",
    "y_train = [row[2] for row in training_data]\n",
    "\n",
    "dt = decision_tree(X_train,y_train)\n",
    "#dt.add_true_branch_node(dt.root,Condition(1))"
   ]
  },
  {
   "cell_type": "code",
   "execution_count": null,
   "metadata": {},
   "outputs": [],
   "source": []
  },
  {
   "cell_type": "code",
   "execution_count": null,
   "metadata": {},
   "outputs": [],
   "source": []
  }
 ],
 "metadata": {
  "kernelspec": {
   "display_name": "myKernel",
   "language": "python",
   "name": "mykernel"
  },
  "language_info": {
   "codemirror_mode": {
    "name": "ipython",
    "version": 3
   },
   "file_extension": ".py",
   "mimetype": "text/x-python",
   "name": "python",
   "nbconvert_exporter": "python",
   "pygments_lexer": "ipython3",
   "version": "3.7.2"
  }
 },
 "nbformat": 4,
 "nbformat_minor": 2
}
