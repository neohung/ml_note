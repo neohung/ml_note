{
 "cells": [
  {
   "cell_type": "markdown",
   "metadata": {},
   "source": [
    "### Binomial distribution X~B(n,p)\n",
    "是n個獨立的(是/非)試驗中成功的次數的離散機率分布，其中每次試驗k次成功機率為p  \n",
    "![]( https://upload.wikimedia.org/wikipedia/commons/thumb/7/75/Binomial_distribution_pmf.svg/450px-Binomial_distribution_pmf.svg.png )\n",
    "\n",
    "計算公式:\n",
    "$Pr(X=x) = C_x^np^x(1-p)^{n-x}$  \n",
    "C為組合數  \n",
    "\n",
    "***\n",
    "ex:\n",
    "假設失業率20%, 抽14人為樣本  \n",
    "1) 剛好3人失業機率  \n",
    "2) 至少3人失業機率  \n",
    "3) 至少1人失業機率\n",
    "\n",
    "> 1) 14次試驗有3次成功 n=14,Pr(X=3)  \n",
    "$C_{3}^{14}(0.2)^3(1-0.2)^{14-3} = 0.2501$  \n",
    "\n",
    "> 2) 14次試驗大於3次成功 Pr(X>=3)  \n",
    "$C_{3}^{14}(0.2)^3(1-0.2)^{14-3}+...(0.2)^4(1-0.2)^{14-4}...(0.2)^{14}(1-0.2)^{14-14}=0.551$  \n",
    "\n",
    "> 3) 14次試驗大於1次成功=[1 - 14次試驗0次成功]  \n",
    "Pr(X>=1) = 1-Pr(X=0)  \n",
    "$1- C_{0}^{14}(0.2)^0(1-0.2)^{14} = 0.551$\n",
    "***\n",
    "\n",
    "$f(k;n,p) = Pr(X=k) = \\cfrac{n!}{k!(n-k)!}p^k(1-p)^{n-k}$  \n",
    "當k=1,表示一次試驗  \n",
    "$f(k=1; n,p) = Pr(X=1) = p(1-p)^{1-1} = p$  \n",
    "\n",
    "X~B(n,p)表示隨機變數X服從Binomial distribution  \n",
    "$E[X]=np$  \n",
    "$Var(X) = np(1-p)$  \n",
    "- 假設X=1發生機率為p, X=0發生機率為1-p,  \n",
    "  做一次試驗的期望值$\\mu= E[X] =1*p+0*(1-p)=p$  \n",
    "  做一次試驗的變異數$Var(X) = \\sigma^2 = p*(1-p)$  \n",
    "  n次試驗的期望值 = np  \n",
    "  n次試驗的變異數 = np*(1-p)  \n",
    "ex: 投擲一均勻銅幣6次，恰得2次正面之機率  \n",
    "$ \\cfrac{6!}{2!(6-2)!}p^2(1-p)^{6-2}$, p=0.5, Ans=$\\frac{15}{64}$"
   ]
  },
  {
   "cell_type": "code",
   "execution_count": null,
   "metadata": {},
   "outputs": [],
   "source": []
  }
 ],
 "metadata": {
  "kernelspec": {
   "display_name": "myKernel",
   "language": "python",
   "name": "mykernel"
  },
  "language_info": {
   "codemirror_mode": {
    "name": "ipython",
    "version": 3
   },
   "file_extension": ".py",
   "mimetype": "text/x-python",
   "name": "python",
   "nbconvert_exporter": "python",
   "pygments_lexer": "ipython3",
   "version": "3.6.7"
  }
 },
 "nbformat": 4,
 "nbformat_minor": 2
}
