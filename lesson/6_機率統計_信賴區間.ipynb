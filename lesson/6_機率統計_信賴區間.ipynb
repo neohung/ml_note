{
 "cells": [
  {
   "cell_type": "markdown",
   "metadata": {},
   "source": [
    "# 信賴區間 (Confidence interval)\n",
    "對產生這樣本的母體的參數分佈中的某一個未知參數值, 以區間的形式給出估計 \n",
    "***\n",
    "常態分布都遵循68-95-99.7規則\n",
    "- 68%的觀測值會落在距平均數一個標準差的範圍內。\n",
    "- 95%的觀測值會落在距平均數二個標準差的範圍內。\n",
    "- 99.7%的觀測值會落在距平均數三個標準差的範圍內。\n"
   ]
  },
  {
   "cell_type": "code",
   "execution_count": 2,
   "metadata": {},
   "outputs": [],
   "source": [
    "import scipy.stats as stats\n",
    "import matplotlib.pyplot as plt\n",
    "import math\n",
    "import pandas as pd\n",
    "import numpy as np\n",
    "%matplotlib inline"
   ]
  },
  {
   "cell_type": "markdown",
   "metadata": {},
   "source": [
    "### 樣本比例之抽樣分布 (CLT)\n",
    "從一個成功比例為p 的很大母體抽取一個大小為n的SRS（簡單隨機樣本）。  \n",
    "$\\overline{p} = \\frac{樣本中成功的計數}{n}$ \n",
    "當n足夠大時:\n",
    "- p的分佈近似常態\n",
    "- 平均數$\\mu$跟母體相同\n",
    "- 標準差$\\sigma=\\sqrt{\\frac{p(1-p)}{n}}$"
   ]
  },
  {
   "cell_type": "markdown",
   "metadata": {},
   "source": [
    "### ＿\n",
    "對$\\overline{p}$來說有95%的機會落在平均值p加減2的標準差的範圍內  \n",
    "$| \\overline{p}-p |<2\\sqrt{\\frac{p(1-p)}{n}}$  \n",
    "也可以如下表達可以涵蓋p的區間  \n",
    "$\\overline{p}\\pm 2\\sigma$  \n",
    "$\\overline{p}\\pm 2\\sqrt{\\frac{p(1-p)}{n}}$  \n",
    "假設$\\overline{p}$近似p  \n",
    "$\\overline{p}\\pm 2\\sqrt{\\frac{\\overline{p}( 1-\\overline{p} )}{n}}$  "
   ]
  },
  {
   "cell_type": "markdown",
   "metadata": {},
   "source": [
    "民調表示高達6成7的民眾表示曾親自接到詐騙電話, 成功訪問到的人有912位\n",
    "在95%信心水準下, 誤差在正負3.2個百分比"
   ]
  },
  {
   "cell_type": "markdown",
   "metadata": {},
   "source": [
    "$\\overline{p}=0.67$  \n",
    "$\\overline{p}\\pm 2\\sqrt{\\frac{0.67(1-0.67)}{912}}$ = 0.67$\\pm$2*0.01557 =  0.67$\\pm0.032$  \n",
    "=(0.639,0.701)"
   ]
  },
  {
   "cell_type": "markdown",
   "metadata": {},
   "source": [
    "施政滿意度調查以電話號碼後四碼隨機抽樣, 成功訪問1068位民眾  \n",
    "在95%的信心水準下, 滿意度3成9, 抽樣誤差為正負3.0個百分點"
   ]
  },
  {
   "cell_type": "markdown",
   "metadata": {},
   "source": [
    "信賴區間 (0.36,0.42)"
   ]
  },
  {
   "cell_type": "markdown",
   "metadata": {},
   "source": [
    "95%的信心水準的意思是指：  \n",
    "如果我們重複抽樣很多次，每次都會得到一個信賴區間，  \n",
    "那麼這麼多的信賴區間中，約有 95%的區間會涵蓋真正的 p 值。 (機率: 有95%會涵蓋p值)"
   ]
  },
  {
   "cell_type": "markdown",
   "metadata": {},
   "source": [
    "假設X~B(n,p)  \n",
    "令隨機變數$\\overline{p}$為$\\frac{X}{n}$  \n",
    "則期望值E[$\\overline{p}$] = p  \n",
    "標準差$\\sigma_\\overline{p} = \\sqrt{\\frac{p(1-p)}{n}}$  \n",
    "\n",
    "### 由中央極限定理, 當n足夠大時, $\\overline{p}$標準化後的分佈會趨近標準常態分佈  \n",
    "Pr(| Z |$\\leq$ 1) = 68%  \n",
    "Pr(| Z |$\\leq$ 2) = 95%  \n",
    "Pr(| Z |$\\leq$ 3) = 97.5%  \n",
    "For Two-tails 雙邊, 1-alpha/2, 對95%令alpha=0.05, Z=1-0.05/2=0.975\n",
    "Pr($|\\frac{\\overline{p}-p}{\\sqrt{\\frac{p( 1-p )}{n}}}| \\leq 1或2或3$)  \n",
    "信心水準68% 區間$[ \\overline{p} - \\sqrt{\\frac{\\overline{p}( 1-\\overline{p} )}{n}}, \\overline{p} + \\sqrt{\\frac{\\overline{p}( 1-\\overline{p} )}{n}}]$  \n",
    "信心水準95% 區間$[ \\overline{p} - 2\\sqrt{\\frac{\\overline{p}( 1-\\overline{p} )}{n}}, \\overline{p} + 2\\sqrt{\\frac{\\overline{p}( 1-\\overline{p} )}{n}}]$  \n",
    "信心水準97.5% 區間$[ \\overline{p} - 3\\sqrt{\\frac{\\overline{p}( 1-\\overline{p} )}{n}}, \\overline{p} + 3\\sqrt{\\frac{\\overline{p}( 1-\\overline{p} )}{n}}]$  \n",
    "\n"
   ]
  },
  {
   "cell_type": "markdown",
   "metadata": {},
   "source": [
    "***\n",
    "抽樣人數 n = 100 ; 樣本平均時間 xbar = 21.2 小時  \n",
    "母體看電視時間的標準差 sigma = 8 小時  \n",
    "估計 95% 信心水準下，老年人每星期看電視平均時間的信賴區間？  \n",
    "\n",
    "假設樣本平均時間的抽樣分配服從常態分佈: xbar ~ N(mu_xbar, sigma_xbar)  "
   ]
  },
  {
   "cell_type": "code",
   "execution_count": 7,
   "metadata": {},
   "outputs": [
    {
     "data": {
      "text/plain": [
       "[19.632028812367956, 22.767971187632043]"
      ]
     },
     "execution_count": 7,
     "metadata": {},
     "output_type": "execute_result"
    }
   ],
   "source": [
    "def Interval_estimation(n, xbar, sigma, alpha):\n",
    "    # standard error of the mean:\n",
    "    se = sigma / np.sqrt(n)\n",
    "    \n",
    "    # margin of error:\n",
    "    # Hint: Z_(0.05/2) for Two-tails\n",
    "    E = stats.norm.ppf(1 - alpha/2, loc = 0, scale = 1) * se\n",
    "    \n",
    "    # (1 - alpha)% Confidence Interval of Population mean with Known Variance:\n",
    "    Interval = [xbar - E, xbar + E]\n",
    "    #\n",
    "    return Interval\n",
    "\n",
    "#設alpha = 0.05 \n",
    "Interval_estimation(n = 100, xbar = 21.2, sigma = 8, alpha = 0.05)"
   ]
  },
  {
   "cell_type": "markdown",
   "metadata": {},
   "source": [
    "改為\"樣本\"看電視時間的標準差 std = 8 小時，其餘條件與前一題一樣\n",
    "\n",
    "- 標準差是從樣本來的, 我們要n-1取代n, 使用t分佈df設為n - 1 (無母數估計)"
   ]
  },
  {
   "cell_type": "code",
   "execution_count": 8,
   "metadata": {},
   "outputs": [
    {
     "data": {
      "text/plain": [
       "[19.612626438793054, 22.787373561206945]"
      ]
     },
     "execution_count": 8,
     "metadata": {},
     "output_type": "execute_result"
    }
   ],
   "source": [
    "# 改為樣本看電視時間的標準差 std = 8 小時，其餘條件與前一題一樣\n",
    "def Interval_estimation(n, xbar, sigma, alpha):\n",
    "    # standard error of the mean:\n",
    "    se = sigma / np.sqrt(n)\n",
    "    \n",
    "    # margin of error:\n",
    "    # Hint: T_(0.05/2, n-1) for Two-tails\n",
    "    E = stats.t.ppf(1 - alpha/2, df = n - 1) * se\n",
    "    \n",
    "    # (1 - alpha)% Confidence Interval of Population mean with Known Variance:\n",
    "    Interval = [xbar - E, xbar + E]\n",
    "    \n",
    "    return Interval\n",
    "\n",
    "Interval_estimation(n = 100, xbar = 21.2, sigma = 8, alpha = 0.05)"
   ]
  },
  {
   "cell_type": "markdown",
   "metadata": {},
   "source": [
    "***\n",
    "資料非常態分佈該如何  \n",
    "有可能是因為small size  \n",
    "或真的非常態  \n",
    "或small effect size  \n",
    "\n",
    "作資料轉換。  \n",
    "單峰左右偏的資料,單獨做數學的轉換即可, 如log  \n",
    "雙峰可用無母數估計  \n",
    "***"
   ]
  },
  {
   "cell_type": "code",
   "execution_count": null,
   "metadata": {},
   "outputs": [],
   "source": []
  }
 ],
 "metadata": {
  "kernelspec": {
   "display_name": "myKernel",
   "language": "python",
   "name": "mykernel"
  },
  "language_info": {
   "codemirror_mode": {
    "name": "ipython",
    "version": 3
   },
   "file_extension": ".py",
   "mimetype": "text/x-python",
   "name": "python",
   "nbconvert_exporter": "python",
   "pygments_lexer": "ipython3",
   "version": "3.6.7"
  }
 },
 "nbformat": 4,
 "nbformat_minor": 2
}
